{
 "cells": [
  {
   "cell_type": "code",
   "execution_count": 1,
   "metadata": {},
   "outputs": [
    {
     "name": "stdout",
     "output_type": "stream",
     "text": [
      "Populating the interactive namespace from numpy and matplotlib\n"
     ]
    }
   ],
   "source": [
    "import warnings\n",
    "warnings.filterwarnings('ignore')\n",
    "\n",
    "import pandas as pd\n",
    "import seaborn as sns\n",
    "import matplotlib.pyplot as plt\n",
    "%pylab inline"
   ]
  },
  {
   "cell_type": "markdown",
   "metadata": {},
   "source": [
    "## Load Data"
   ]
  },
  {
   "cell_type": "code",
   "execution_count": 2,
   "metadata": {},
   "outputs": [],
   "source": [
    "file_name = '/Users/avichanales/Dropbox/Insight/Project/insight_project/data/external/charity_data.csv'\n",
    "all_charity = pd.read_csv(file_name)"
   ]
  },
  {
   "cell_type": "code",
   "execution_count": 3,
   "metadata": {},
   "outputs": [
    {
     "data": {
      "text/plain": [
       "Index(['ascore', 'category', 'description', 'ein', 'tot_exp', 'admin_exp_p',\n",
       "       'fund_eff', 'fund_exp_p', 'program_exp_p', 'fscore', 'leader',\n",
       "       'leader_comp', 'leader_comp_p', 'motto', 'name', 'tot_rev', 'score',\n",
       "       'state', 'subcategory', 'size', 'program_exp', 'fund_exp', 'admin_exp'],\n",
       "      dtype='object')"
      ]
     },
     "execution_count": 3,
     "metadata": {},
     "output_type": "execute_result"
    }
   ],
   "source": [
    "all_charity.columns"
   ]
  },
  {
   "cell_type": "code",
   "execution_count": 4,
   "metadata": {},
   "outputs": [
    {
     "data": {
      "text/plain": [
       "ascore           float64\n",
       "category          object\n",
       "description       object\n",
       "ein               object\n",
       "tot_exp          float64\n",
       "admin_exp_p      float64\n",
       "fund_eff         float64\n",
       "fund_exp_p       float64\n",
       "program_exp_p    float64\n",
       "fscore           float64\n",
       "leader            object\n",
       "leader_comp      float64\n",
       "leader_comp_p    float64\n",
       "motto             object\n",
       "name              object\n",
       "tot_rev          float64\n",
       "score            float64\n",
       "state             object\n",
       "subcategory       object\n",
       "size              object\n",
       "program_exp      float64\n",
       "fund_exp         float64\n",
       "admin_exp        float64\n",
       "dtype: object"
      ]
     },
     "execution_count": 4,
     "metadata": {},
     "output_type": "execute_result"
    }
   ],
   "source": [
    "all_charity.dtypes"
   ]
  },
  {
   "cell_type": "code",
   "execution_count": 5,
   "metadata": {},
   "outputs": [
    {
     "data": {
      "text/html": [
       "<div>\n",
       "<style scoped>\n",
       "    .dataframe tbody tr th:only-of-type {\n",
       "        vertical-align: middle;\n",
       "    }\n",
       "\n",
       "    .dataframe tbody tr th {\n",
       "        vertical-align: top;\n",
       "    }\n",
       "\n",
       "    .dataframe thead th {\n",
       "        text-align: right;\n",
       "    }\n",
       "</style>\n",
       "<table border=\"1\" class=\"dataframe\">\n",
       "  <thead>\n",
       "    <tr style=\"text-align: right;\">\n",
       "      <th></th>\n",
       "      <th>ascore</th>\n",
       "      <th>tot_exp</th>\n",
       "      <th>admin_exp_p</th>\n",
       "      <th>fund_eff</th>\n",
       "      <th>fund_exp_p</th>\n",
       "      <th>program_exp_p</th>\n",
       "      <th>fscore</th>\n",
       "      <th>leader_comp</th>\n",
       "      <th>leader_comp_p</th>\n",
       "      <th>tot_rev</th>\n",
       "      <th>score</th>\n",
       "      <th>program_exp</th>\n",
       "      <th>fund_exp</th>\n",
       "      <th>admin_exp</th>\n",
       "    </tr>\n",
       "  </thead>\n",
       "  <tbody>\n",
       "    <tr>\n",
       "      <th>count</th>\n",
       "      <td>8408.000000</td>\n",
       "      <td>8.408000e+03</td>\n",
       "      <td>8408.000000</td>\n",
       "      <td>8408.000000</td>\n",
       "      <td>8408.000000</td>\n",
       "      <td>8408.000000</td>\n",
       "      <td>8408.000000</td>\n",
       "      <td>7.972000e+03</td>\n",
       "      <td>7972.000000</td>\n",
       "      <td>8.408000e+03</td>\n",
       "      <td>8408.000000</td>\n",
       "      <td>8.408000e+03</td>\n",
       "      <td>8.408000e+03</td>\n",
       "      <td>8.408000e+03</td>\n",
       "    </tr>\n",
       "    <tr>\n",
       "      <th>mean</th>\n",
       "      <td>90.724905</td>\n",
       "      <td>1.448428e+07</td>\n",
       "      <td>0.105755</td>\n",
       "      <td>0.108110</td>\n",
       "      <td>0.087736</td>\n",
       "      <td>0.805006</td>\n",
       "      <td>85.946183</td>\n",
       "      <td>1.641593e+05</td>\n",
       "      <td>0.039070</td>\n",
       "      <td>1.582723e+07</td>\n",
       "      <td>86.866904</td>\n",
       "      <td>1.243070e+07</td>\n",
       "      <td>8.929307e+05</td>\n",
       "      <td>1.138578e+06</td>\n",
       "    </tr>\n",
       "    <tr>\n",
       "      <th>std</th>\n",
       "      <td>9.771194</td>\n",
       "      <td>6.943732e+07</td>\n",
       "      <td>0.063382</td>\n",
       "      <td>0.087982</td>\n",
       "      <td>0.064882</td>\n",
       "      <td>0.094131</td>\n",
       "      <td>9.755404</td>\n",
       "      <td>1.453191e+05</td>\n",
       "      <td>0.034743</td>\n",
       "      <td>7.557658e+07</td>\n",
       "      <td>8.046299</td>\n",
       "      <td>6.349472e+07</td>\n",
       "      <td>4.355882e+06</td>\n",
       "      <td>4.362716e+06</td>\n",
       "    </tr>\n",
       "    <tr>\n",
       "      <th>min</th>\n",
       "      <td>28.000000</td>\n",
       "      <td>5.321300e+04</td>\n",
       "      <td>0.001000</td>\n",
       "      <td>0.010000</td>\n",
       "      <td>0.001000</td>\n",
       "      <td>0.047000</td>\n",
       "      <td>0.000000</td>\n",
       "      <td>0.000000e+00</td>\n",
       "      <td>0.000000</td>\n",
       "      <td>-2.049209e+06</td>\n",
       "      <td>14.480000</td>\n",
       "      <td>3.500383e+04</td>\n",
       "      <td>3.328500e+02</td>\n",
       "      <td>3.348400e+02</td>\n",
       "    </tr>\n",
       "    <tr>\n",
       "      <th>25%</th>\n",
       "      <td>89.000000</td>\n",
       "      <td>1.942998e+06</td>\n",
       "      <td>0.063000</td>\n",
       "      <td>0.050000</td>\n",
       "      <td>0.045000</td>\n",
       "      <td>0.757000</td>\n",
       "      <td>81.130000</td>\n",
       "      <td>8.997500e+04</td>\n",
       "      <td>0.015000</td>\n",
       "      <td>2.022281e+06</td>\n",
       "      <td>83.260000</td>\n",
       "      <td>1.509136e+06</td>\n",
       "      <td>1.421605e+05</td>\n",
       "      <td>1.788179e+05</td>\n",
       "    </tr>\n",
       "    <tr>\n",
       "      <th>50%</th>\n",
       "      <td>93.000000</td>\n",
       "      <td>3.656226e+06</td>\n",
       "      <td>0.095000</td>\n",
       "      <td>0.090000</td>\n",
       "      <td>0.077000</td>\n",
       "      <td>0.814000</td>\n",
       "      <td>87.460000</td>\n",
       "      <td>1.316330e+05</td>\n",
       "      <td>0.031550</td>\n",
       "      <td>3.951672e+06</td>\n",
       "      <td>88.310000</td>\n",
       "      <td>2.930645e+06</td>\n",
       "      <td>2.935981e+05</td>\n",
       "      <td>3.437180e+05</td>\n",
       "    </tr>\n",
       "    <tr>\n",
       "      <th>75%</th>\n",
       "      <td>97.000000</td>\n",
       "      <td>8.859808e+06</td>\n",
       "      <td>0.135000</td>\n",
       "      <td>0.140000</td>\n",
       "      <td>0.115000</td>\n",
       "      <td>0.865000</td>\n",
       "      <td>92.500000</td>\n",
       "      <td>1.977480e+05</td>\n",
       "      <td>0.053900</td>\n",
       "      <td>9.785276e+06</td>\n",
       "      <td>92.020000</td>\n",
       "      <td>7.215094e+06</td>\n",
       "      <td>6.431633e+05</td>\n",
       "      <td>7.745598e+05</td>\n",
       "    </tr>\n",
       "    <tr>\n",
       "      <th>max</th>\n",
       "      <td>100.000000</td>\n",
       "      <td>3.142984e+09</td>\n",
       "      <td>0.742000</td>\n",
       "      <td>1.430000</td>\n",
       "      <td>0.916000</td>\n",
       "      <td>0.997000</td>\n",
       "      <td>100.000000</td>\n",
       "      <td>3.691019e+06</td>\n",
       "      <td>0.532300</td>\n",
       "      <td>3.608002e+09</td>\n",
       "      <td>100.000000</td>\n",
       "      <td>2.809828e+09</td>\n",
       "      <td>2.011510e+08</td>\n",
       "      <td>1.574086e+08</td>\n",
       "    </tr>\n",
       "  </tbody>\n",
       "</table>\n",
       "</div>"
      ],
      "text/plain": [
       "            ascore       tot_exp  admin_exp_p     fund_eff   fund_exp_p  \\\n",
       "count  8408.000000  8.408000e+03  8408.000000  8408.000000  8408.000000   \n",
       "mean     90.724905  1.448428e+07     0.105755     0.108110     0.087736   \n",
       "std       9.771194  6.943732e+07     0.063382     0.087982     0.064882   \n",
       "min      28.000000  5.321300e+04     0.001000     0.010000     0.001000   \n",
       "25%      89.000000  1.942998e+06     0.063000     0.050000     0.045000   \n",
       "50%      93.000000  3.656226e+06     0.095000     0.090000     0.077000   \n",
       "75%      97.000000  8.859808e+06     0.135000     0.140000     0.115000   \n",
       "max     100.000000  3.142984e+09     0.742000     1.430000     0.916000   \n",
       "\n",
       "       program_exp_p       fscore   leader_comp  leader_comp_p       tot_rev  \\\n",
       "count    8408.000000  8408.000000  7.972000e+03    7972.000000  8.408000e+03   \n",
       "mean        0.805006    85.946183  1.641593e+05       0.039070  1.582723e+07   \n",
       "std         0.094131     9.755404  1.453191e+05       0.034743  7.557658e+07   \n",
       "min         0.047000     0.000000  0.000000e+00       0.000000 -2.049209e+06   \n",
       "25%         0.757000    81.130000  8.997500e+04       0.015000  2.022281e+06   \n",
       "50%         0.814000    87.460000  1.316330e+05       0.031550  3.951672e+06   \n",
       "75%         0.865000    92.500000  1.977480e+05       0.053900  9.785276e+06   \n",
       "max         0.997000   100.000000  3.691019e+06       0.532300  3.608002e+09   \n",
       "\n",
       "             score   program_exp      fund_exp     admin_exp  \n",
       "count  8408.000000  8.408000e+03  8.408000e+03  8.408000e+03  \n",
       "mean     86.866904  1.243070e+07  8.929307e+05  1.138578e+06  \n",
       "std       8.046299  6.349472e+07  4.355882e+06  4.362716e+06  \n",
       "min      14.480000  3.500383e+04  3.328500e+02  3.348400e+02  \n",
       "25%      83.260000  1.509136e+06  1.421605e+05  1.788179e+05  \n",
       "50%      88.310000  2.930645e+06  2.935981e+05  3.437180e+05  \n",
       "75%      92.020000  7.215094e+06  6.431633e+05  7.745598e+05  \n",
       "max     100.000000  2.809828e+09  2.011510e+08  1.574086e+08  "
      ]
     },
     "execution_count": 5,
     "metadata": {},
     "output_type": "execute_result"
    }
   ],
   "source": [
    "all_charity.describe()"
   ]
  },
  {
   "cell_type": "code",
   "execution_count": 6,
   "metadata": {},
   "outputs": [
    {
     "data": {
      "text/html": [
       "<div>\n",
       "<style scoped>\n",
       "    .dataframe tbody tr th:only-of-type {\n",
       "        vertical-align: middle;\n",
       "    }\n",
       "\n",
       "    .dataframe tbody tr th {\n",
       "        vertical-align: top;\n",
       "    }\n",
       "\n",
       "    .dataframe thead th {\n",
       "        text-align: right;\n",
       "    }\n",
       "</style>\n",
       "<table border=\"1\" class=\"dataframe\">\n",
       "  <thead>\n",
       "    <tr style=\"text-align: right;\">\n",
       "      <th></th>\n",
       "      <th>ascore</th>\n",
       "      <th>category</th>\n",
       "      <th>description</th>\n",
       "      <th>ein</th>\n",
       "      <th>tot_exp</th>\n",
       "      <th>admin_exp_p</th>\n",
       "      <th>fund_eff</th>\n",
       "      <th>fund_exp_p</th>\n",
       "      <th>program_exp_p</th>\n",
       "      <th>fscore</th>\n",
       "      <th>...</th>\n",
       "      <th>motto</th>\n",
       "      <th>name</th>\n",
       "      <th>tot_rev</th>\n",
       "      <th>score</th>\n",
       "      <th>state</th>\n",
       "      <th>subcategory</th>\n",
       "      <th>size</th>\n",
       "      <th>program_exp</th>\n",
       "      <th>fund_exp</th>\n",
       "      <th>admin_exp</th>\n",
       "    </tr>\n",
       "  </thead>\n",
       "  <tbody>\n",
       "    <tr>\n",
       "      <th>0</th>\n",
       "      <td>100.0</td>\n",
       "      <td>Environment</td>\n",
       "      <td>Working with Oregonians to enhance our quality...</td>\n",
       "      <td>93-0642086</td>\n",
       "      <td>917313.0</td>\n",
       "      <td>0.101</td>\n",
       "      <td>0.18</td>\n",
       "      <td>0.184</td>\n",
       "      <td>0.714</td>\n",
       "      <td>88.61</td>\n",
       "      <td>...</td>\n",
       "      <td>Great communities. Working lands. Iconic Places.</td>\n",
       "      <td>1000 Friends of Oregon</td>\n",
       "      <td>1022513.0</td>\n",
       "      <td>91.94</td>\n",
       "      <td>OR</td>\n",
       "      <td>Environmental Protection and Conservation</td>\n",
       "      <td>small</td>\n",
       "      <td>6.549615e+05</td>\n",
       "      <td>168785.592</td>\n",
       "      <td>92648.613</td>\n",
       "    </tr>\n",
       "    <tr>\n",
       "      <th>1</th>\n",
       "      <td>89.0</td>\n",
       "      <td>Arts, Culture, Humanities</td>\n",
       "      <td>Serving the metropolitan Baltimore area and th...</td>\n",
       "      <td>31-1770828</td>\n",
       "      <td>5053059.0</td>\n",
       "      <td>0.231</td>\n",
       "      <td>0.05</td>\n",
       "      <td>0.032</td>\n",
       "      <td>0.735</td>\n",
       "      <td>82.85</td>\n",
       "      <td>...</td>\n",
       "      <td>88.1 FM -. Your NPR News Station</td>\n",
       "      <td>WYPR</td>\n",
       "      <td>5685761.0</td>\n",
       "      <td>85.59</td>\n",
       "      <td>MD</td>\n",
       "      <td>Public Broadcasting and Media</td>\n",
       "      <td>mid</td>\n",
       "      <td>3.713998e+06</td>\n",
       "      <td>161697.888</td>\n",
       "      <td>1167256.629</td>\n",
       "    </tr>\n",
       "    <tr>\n",
       "      <th>2</th>\n",
       "      <td>70.0</td>\n",
       "      <td>Religion</td>\n",
       "      <td>VSS Catholic Communications is dedicated to an...</td>\n",
       "      <td>91-1857425</td>\n",
       "      <td>1891500.0</td>\n",
       "      <td>0.114</td>\n",
       "      <td>0.17</td>\n",
       "      <td>0.197</td>\n",
       "      <td>0.687</td>\n",
       "      <td>86.74</td>\n",
       "      <td>...</td>\n",
       "      <td>Spirit Catholic Radio Network</td>\n",
       "      <td>VSS Catholic Communications</td>\n",
       "      <td>2140836.0</td>\n",
       "      <td>76.80</td>\n",
       "      <td>NE</td>\n",
       "      <td>Religious Media and Broadcasting</td>\n",
       "      <td>small</td>\n",
       "      <td>1.299460e+06</td>\n",
       "      <td>372625.500</td>\n",
       "      <td>215631.000</td>\n",
       "    </tr>\n",
       "    <tr>\n",
       "      <th>3</th>\n",
       "      <td>93.0</td>\n",
       "      <td>Arts, Culture, Humanities</td>\n",
       "      <td>The mission of the Utah Symphony &amp; Opera is to...</td>\n",
       "      <td>51-0145980</td>\n",
       "      <td>22506582.0</td>\n",
       "      <td>0.092</td>\n",
       "      <td>0.08</td>\n",
       "      <td>0.054</td>\n",
       "      <td>0.852</td>\n",
       "      <td>91.03</td>\n",
       "      <td>...</td>\n",
       "      <td>Engaging, educating, and enriching lives</td>\n",
       "      <td>Utah Symphony &amp; Opera</td>\n",
       "      <td>22203175.0</td>\n",
       "      <td>91.95</td>\n",
       "      <td>UT</td>\n",
       "      <td>Performing Arts</td>\n",
       "      <td>big</td>\n",
       "      <td>1.917561e+07</td>\n",
       "      <td>1215355.428</td>\n",
       "      <td>2070605.544</td>\n",
       "    </tr>\n",
       "    <tr>\n",
       "      <th>4</th>\n",
       "      <td>100.0</td>\n",
       "      <td>Human Services</td>\n",
       "      <td>Funded solely by the footwear industry, Two Te...</td>\n",
       "      <td>22-2579809</td>\n",
       "      <td>5594243.0</td>\n",
       "      <td>0.126</td>\n",
       "      <td>0.12</td>\n",
       "      <td>0.122</td>\n",
       "      <td>0.750</td>\n",
       "      <td>86.23</td>\n",
       "      <td>...</td>\n",
       "      <td>Shoepeople Helping Shoepeople</td>\n",
       "      <td>Two Ten Footwear Foundation</td>\n",
       "      <td>6935506.0</td>\n",
       "      <td>90.26</td>\n",
       "      <td>MA</td>\n",
       "      <td>Social Services</td>\n",
       "      <td>mid</td>\n",
       "      <td>4.195682e+06</td>\n",
       "      <td>682497.646</td>\n",
       "      <td>704874.618</td>\n",
       "    </tr>\n",
       "  </tbody>\n",
       "</table>\n",
       "<p>5 rows × 23 columns</p>\n",
       "</div>"
      ],
      "text/plain": [
       "   ascore                   category  \\\n",
       "0   100.0                Environment   \n",
       "1    89.0  Arts, Culture, Humanities   \n",
       "2    70.0                   Religion   \n",
       "3    93.0  Arts, Culture, Humanities   \n",
       "4   100.0             Human Services   \n",
       "\n",
       "                                         description         ein     tot_exp  \\\n",
       "0  Working with Oregonians to enhance our quality...  93-0642086    917313.0   \n",
       "1  Serving the metropolitan Baltimore area and th...  31-1770828   5053059.0   \n",
       "2  VSS Catholic Communications is dedicated to an...  91-1857425   1891500.0   \n",
       "3  The mission of the Utah Symphony & Opera is to...  51-0145980  22506582.0   \n",
       "4  Funded solely by the footwear industry, Two Te...  22-2579809   5594243.0   \n",
       "\n",
       "   admin_exp_p  fund_eff  fund_exp_p  program_exp_p  fscore     ...       \\\n",
       "0        0.101      0.18       0.184          0.714   88.61     ...        \n",
       "1        0.231      0.05       0.032          0.735   82.85     ...        \n",
       "2        0.114      0.17       0.197          0.687   86.74     ...        \n",
       "3        0.092      0.08       0.054          0.852   91.03     ...        \n",
       "4        0.126      0.12       0.122          0.750   86.23     ...        \n",
       "\n",
       "                                              motto  \\\n",
       "0  Great communities. Working lands. Iconic Places.   \n",
       "1                  88.1 FM -. Your NPR News Station   \n",
       "2                     Spirit Catholic Radio Network   \n",
       "3          Engaging, educating, and enriching lives   \n",
       "4                     Shoepeople Helping Shoepeople   \n",
       "\n",
       "                          name     tot_rev  score state  \\\n",
       "0       1000 Friends of Oregon   1022513.0  91.94    OR   \n",
       "1                         WYPR   5685761.0  85.59    MD   \n",
       "2  VSS Catholic Communications   2140836.0  76.80    NE   \n",
       "3        Utah Symphony & Opera  22203175.0  91.95    UT   \n",
       "4  Two Ten Footwear Foundation   6935506.0  90.26    MA   \n",
       "\n",
       "                                 subcategory   size   program_exp  \\\n",
       "0  Environmental Protection and Conservation  small  6.549615e+05   \n",
       "1              Public Broadcasting and Media    mid  3.713998e+06   \n",
       "2           Religious Media and Broadcasting  small  1.299460e+06   \n",
       "3                            Performing Arts    big  1.917561e+07   \n",
       "4                            Social Services    mid  4.195682e+06   \n",
       "\n",
       "      fund_exp    admin_exp  \n",
       "0   168785.592    92648.613  \n",
       "1   161697.888  1167256.629  \n",
       "2   372625.500   215631.000  \n",
       "3  1215355.428  2070605.544  \n",
       "4   682497.646   704874.618  \n",
       "\n",
       "[5 rows x 23 columns]"
      ]
     },
     "execution_count": 6,
     "metadata": {},
     "output_type": "execute_result"
    }
   ],
   "source": [
    "all_charity.head()"
   ]
  },
  {
   "cell_type": "code",
   "execution_count": 7,
   "metadata": {},
   "outputs": [
    {
     "data": {
      "text/plain": [
       "ascore             0\n",
       "category           0\n",
       "description        0\n",
       "ein                0\n",
       "tot_exp            0\n",
       "admin_exp_p        0\n",
       "fund_eff           0\n",
       "fund_exp_p         0\n",
       "program_exp_p      0\n",
       "fscore             0\n",
       "leader             0\n",
       "leader_comp      436\n",
       "leader_comp_p    436\n",
       "motto             13\n",
       "name               0\n",
       "tot_rev            0\n",
       "score              0\n",
       "state              0\n",
       "subcategory        0\n",
       "size               0\n",
       "program_exp        0\n",
       "fund_exp           0\n",
       "admin_exp          0\n",
       "dtype: int64"
      ]
     },
     "execution_count": 7,
     "metadata": {},
     "output_type": "execute_result"
    }
   ],
   "source": [
    "all_charity.isna().sum()"
   ]
  },
  {
   "cell_type": "markdown",
   "metadata": {},
   "source": [
    "## Plot Distributions Over Variables"
   ]
  },
  {
   "cell_type": "code",
   "execution_count": 8,
   "metadata": {},
   "outputs": [],
   "source": [
    "subcat_count = all_charity.groupby(['subcategory','category'])['ein'].count().reset_index()\n",
    "cat_count = all_charity.groupby('category')['ein'].count().reset_index()\n",
    "size_count = all_charity.groupby('size')['ein'].count().reset_index()"
   ]
  },
  {
   "cell_type": "markdown",
   "metadata": {},
   "source": [
    "### Category"
   ]
  },
  {
   "cell_type": "code",
   "execution_count": 9,
   "metadata": {},
   "outputs": [
    {
     "data": {
      "text/plain": [
       "Text(0.5,1,'Distribution over Categories')"
      ]
     },
     "execution_count": 9,
     "metadata": {},
     "output_type": "execute_result"
    },
    {
     "data": {
      "image/png": "[encoded data removed]",
      "text/plain": [
       "<Figure size 720x360 with 1 Axes>"
      ]
     },
     "metadata": {
      "needs_background": "light"
     },
     "output_type": "display_data"
    }
   ],
   "source": [
    "sns.catplot(x = 'category', y = 'ein', kind = 'bar', aspect = 2, data = cat_count)\n",
    "plt.xticks(rotation=90)\n",
    "plt.xlabel('Category')\n",
    "plt.ylabel('Count')\n",
    "plt.title('Distribution over Categories')"
   ]
  },
  {
   "cell_type": "markdown",
   "metadata": {},
   "source": [
    "### Sub-Category"
   ]
  },
  {
   "cell_type": "code",
   "execution_count": 10,
   "metadata": {},
   "outputs": [
    {
     "data": {
      "text/plain": [
       "37"
      ]
     },
     "execution_count": 10,
     "metadata": {},
     "output_type": "execute_result"
    }
   ],
   "source": [
    "len(subcat_count['subcategory'].unique())"
   ]
  },
  {
   "cell_type": "code",
   "execution_count": 11,
   "metadata": {},
   "outputs": [
    {
     "data": {
      "text/html": [
       "<div>\n",
       "<style scoped>\n",
       "    .dataframe tbody tr th:only-of-type {\n",
       "        vertical-align: middle;\n",
       "    }\n",
       "\n",
       "    .dataframe tbody tr th {\n",
       "        vertical-align: top;\n",
       "    }\n",
       "\n",
       "    .dataframe thead th {\n",
       "        text-align: right;\n",
       "    }\n",
       "</style>\n",
       "<table border=\"1\" class=\"dataframe\">\n",
       "  <thead>\n",
       "    <tr style=\"text-align: right;\">\n",
       "      <th></th>\n",
       "      <th>subcategory</th>\n",
       "      <th>category</th>\n",
       "      <th>ein</th>\n",
       "    </tr>\n",
       "  </thead>\n",
       "  <tbody>\n",
       "    <tr>\n",
       "      <th>36</th>\n",
       "      <td>Zoos and Aquariums</td>\n",
       "      <td>Animals</td>\n",
       "      <td>67</td>\n",
       "    </tr>\n",
       "    <tr>\n",
       "      <th>33</th>\n",
       "      <td>Wildlife Conservation</td>\n",
       "      <td>Animals</td>\n",
       "      <td>89</td>\n",
       "    </tr>\n",
       "    <tr>\n",
       "      <th>2</th>\n",
       "      <td>Animal Rights, Welfare, and Services</td>\n",
       "      <td>Animals</td>\n",
       "      <td>298</td>\n",
       "    </tr>\n",
       "    <tr>\n",
       "      <th>24</th>\n",
       "      <td>Public Broadcasting and Media</td>\n",
       "      <td>Arts, Culture, Humanities</td>\n",
       "      <td>138</td>\n",
       "    </tr>\n",
       "    <tr>\n",
       "      <th>23</th>\n",
       "      <td>Performing Arts</td>\n",
       "      <td>Arts, Culture, Humanities</td>\n",
       "      <td>559</td>\n",
       "    </tr>\n",
       "    <tr>\n",
       "      <th>20</th>\n",
       "      <td>Museums</td>\n",
       "      <td>Arts, Culture, Humanities</td>\n",
       "      <td>390</td>\n",
       "    </tr>\n",
       "    <tr>\n",
       "      <th>17</th>\n",
       "      <td>Libraries, Historical Societies and Landmark P...</td>\n",
       "      <td>Arts, Culture, Humanities</td>\n",
       "      <td>131</td>\n",
       "    </tr>\n",
       "    <tr>\n",
       "      <th>32</th>\n",
       "      <td>United Ways</td>\n",
       "      <td>Community Development</td>\n",
       "      <td>393</td>\n",
       "    </tr>\n",
       "    <tr>\n",
       "      <th>5</th>\n",
       "      <td>Community Foundations</td>\n",
       "      <td>Community Development</td>\n",
       "      <td>81</td>\n",
       "    </tr>\n",
       "    <tr>\n",
       "      <th>16</th>\n",
       "      <td>Jewish Federations</td>\n",
       "      <td>Community Development</td>\n",
       "      <td>84</td>\n",
       "    </tr>\n",
       "    <tr>\n",
       "      <th>13</th>\n",
       "      <td>Housing and Neighborhood Development</td>\n",
       "      <td>Community Development</td>\n",
       "      <td>245</td>\n",
       "    </tr>\n",
       "    <tr>\n",
       "      <th>30</th>\n",
       "      <td>Special Education</td>\n",
       "      <td>Education</td>\n",
       "      <td>21</td>\n",
       "    </tr>\n",
       "    <tr>\n",
       "      <th>27</th>\n",
       "      <td>Scholarship and Financial Support</td>\n",
       "      <td>Education</td>\n",
       "      <td>164</td>\n",
       "    </tr>\n",
       "    <tr>\n",
       "      <th>35</th>\n",
       "      <td>Youth Education Programs and Services</td>\n",
       "      <td>Education</td>\n",
       "      <td>332</td>\n",
       "    </tr>\n",
       "    <tr>\n",
       "      <th>0</th>\n",
       "      <td>Adult Education Programs and Services</td>\n",
       "      <td>Education</td>\n",
       "      <td>71</td>\n",
       "    </tr>\n",
       "    <tr>\n",
       "      <th>9</th>\n",
       "      <td>Education Policy and Reform</td>\n",
       "      <td>Education</td>\n",
       "      <td>53</td>\n",
       "    </tr>\n",
       "    <tr>\n",
       "      <th>8</th>\n",
       "      <td>Early Childhood Programs and Services</td>\n",
       "      <td>Education</td>\n",
       "      <td>26</td>\n",
       "    </tr>\n",
       "    <tr>\n",
       "      <th>10</th>\n",
       "      <td>Environmental Protection and Conservation</td>\n",
       "      <td>Environment</td>\n",
       "      <td>307</td>\n",
       "    </tr>\n",
       "    <tr>\n",
       "      <th>3</th>\n",
       "      <td>Botanical Gardens, Parks, and Nature Centers</td>\n",
       "      <td>Environment</td>\n",
       "      <td>122</td>\n",
       "    </tr>\n",
       "    <tr>\n",
       "      <th>18</th>\n",
       "      <td>Medical Research</td>\n",
       "      <td>Health</td>\n",
       "      <td>142</td>\n",
       "    </tr>\n",
       "    <tr>\n",
       "      <th>22</th>\n",
       "      <td>Patient and Family Support</td>\n",
       "      <td>Health</td>\n",
       "      <td>283</td>\n",
       "    </tr>\n",
       "    <tr>\n",
       "      <th>7</th>\n",
       "      <td>Diseases, Disorders, and Disciplines</td>\n",
       "      <td>Health</td>\n",
       "      <td>223</td>\n",
       "    </tr>\n",
       "    <tr>\n",
       "      <th>31</th>\n",
       "      <td>Treatment and Prevention Services</td>\n",
       "      <td>Health</td>\n",
       "      <td>199</td>\n",
       "    </tr>\n",
       "    <tr>\n",
       "      <th>12</th>\n",
       "      <td>Homeless Services</td>\n",
       "      <td>Human Services</td>\n",
       "      <td>332</td>\n",
       "    </tr>\n",
       "    <tr>\n",
       "      <th>11</th>\n",
       "      <td>Food Banks, Food Pantries, and Food Distribution</td>\n",
       "      <td>Human Services</td>\n",
       "      <td>243</td>\n",
       "    </tr>\n",
       "    <tr>\n",
       "      <th>19</th>\n",
       "      <td>Multipurpose Human Service Organizations</td>\n",
       "      <td>Human Services</td>\n",
       "      <td>227</td>\n",
       "    </tr>\n",
       "    <tr>\n",
       "      <th>34</th>\n",
       "      <td>Youth Development, Shelter, and Crisis Services</td>\n",
       "      <td>Human Services</td>\n",
       "      <td>554</td>\n",
       "    </tr>\n",
       "    <tr>\n",
       "      <th>28</th>\n",
       "      <td>Social Services</td>\n",
       "      <td>Human Services</td>\n",
       "      <td>675</td>\n",
       "    </tr>\n",
       "    <tr>\n",
       "      <th>4</th>\n",
       "      <td>Children's and Family Services</td>\n",
       "      <td>Human Services</td>\n",
       "      <td>348</td>\n",
       "    </tr>\n",
       "    <tr>\n",
       "      <th>1</th>\n",
       "      <td>Advocacy and Education</td>\n",
       "      <td>Human and Civil Rights</td>\n",
       "      <td>346</td>\n",
       "    </tr>\n",
       "    <tr>\n",
       "      <th>15</th>\n",
       "      <td>International Peace, Security, and Affairs</td>\n",
       "      <td>International</td>\n",
       "      <td>177</td>\n",
       "    </tr>\n",
       "    <tr>\n",
       "      <th>6</th>\n",
       "      <td>Development and Relief Services</td>\n",
       "      <td>International</td>\n",
       "      <td>381</td>\n",
       "    </tr>\n",
       "    <tr>\n",
       "      <th>14</th>\n",
       "      <td>Humanitarian Relief Supplies</td>\n",
       "      <td>International</td>\n",
       "      <td>52</td>\n",
       "    </tr>\n",
       "    <tr>\n",
       "      <th>26</th>\n",
       "      <td>Religious Media and Broadcasting</td>\n",
       "      <td>Religion</td>\n",
       "      <td>144</td>\n",
       "    </tr>\n",
       "    <tr>\n",
       "      <th>25</th>\n",
       "      <td>Religious Activities</td>\n",
       "      <td>Religion</td>\n",
       "      <td>306</td>\n",
       "    </tr>\n",
       "    <tr>\n",
       "      <th>21</th>\n",
       "      <td>Non-Medical Science &amp; Technology Research</td>\n",
       "      <td>Research and Public Policy</td>\n",
       "      <td>29</td>\n",
       "    </tr>\n",
       "    <tr>\n",
       "      <th>29</th>\n",
       "      <td>Social and Public Policy Research</td>\n",
       "      <td>Research and Public Policy</td>\n",
       "      <td>176</td>\n",
       "    </tr>\n",
       "  </tbody>\n",
       "</table>\n",
       "</div>"
      ],
      "text/plain": [
       "                                          subcategory  \\\n",
       "36                                 Zoos and Aquariums   \n",
       "33                              Wildlife Conservation   \n",
       "2                Animal Rights, Welfare, and Services   \n",
       "24                      Public Broadcasting and Media   \n",
       "23                                    Performing Arts   \n",
       "20                                            Museums   \n",
       "17  Libraries, Historical Societies and Landmark P...   \n",
       "32                                        United Ways   \n",
       "5                               Community Foundations   \n",
       "16                                 Jewish Federations   \n",
       "13               Housing and Neighborhood Development   \n",
       "30                                  Special Education   \n",
       "27                  Scholarship and Financial Support   \n",
       "35              Youth Education Programs and Services   \n",
       "0               Adult Education Programs and Services   \n",
       "9                         Education Policy and Reform   \n",
       "8               Early Childhood Programs and Services   \n",
       "10          Environmental Protection and Conservation   \n",
       "3        Botanical Gardens, Parks, and Nature Centers   \n",
       "18                                   Medical Research   \n",
       "22                         Patient and Family Support   \n",
       "7                Diseases, Disorders, and Disciplines   \n",
       "31                  Treatment and Prevention Services   \n",
       "12                                  Homeless Services   \n",
       "11   Food Banks, Food Pantries, and Food Distribution   \n",
       "19           Multipurpose Human Service Organizations   \n",
       "34    Youth Development, Shelter, and Crisis Services   \n",
       "28                                    Social Services   \n",
       "4                      Children's and Family Services   \n",
       "1                              Advocacy and Education   \n",
       "15         International Peace, Security, and Affairs   \n",
       "6                     Development and Relief Services   \n",
       "14                       Humanitarian Relief Supplies   \n",
       "26                   Religious Media and Broadcasting   \n",
       "25                               Religious Activities   \n",
       "21          Non-Medical Science & Technology Research   \n",
       "29                  Social and Public Policy Research   \n",
       "\n",
       "                      category  ein  \n",
       "36                     Animals   67  \n",
       "33                     Animals   89  \n",
       "2                      Animals  298  \n",
       "24   Arts, Culture, Humanities  138  \n",
       "23   Arts, Culture, Humanities  559  \n",
       "20   Arts, Culture, Humanities  390  \n",
       "17   Arts, Culture, Humanities  131  \n",
       "32       Community Development  393  \n",
       "5        Community Development   81  \n",
       "16       Community Development   84  \n",
       "13       Community Development  245  \n",
       "30                   Education   21  \n",
       "27                   Education  164  \n",
       "35                   Education  332  \n",
       "0                    Education   71  \n",
       "9                    Education   53  \n",
       "8                    Education   26  \n",
       "10                 Environment  307  \n",
       "3                  Environment  122  \n",
       "18                      Health  142  \n",
       "22                      Health  283  \n",
       "7                       Health  223  \n",
       "31                      Health  199  \n",
       "12              Human Services  332  \n",
       "11              Human Services  243  \n",
       "19              Human Services  227  \n",
       "34              Human Services  554  \n",
       "28              Human Services  675  \n",
       "4               Human Services  348  \n",
       "1       Human and Civil Rights  346  \n",
       "15               International  177  \n",
       "6                International  381  \n",
       "14               International   52  \n",
       "26                    Religion  144  \n",
       "25                    Religion  306  \n",
       "21  Research and Public Policy   29  \n",
       "29  Research and Public Policy  176  "
      ]
     },
     "execution_count": 11,
     "metadata": {},
     "output_type": "execute_result"
    }
   ],
   "source": [
    "subcat_count.sort_values(by=['category'])"
   ]
  },
  {
   "cell_type": "markdown",
   "metadata": {},
   "source": [
    "### Charity Size"
   ]
  },
  {
   "cell_type": "code",
   "execution_count": 12,
   "metadata": {},
   "outputs": [
    {
     "data": {
      "text/plain": [
       "Text(0.5,1,'Distribution over Size')"
      ]
     },
     "execution_count": 12,
     "metadata": {},
     "output_type": "execute_result"
    },
    {
     "data": {
      "image/png": "[encoded data removed]",
      "text/plain": [
       "<Figure size 720x360 with 1 Axes>"
      ]
     },
     "metadata": {
      "needs_background": "light"
     },
     "output_type": "display_data"
    }
   ],
   "source": [
    "sns.catplot(x = 'size', y = 'ein', kind = 'bar', aspect = 2, data = size_count)\n",
    "plt.xticks(rotation=90)\n",
    "plt.xlabel('Size')\n",
    "plt.ylabel('Count')\n",
    "plt.title('Distribution over Size')"
   ]
  },
  {
   "cell_type": "markdown",
   "metadata": {},
   "source": [
    "### Charity Navigator Score"
   ]
  },
  {
   "cell_type": "code",
   "execution_count": 13,
   "metadata": {},
   "outputs": [
    {
     "data": {
      "image/png": "[encoded data removed]",
      "text/plain": [
       "<Figure size 432x288 with 1 Axes>"
      ]
     },
     "metadata": {
      "needs_background": "light"
     },
     "output_type": "display_data"
    }
   ],
   "source": [
    "sns.distplot(all_charity['score'])\n",
    "plt.xlabel('Charity Score')\n",
    "plt.ylabel('Count')\n",
    "plt.title('Distribution of Charity Scores')\n",
    "sns.despine()"
   ]
  },
  {
   "cell_type": "code",
   "execution_count": 14,
   "metadata": {},
   "outputs": [
    {
     "data": {
      "text/plain": [
       "83.26"
      ]
     },
     "execution_count": 14,
     "metadata": {},
     "output_type": "execute_result"
    }
   ],
   "source": [
    "np.percentile(all_charity['score'], 25)"
   ]
  },
  {
   "cell_type": "markdown",
   "metadata": {},
   "source": [
    "### Mission Statement Length"
   ]
  },
  {
   "cell_type": "code",
   "execution_count": 15,
   "metadata": {},
   "outputs": [],
   "source": [
    "#Create column that counts number of words in article\n",
    "all_charity['description_length'] = all_charity.apply(lambda x: len(x['description'].split(\" \")),axis=1)"
   ]
  },
  {
   "cell_type": "code",
   "execution_count": 16,
   "metadata": {},
   "outputs": [
    {
     "data": {
      "image/png": "[encoded data removed]",
      "text/plain": [
       "<Figure size 432x288 with 1 Axes>"
      ]
     },
     "metadata": {
      "needs_background": "light"
     },
     "output_type": "display_data"
    }
   ],
   "source": [
    "sns.distplot(all_charity['description_length'])\n",
    "plt.xlabel('Description Length')\n",
    "plt.ylabel('Count')\n",
    "plt.title('Distribution of Length of Mission Description')\n",
    "sns.despine()"
   ]
  },
  {
   "cell_type": "code",
   "execution_count": 17,
   "metadata": {},
   "outputs": [
    {
     "data": {
      "image/png": "[encoded data removed]",
      "text/plain": [
       "<Figure size 432x288 with 1 Axes>"
      ]
     },
     "metadata": {
      "needs_background": "light"
     },
     "output_type": "display_data"
    }
   ],
   "source": [
    "## Description length x category\n",
    "\n",
    "sns.boxplot(x = 'category', y = 'description_length', data = all_charity)\n",
    "plt.xticks(rotation=90)\n",
    "sns.despine()"
   ]
  },
  {
   "cell_type": "code",
   "execution_count": 18,
   "metadata": {},
   "outputs": [
    {
     "data": {
      "text/plain": [
       "0.006779257849666984"
      ]
     },
     "execution_count": 18,
     "metadata": {},
     "output_type": "execute_result"
    }
   ],
   "source": [
    "len(all_charity[all_charity['description_length']<10])/len(all_charity)"
   ]
  },
  {
   "cell_type": "code",
   "execution_count": 19,
   "metadata": {},
   "outputs": [],
   "source": [
    "all_charity_use = all_charity[all_charity['score']>np.percentile(all_charity['score'], 25)]\n",
    "all_charity_use = all_charity_use[all_charity_use['description_length']>10]\n",
    "\n",
    "all_charity_use = all_charity_use[all_charity_use['category'] != 'Religion']\n",
    "all_charity_use = all_charity_use[~all_charity_use['subcategory'].isin(['United Ways', 'Jewish Federations'])]"
   ]
  },
  {
   "cell_type": "code",
   "execution_count": 22,
   "metadata": {},
   "outputs": [
    {
     "data": {
      "text/plain": [
       "5637"
      ]
     },
     "execution_count": 22,
     "metadata": {},
     "output_type": "execute_result"
    }
   ],
   "source": [
    "len(all_charity_use)"
   ]
  },
  {
   "cell_type": "code",
   "execution_count": 21,
   "metadata": {},
   "outputs": [],
   "source": [
    "all_charity_use.to_csv('/Users/avichanales/Dropbox/Insight/Project/insight_project/data/interim/charity_data_cleaned.csv')"
   ]
  },
  {
   "cell_type": "code",
   "execution_count": null,
   "metadata": {},
   "outputs": [],
   "source": []
  }
 ],
 "metadata": {
  "kernelspec": {
   "display_name": "Python 3",
   "language": "python",
   "name": "python3"
  },
  "language_info": {
   "codemirror_mode": {
    "name": "ipython",
    "version": 3
   },
   "file_extension": ".py",
   "mimetype": "text/x-python",
   "name": "python",
   "nbconvert_exporter": "python",
   "pygments_lexer": "ipython3",
   "version": "3.6.8"
  }
 },
 "nbformat": 4,
 "nbformat_minor": 2
}
