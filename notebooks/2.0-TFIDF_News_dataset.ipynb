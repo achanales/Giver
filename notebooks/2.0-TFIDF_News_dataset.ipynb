{
 "cells": [
  {
   "cell_type": "markdown",
   "metadata": {},
   "source": [
    "# Create TF-IDF Model from corpus on news articles"
   ]
  },
  {
   "cell_type": "code",
   "execution_count": 5,
   "metadata": {},
   "outputs": [
    {
     "name": "stdout",
     "output_type": "stream",
     "text": [
      "Populating the interactive namespace from numpy and matplotlib\n"
     ]
    }
   ],
   "source": [
    "import warnings\n",
    "warnings.filterwarnings('ignore')\n",
    "\n",
    "import pandas as pd\n",
    "import seaborn as sns\n",
    "import matplotlib.pyplot as plt\n",
    "import os\n",
    "\n",
    "# NLP Packages\n",
    "import gensim\n",
    "from gensim.corpora import Dictionary\n",
    "from gensim.models.tfidfmodel import TfidfModel\n",
    "from gensim.matutils import sparse2full\n",
    "import numpy as np\n",
    "import spacy\n",
    "nlp  = spacy.load('en_core_web_sm')\n",
    "\n",
    "# Custom functions\n",
    "from nlp_functions import preprocess_spacy, preprocess_docs,doc_embed_charity_notfidf\n",
    "\n",
    "np.random.seed(400)\n",
    "%pylab inline"
   ]
  },
  {
   "cell_type": "markdown",
   "metadata": {},
   "source": [
    "## 0.0 Load Data"
   ]
  },
  {
   "cell_type": "code",
   "execution_count": 8,
   "metadata": {},
   "outputs": [],
   "source": [
    "root_dir =  os.path.abspath(os.path.join(os.getcwd() ,\"../../\"))\n",
    "file_name = os.path.join(root_dir,'raw_data','news_data_all.csv')\n",
    "all_news = pd.read_csv(file_name)"
   ]
  },
  {
   "cell_type": "markdown",
   "metadata": {},
   "source": [
    "## 1.0 Trim and Generate Features from News Data"
   ]
  },
  {
   "cell_type": "code",
   "execution_count": 10,
   "metadata": {},
   "outputs": [],
   "source": [
    "# Trim to only columns we care about\n",
    "all_news_use = all_news[['title','publication','content']]\n",
    "\n",
    "# Drop any rows taht dont have a title, publication or content\n",
    "all_news_use = all_news_use.dropna()\n",
    "\n",
    "#Create article size feature that counts number of words in article\n",
    "all_news_use['article_length']= all_news_use.apply(lambda x: len(x['content'].split(\" \")),axis=1)"
   ]
  },
  {
   "cell_type": "markdown",
   "metadata": {},
   "source": [
    "Check the distribution of article lenghts and only include middle 50% distrubution mass to exclude shorter and longer articles"
   ]
  },
  {
   "cell_type": "code",
   "execution_count": 13,
   "metadata": {},
   "outputs": [
    {
     "data": {
      "text/plain": [
       "count    188725.000000\n",
       "mean        834.514844\n",
       "std         863.773999\n",
       "min           1.000000\n",
       "25%         368.000000\n",
       "50%         672.000000\n",
       "75%        1052.000000\n",
       "max       50517.000000\n",
       "Name: article_length, dtype: float64"
      ]
     },
     "execution_count": 13,
     "metadata": {},
     "output_type": "execute_result"
    }
   ],
   "source": [
    "# check \n",
    "all_news_use['article_length'].describe()"
   ]
  },
  {
   "cell_type": "markdown",
   "metadata": {},
   "source": [
    "## 3.0 Preprocess Article Text"
   ]
  },
  {
   "cell_type": "code",
   "execution_count": 14,
   "metadata": {},
   "outputs": [],
   "source": [
    "all_news_use = all_news_use[all_news_use['article_length'].between(368, 1052, inclusive=True)]"
   ]
  },
  {
   "cell_type": "code",
   "execution_count": 7,
   "metadata": {},
   "outputs": [],
   "source": [
    "articles_text  = all_news_use['content'].astype('str')\n",
    "\n",
    "# Preprocess article text\n",
    "articles_text_pre = preprocess_docs(articles_text)"
   ]
  },
  {
   "cell_type": "markdown",
   "metadata": {},
   "source": [
    "## 4.0 Train TF-IDF Model"
   ]
  },
  {
   "cell_type": "code",
   "execution_count": 13,
   "metadata": {},
   "outputs": [],
   "source": [
    "def news_tfidf(processed_docs,word_min=5, word_max_perc=.2):\n",
    "    \n",
    "    'Assumes docs have already been pre-processed'\n",
    "    \n",
    "    #Create dictionary from corpus\n",
    "    docs_dict = Dictionary(processed_docs)\n",
    "    docs_dict.filter_extremes(no_below=word_min, no_above=word_max_perc)\n",
    "    docs_dict.compactify()\n",
    "    \n",
    "    #Convert docs into tf-idf vectors\n",
    "    docs_corpus = [docs_dict.doc2bow(doc) for doc in processed_docs]\n",
    "    model_tfidf = TfidfModel(docs_corpus, id2word=docs_dict)\n",
    "    docs_tfidf  = model_tfidf[docs_corpus]\n",
    "        \n",
    "    return docs_dict, model_tfidf, docs_tfidf"
   ]
  },
  {
   "cell_type": "code",
   "execution_count": 58,
   "metadata": {},
   "outputs": [],
   "source": [
    "word_min=300\n",
    "word_max_perc=.2\n",
    "news_dict, news_tfidf_model, news_docs_tfidf = news_tfidf(articles_text_pre,word_min=100,word_max_perc=.4)"
   ]
  },
  {
   "cell_type": "markdown",
   "metadata": {},
   "source": [
    "## 5.0 Save Preprocessed Articles and Model"
   ]
  },
  {
   "cell_type": "markdown",
   "metadata": {},
   "source": [
    "Save preprocesed articles in case I want to retrain model with different parameters "
   ]
  },
  {
   "cell_type": "code",
   "execution_count": 21,
   "metadata": {},
   "outputs": [],
   "source": [
    "import pickle\n",
    "with open(os.path.join(root_dir,\"raw_dir\",\"articles_text_preprocessed.txt\", \"wb\") as fp:   #Pickling\n",
    "    pickle.dump(articles_text_pre, fp)"
   ]
  },
  {
   "cell_type": "code",
   "execution_count": 74,
   "metadata": {},
   "outputs": [],
   "source": [
    "#Store output in dictionary and save\n",
    "news_tfidf_dict = {'news_dict': news_dict, \n",
    "                      'news_tfidf_model': news_tfidf_model}\n",
    "\n",
    "with open(os.path.join(root_dir,'Giver','models','news','news_tfidf_min_{}_max_{}.pickle'.format(word_min,word_max_perc), 'wb') as handle:\n",
    "    pickle.dump(news_tfidf_dict, handle, protocol=pickle.HIGHEST_PROTOCOL)"
   ]
  }
 ],
 "metadata": {
  "kernelspec": {
   "display_name": "Python 3",
   "language": "python",
   "name": "python3"
  },
  "language_info": {
   "codemirror_mode": {
    "name": "ipython",
    "version": 3
   },
   "file_extension": ".py",
   "mimetype": "text/x-python",
   "name": "python",
   "nbconvert_exporter": "python",
   "pygments_lexer": "ipython3",
   "version": "3.6.9"
  }
 },
 "nbformat": 4,
 "nbformat_minor": 4
}
