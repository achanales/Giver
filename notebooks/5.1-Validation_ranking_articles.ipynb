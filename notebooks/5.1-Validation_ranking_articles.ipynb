{
 "cells": [
  {
   "cell_type": "code",
   "execution_count": 2,
   "metadata": {},
   "outputs": [
    {
     "name": "stdout",
     "output_type": "stream",
     "text": [
      "Populating the interactive namespace from numpy and matplotlib\n"
     ]
    }
   ],
   "source": [
    "import warnings\n",
    "warnings.filterwarnings('ignore')\n",
    "\n",
    "import pandas as pd\n",
    "import seaborn as sns\n",
    "import matplotlib.pyplot as plt\n",
    "from sklearn.metrics.pairwise import cosine_similarity\n",
    "import pickle\n",
    "import pdb\n",
    "%pylab inline"
   ]
  },
  {
   "cell_type": "code",
   "execution_count": 3,
   "metadata": {},
   "outputs": [
    {
     "name": "stderr",
     "output_type": "stream",
     "text": [
      "[nltk_data] Downloading package stopwords to\n",
      "[nltk_data]     /Users/avichanales/nltk_data...\n",
      "[nltk_data]   Package stopwords is already up-to-date!\n"
     ]
    }
   ],
   "source": [
    "import nltk;\n",
    "from nltk.corpus import stopwords;\n",
    "\n",
    "import gensim\n",
    "from gensim.utils import simple_preprocess\n",
    "from gensim.parsing.preprocessing import STOPWORDS\n",
    "from nltk.stem import WordNetLemmatizer, SnowballStemmer\n",
    "from nltk.stem.porter import *\n",
    "import numpy as np\n",
    "np.random.seed(400)\n",
    "\n",
    "nltk.download('stopwords')\n",
    "from nltk.tokenize import word_tokenize\n",
    "from nltk.tag import pos_tag"
   ]
  },
  {
   "cell_type": "code",
   "execution_count": 4,
   "metadata": {},
   "outputs": [],
   "source": [
    "import gensim\n",
    "from gensim.utils import simple_preprocess\n",
    "from gensim.parsing.preprocessing import STOPWORDS\n",
    "from nltk.stem import WordNetLemmatizer, SnowballStemmer\n",
    "from gensim.corpora import Dictionary\n",
    "from gensim.models.tfidfmodel import TfidfModel\n",
    "from gensim.matutils import sparse2full\n",
    "from nltk.stem.porter import *\n",
    "import numpy as np\n",
    "np.random.seed(400)\n",
    "\n",
    "import spacy\n",
    "nlp  = spacy.load('en_core_web_md')"
   ]
  },
  {
   "cell_type": "markdown",
   "metadata": {},
   "source": [
    "### Load Validation Dataset and Model"
   ]
  },
  {
   "cell_type": "code",
   "execution_count": 6,
   "metadata": {},
   "outputs": [],
   "source": [
    "file_name = '/Users/avichanales/Dropbox/Insight/Project/insight_project/data/interim/charity_data_cleaned.csv'\n",
    "all_charity = pd.read_csv(file_name)"
   ]
  },
  {
   "cell_type": "code",
   "execution_count": 8,
   "metadata": {},
   "outputs": [],
   "source": [
    "file_name = '/Users/avichanales/Dropbox/Insight/Project/insight_project/data/interim/validation_set_not_cleaned.csv'\n",
    "validation_set = pd.read_csv(file_name)"
   ]
  },
  {
   "cell_type": "code",
   "execution_count": 83,
   "metadata": {},
   "outputs": [],
   "source": [
    "with open('/Users/avichanales/Dropbox/Insight/Project/insight_project/data/processed/charity_model_min_1_max_0.5.pickle', 'rb') as handle:\n",
    "    charity_model = pickle.load(handle)"
   ]
  },
  {
   "cell_type": "code",
   "execution_count": 153,
   "metadata": {},
   "outputs": [],
   "source": [
    "def preprocess_spacy(raw_text):\n",
    "    \n",
    "    doc = nlp(raw_text)\n",
    "    \n",
    "    #Remove organizations and people from documnet text\n",
    "    tokens_ner = [entity.text for entity in doc.ents if entity.label_ in {'DATE', 'PERSON', 'ORG'}]\n",
    "\n",
    "    for term in tokens_ner:\n",
    "        raw_text = raw_text.replace(term,\"\")\n",
    "    \n",
    "    #Re-convert preprocessed text to spacy object    \n",
    "    doc = nlp(raw_text)\n",
    "\n",
    "\n",
    "    #Remove stopwords and lemmatize\n",
    "    tokens = [token.lemma_ for token in doc if not (token.is_stop or token.is_punct)]\n",
    "\n",
    "    return tokens"
   ]
  },
  {
   "cell_type": "code",
   "execution_count": 12,
   "metadata": {},
   "outputs": [],
   "source": [
    "def process_embed_text(text,charity_docs_dict,charity_model_tfidf,charity_tfidf_emb_vecs):\n",
    "    \n",
    "    text_pre = preprocess_spacy(text)\n",
    "     \n",
    "    #Convert docs into tf-idf vectors\n",
    "    doc_corpus = charity_docs_dict.doc2bow(text_pre)\n",
    "    doc_tfidf  = charity_model_tfidf[doc_corpus]\n",
    "    doc_vec   = np.vstack([sparse2full(doc_tfidf, len(charity_docs_dict))])\n",
    "    \n",
    "    # sum of glove vectors linearlly weighted by tfidf \n",
    "    art_emb = np.dot(doc_vec, charity_tfidf_emb_vecs)\n",
    "    \n",
    "    \n",
    "    return art_emb"
   ]
  },
  {
   "cell_type": "code",
   "execution_count": 13,
   "metadata": {},
   "outputs": [],
   "source": [
    "def compute_similarity_output_n(art_emb,charity_docs_emb,topn):\n",
    "    \n",
    "    #compute cosine distance from article embedding to all charities\n",
    "    sim_to_charities = cosine_similarity(art_emb,charity_docs_emb)\n",
    "    \n",
    "    #find topN similarity scores\n",
    "    sim_scores_sorted = -np.sort(-sim_to_charities).flatten()\n",
    "    topN_scores = sim_scores_sorted[:topn]\n",
    "    \n",
    "    #find topN indices\n",
    "    indices_sorted = (-sim_to_charities).argsort().flatten()\n",
    "    topN_indices = indices_sorted[:topn].flatten()\n",
    "    \n",
    "    return topN_scores, topN_indices"
   ]
  },
  {
   "cell_type": "code",
   "execution_count": 14,
   "metadata": {},
   "outputs": [],
   "source": [
    "def topN_ranked_charities(charity_df, topN_scores, topN_indices):\n",
    "    \n",
    "    charity_df_slim = charity_df[['name','subcategory','score','description']]\n",
    "    \n",
    "    #Extract topN charities and info\n",
    "    similar_charities = charity_df_slim.iloc[topN_indices].reset_index(drop=True)\n",
    "    \n",
    "    #Add their similarity scores\n",
    "    similar_charities['sim_score'] = topN_scores\n",
    "    \n",
    "    return similar_charities"
   ]
  },
  {
   "cell_type": "code",
   "execution_count": 151,
   "metadata": {},
   "outputs": [],
   "source": [
    "def get_headline_rank(df):\n",
    "    \n",
    "    headline = df['title']\n",
    "    charity_name = df['charity']\n",
    "    n_charities = df['n_charities']\n",
    "    \n",
    "    headline_emb = process_embed_text(headline,\n",
    "                                      charity_model['charity_docs_dict'],\n",
    "                                      charity_model['charity_model_tfidf'],\n",
    "                                      charity_model['charity_tfidf_emb_vecs'])\n",
    "    \n",
    "    topN_scores, topN_indices = compute_similarity_output_n(headline_emb,charity_model['charity_docs_emb'],n_charities)\n",
    "    \n",
    "    ranked_charities = topN_ranked_charities(all_charity, topN_scores, topN_indices)\n",
    "    \n",
    "    pdb.set_trace()\n",
    "    \n",
    "    rank = ranked_charities[ranked_charities['name'] == charity_name].index.values.astype(int)[0]\n",
    "    \n",
    "    return rank"
   ]
  },
  {
   "cell_type": "code",
   "execution_count": 16,
   "metadata": {},
   "outputs": [],
   "source": [
    "validation_set['headline_length'] = validation_set.apply(lambda x: len(x['title'].split(\" \")),axis=1)"
   ]
  },
  {
   "cell_type": "code",
   "execution_count": 17,
   "metadata": {},
   "outputs": [],
   "source": [
    "validation_set_trimmed = validation_set[validation_set['headline_length'] >3]"
   ]
  },
  {
   "cell_type": "code",
   "execution_count": null,
   "metadata": {},
   "outputs": [
    {
     "name": "stdout",
     "output_type": "stream",
     "text": [
      "> <ipython-input-151-73aa55631618>(18)get_headline_rank()\n",
      "-> rank = ranked_charities[ranked_charities['name'] == charity_name].index.values.astype(int)[0]\n",
      "(Pdb) ranked_charities.head()\n",
      "                      name                                      subcategory  \\\n",
      "0  The 52nd Street Project  Youth Development, Shelter, and Crisis Services   \n",
      "1               Childsplay                                  Performing Arts   \n",
      "2             Tulsa Ballet                                  Performing Arts   \n",
      "3            Alley Theatre                                  Performing Arts   \n",
      "4              MCC Theater                                  Performing Arts   \n",
      "\n",
      "   score                                        description  sim_score  \n",
      "0  91.70  The 52nd Street Project (The Project) is dedic...   0.804711  \n",
      "1  88.14  Founded in 1977, Childsplay is a professional ...   0.803079  \n",
      "2  92.14  The story of Tulsa Ballet began in 1956. Husba...   0.800388  \n",
      "3  92.13  The Alley Theatre, one of America's leading no...   0.799996  \n",
      "4  86.29  MCC Theater was founded in 1986 as Manhattan C...   0.795134  \n",
      "(Pdb) charity_name\n",
      "'Syracuse Stage'\n"
     ]
    }
   ],
   "source": [
    "validation_set_trimmed['n_charities'] = np.shape(charity_model['charity_docs_emb'])[0]\n",
    "\n",
    "validation_set_trimmed['rank'] = validation_set_trimmed.apply(get_headline_rank,axis=1)\n"
   ]
  },
  {
   "cell_type": "code",
   "execution_count": 85,
   "metadata": {},
   "outputs": [
    {
     "data": {
      "text/plain": [
       "2647.42489626556"
      ]
     },
     "execution_count": 85,
     "metadata": {},
     "output_type": "execute_result"
    }
   ],
   "source": [
    "validation_set_trimmed['rank'].mean()"
   ]
  },
  {
   "cell_type": "code",
   "execution_count": 82,
   "metadata": {},
   "outputs": [
    {
     "data": {
      "text/plain": [
       "2654.5051777016056"
      ]
     },
     "execution_count": 82,
     "metadata": {},
     "output_type": "execute_result"
    }
   ],
   "source": [
    "validation_set_trimmed['rank'].mean()"
   ]
  },
  {
   "cell_type": "code",
   "execution_count": 19,
   "metadata": {},
   "outputs": [
    {
     "data": {
      "text/plain": [
       "2674.120151542486"
      ]
     },
     "execution_count": 19,
     "metadata": {},
     "output_type": "execute_result"
    }
   ],
   "source": [
    "validation_set_trimmed['rank'].mean()"
   ]
  },
  {
   "cell_type": "code",
   "execution_count": 84,
   "metadata": {},
   "outputs": [
    {
     "data": {
      "text/plain": [
       "2174.871382636656"
      ]
     },
     "execution_count": 84,
     "metadata": {},
     "output_type": "execute_result"
    }
   ],
   "source": [
    "validation_set_trimmed['rank'].mean()"
   ]
  },
  {
   "cell_type": "code",
   "execution_count": 62,
   "metadata": {},
   "outputs": [
    {
     "data": {
      "text/plain": [
       "2176.1396825396823"
      ]
     },
     "execution_count": 62,
     "metadata": {},
     "output_type": "execute_result"
    }
   ],
   "source": [
    "validation_set['rank'].mean()"
   ]
  },
  {
   "cell_type": "code",
   "execution_count": 87,
   "metadata": {},
   "outputs": [
    {
     "data": {
      "text/plain": [
       "2841.0"
      ]
     },
     "execution_count": 87,
     "metadata": {},
     "output_type": "execute_result"
    }
   ],
   "source": [
    "validation_set_trimmed['n_charities'].mean()/2"
   ]
  },
  {
   "cell_type": "code",
   "execution_count": 88,
   "metadata": {},
   "outputs": [],
   "source": [
    "rank_by_charity = validation_set_trimmed.groupby('charity')['rank'].mean().reset_index()"
   ]
  },
  {
   "cell_type": "code",
   "execution_count": 89,
   "metadata": {},
   "outputs": [
    {
     "data": {
      "text/plain": [
       "1892.6778376122745"
      ]
     },
     "execution_count": 89,
     "metadata": {},
     "output_type": "execute_result"
    }
   ],
   "source": [
    "rank_by_charity['rank'].mean()"
   ]
  },
  {
   "cell_type": "code",
   "execution_count": 90,
   "metadata": {},
   "outputs": [
    {
     "data": {
      "image/png": "[encoded data removed]",
      "text/plain": [
       "<Figure size 432x288 with 1 Axes>"
      ]
     },
     "metadata": {
      "needs_background": "light"
     },
     "output_type": "display_data"
    }
   ],
   "source": [
    "sns.distplot(rank_by_charity['rank'], kde = False)\n",
    "sns.despine()"
   ]
  },
  {
   "cell_type": "code",
   "execution_count": 91,
   "metadata": {},
   "outputs": [],
   "source": [
    "rank_by_charity.sort_values([\"rank\"], axis=0, \n",
    "                 ascending=False, inplace=True)"
   ]
  },
  {
   "cell_type": "code",
   "execution_count": 92,
   "metadata": {},
   "outputs": [],
   "source": [
    "def get_headlines(charity, df):\n",
    "    df_sub = df[df['charity'] == charity]\n",
    "    \n",
    "    return df_sub"
   ]
  },
  {
   "cell_type": "code",
   "execution_count": 93,
   "metadata": {},
   "outputs": [],
   "source": [
    "def get_mission_statement(charity,df):\n",
    "    df_sub = df[df['name'] == charity]\n",
    "    \n",
    "    return df_sub['description'].iloc[0]"
   ]
  },
  {
   "cell_type": "code",
   "execution_count": 130,
   "metadata": {},
   "outputs": [
    {
     "data": {
      "text/plain": [
       "'The Public Justice Center pursues systemic change to build a just society.'"
      ]
     },
     "execution_count": 130,
     "metadata": {},
     "output_type": "execute_result"
    }
   ],
   "source": [
    "get_mission_statement(\"Public Justice Center\", all_charity)"
   ]
  },
  {
   "cell_type": "code",
   "execution_count": 131,
   "metadata": {},
   "outputs": [
    {
     "data": {
      "text/plain": [
       "[' ',\n",
       " 'preserve',\n",
       " 'promote',\n",
       " 'civil',\n",
       " 'right',\n",
       " 'civil',\n",
       " 'liberty',\n",
       " 'education',\n",
       " 'litigation',\n",
       " 'legal',\n",
       " 'service',\n",
       " 'provide',\n",
       " 'defend',\n",
       " 'secure',\n",
       " 'individual',\n",
       " 'right',\n",
       " 'Constitution',\n",
       " 'Bill',\n",
       " 'Rights',\n",
       " 'extend',\n",
       " 'people',\n",
       " 'exclude',\n",
       " 'protection']"
      ]
     },
     "execution_count": 131,
     "metadata": {},
     "output_type": "execute_result"
    }
   ],
   "source": [
    "preprocess_spacy(get_mission_statement(\"ACLU Foundation of Southern California\", all_charity))"
   ]
  },
  {
   "cell_type": "code",
   "execution_count": 149,
   "metadata": {},
   "outputs": [
    {
     "name": "stdout",
     "output_type": "stream",
     "text": [
      "DATE\n",
      "found\n"
     ]
    }
   ],
   "source": [
    "doc = nlp(u'January')\n",
    "\n",
    "for entity in doc.ents:\n",
    "    print(entity.label_)\n",
    "    if entity.label_ in {'DATE', 'PERSON', 'ORG'}:\n",
    "        print('found')"
   ]
  },
  {
   "cell_type": "code",
   "execution_count": 126,
   "metadata": {},
   "outputs": [
    {
     "name": "stdout",
     "output_type": "stream",
     "text": [
      "January True 6.030409 False\n"
     ]
    }
   ],
   "source": [
    "tokens = nlp(u'January')\n",
    "\n",
    "for token in tokens:\n",
    "    print(token.text, token.has_vector, token.vector_norm, token.is_oov)"
   ]
  },
  {
   "cell_type": "code",
   "execution_count": 138,
   "metadata": {},
   "outputs": [
    {
     "name": "stdout",
     "output_type": "stream",
     "text": [
      "school True 6.7380905 False False\n"
     ]
    }
   ],
   "source": [
    "tokens = nlp(u'school')\n",
    "\n",
    "for token in tokens:\n",
    "    print(token.text, token.has_vector, token.vector_norm, token.is_oov, token.is_stop)"
   ]
  },
  {
   "cell_type": "code",
   "execution_count": 132,
   "metadata": {},
   "outputs": [],
   "source": [
    "a = get_headlines(\"ACLU Foundation of Southern California\",validation_set_trimmed)"
   ]
  },
  {
   "cell_type": "code",
   "execution_count": 143,
   "metadata": {},
   "outputs": [
    {
     "data": {
      "text/plain": [
       "'These LAUSD students are not heading back to school - LA Times'"
      ]
     },
     "execution_count": 143,
     "metadata": {},
     "output_type": "execute_result"
    }
   ],
   "source": [
    "a['title'].iloc[0]"
   ]
  },
  {
   "cell_type": "code",
   "execution_count": 144,
   "metadata": {},
   "outputs": [
    {
     "name": "stdout",
     "output_type": "stream",
     "text": [
      "> <ipython-input-142-cd3776832529>(13)preprocess_spacy()\n",
      "-> doc = nlp(raw_text)\n",
      "(Pdb) raw_text\n",
      "'These LAUSD students are not heading back to '\n",
      "(Pdb) tokens_ner\n",
      "['school - LA Times']\n",
      "(Pdb) exit()\n"
     ]
    },
    {
     "ename": "BdbQuit",
     "evalue": "",
     "output_type": "error",
     "traceback": [
      "\u001b[0;31m---------------------------------------------------------------------------\u001b[0m",
      "\u001b[0;31mBdbQuit\u001b[0m                                   Traceback (most recent call last)",
      "\u001b[0;32m<ipython-input-144-4237dd8fc577>\u001b[0m in \u001b[0;36m<module>\u001b[0;34m()\u001b[0m\n\u001b[0;32m----> 1\u001b[0;31m \u001b[0mpreprocess_spacy\u001b[0m\u001b[0;34m(\u001b[0m\u001b[0ma\u001b[0m\u001b[0;34m[\u001b[0m\u001b[0;34m'title'\u001b[0m\u001b[0;34m]\u001b[0m\u001b[0;34m.\u001b[0m\u001b[0miloc\u001b[0m\u001b[0;34m[\u001b[0m\u001b[0;36m0\u001b[0m\u001b[0;34m]\u001b[0m\u001b[0;34m)\u001b[0m\u001b[0;34m\u001b[0m\u001b[0;34m\u001b[0m\u001b[0m\n\u001b[0m",
      "\u001b[0;32m<ipython-input-142-cd3776832529>\u001b[0m in \u001b[0;36mpreprocess_spacy\u001b[0;34m(raw_text)\u001b[0m\n\u001b[1;32m     11\u001b[0m     \u001b[0mpdb\u001b[0m\u001b[0;34m.\u001b[0m\u001b[0mset_trace\u001b[0m\u001b[0;34m(\u001b[0m\u001b[0;34m)\u001b[0m\u001b[0;34m\u001b[0m\u001b[0;34m\u001b[0m\u001b[0m\n\u001b[1;32m     12\u001b[0m     \u001b[0;31m#Re-convert preprocessed text to spacy object\u001b[0m\u001b[0;34m\u001b[0m\u001b[0;34m\u001b[0m\u001b[0;34m\u001b[0m\u001b[0m\n\u001b[0;32m---> 13\u001b[0;31m     \u001b[0mdoc\u001b[0m \u001b[0;34m=\u001b[0m \u001b[0mnlp\u001b[0m\u001b[0;34m(\u001b[0m\u001b[0mraw_text\u001b[0m\u001b[0;34m)\u001b[0m\u001b[0;34m\u001b[0m\u001b[0;34m\u001b[0m\u001b[0m\n\u001b[0m\u001b[1;32m     14\u001b[0m \u001b[0;34m\u001b[0m\u001b[0m\n\u001b[1;32m     15\u001b[0m \u001b[0;34m\u001b[0m\u001b[0m\n",
      "\u001b[0;32m<ipython-input-142-cd3776832529>\u001b[0m in \u001b[0;36mpreprocess_spacy\u001b[0;34m(raw_text)\u001b[0m\n\u001b[1;32m     11\u001b[0m     \u001b[0mpdb\u001b[0m\u001b[0;34m.\u001b[0m\u001b[0mset_trace\u001b[0m\u001b[0;34m(\u001b[0m\u001b[0;34m)\u001b[0m\u001b[0;34m\u001b[0m\u001b[0;34m\u001b[0m\u001b[0m\n\u001b[1;32m     12\u001b[0m     \u001b[0;31m#Re-convert preprocessed text to spacy object\u001b[0m\u001b[0;34m\u001b[0m\u001b[0;34m\u001b[0m\u001b[0;34m\u001b[0m\u001b[0m\n\u001b[0;32m---> 13\u001b[0;31m     \u001b[0mdoc\u001b[0m \u001b[0;34m=\u001b[0m \u001b[0mnlp\u001b[0m\u001b[0;34m(\u001b[0m\u001b[0mraw_text\u001b[0m\u001b[0;34m)\u001b[0m\u001b[0;34m\u001b[0m\u001b[0;34m\u001b[0m\u001b[0m\n\u001b[0m\u001b[1;32m     14\u001b[0m \u001b[0;34m\u001b[0m\u001b[0m\n\u001b[1;32m     15\u001b[0m \u001b[0;34m\u001b[0m\u001b[0m\n",
      "\u001b[0;32m/Applications/anaconda/envs/insight/lib/python3.6/bdb.py\u001b[0m in \u001b[0;36mtrace_dispatch\u001b[0;34m(self, frame, event, arg)\u001b[0m\n\u001b[1;32m     49\u001b[0m             \u001b[0;32mreturn\u001b[0m \u001b[0;31m# None\u001b[0m\u001b[0;34m\u001b[0m\u001b[0;34m\u001b[0m\u001b[0m\n\u001b[1;32m     50\u001b[0m         \u001b[0;32mif\u001b[0m \u001b[0mevent\u001b[0m \u001b[0;34m==\u001b[0m \u001b[0;34m'line'\u001b[0m\u001b[0;34m:\u001b[0m\u001b[0;34m\u001b[0m\u001b[0;34m\u001b[0m\u001b[0m\n\u001b[0;32m---> 51\u001b[0;31m             \u001b[0;32mreturn\u001b[0m \u001b[0mself\u001b[0m\u001b[0;34m.\u001b[0m\u001b[0mdispatch_line\u001b[0m\u001b[0;34m(\u001b[0m\u001b[0mframe\u001b[0m\u001b[0;34m)\u001b[0m\u001b[0;34m\u001b[0m\u001b[0;34m\u001b[0m\u001b[0m\n\u001b[0m\u001b[1;32m     52\u001b[0m         \u001b[0;32mif\u001b[0m \u001b[0mevent\u001b[0m \u001b[0;34m==\u001b[0m \u001b[0;34m'call'\u001b[0m\u001b[0;34m:\u001b[0m\u001b[0;34m\u001b[0m\u001b[0;34m\u001b[0m\u001b[0m\n\u001b[1;32m     53\u001b[0m             \u001b[0;32mreturn\u001b[0m \u001b[0mself\u001b[0m\u001b[0;34m.\u001b[0m\u001b[0mdispatch_call\u001b[0m\u001b[0;34m(\u001b[0m\u001b[0mframe\u001b[0m\u001b[0;34m,\u001b[0m \u001b[0marg\u001b[0m\u001b[0;34m)\u001b[0m\u001b[0;34m\u001b[0m\u001b[0;34m\u001b[0m\u001b[0m\n",
      "\u001b[0;32m/Applications/anaconda/envs/insight/lib/python3.6/bdb.py\u001b[0m in \u001b[0;36mdispatch_line\u001b[0;34m(self, frame)\u001b[0m\n\u001b[1;32m     68\u001b[0m         \u001b[0;32mif\u001b[0m \u001b[0mself\u001b[0m\u001b[0;34m.\u001b[0m\u001b[0mstop_here\u001b[0m\u001b[0;34m(\u001b[0m\u001b[0mframe\u001b[0m\u001b[0;34m)\u001b[0m \u001b[0;32mor\u001b[0m \u001b[0mself\u001b[0m\u001b[0;34m.\u001b[0m\u001b[0mbreak_here\u001b[0m\u001b[0;34m(\u001b[0m\u001b[0mframe\u001b[0m\u001b[0;34m)\u001b[0m\u001b[0;34m:\u001b[0m\u001b[0;34m\u001b[0m\u001b[0;34m\u001b[0m\u001b[0m\n\u001b[1;32m     69\u001b[0m             \u001b[0mself\u001b[0m\u001b[0;34m.\u001b[0m\u001b[0muser_line\u001b[0m\u001b[0;34m(\u001b[0m\u001b[0mframe\u001b[0m\u001b[0;34m)\u001b[0m\u001b[0;34m\u001b[0m\u001b[0;34m\u001b[0m\u001b[0m\n\u001b[0;32m---> 70\u001b[0;31m             \u001b[0;32mif\u001b[0m \u001b[0mself\u001b[0m\u001b[0;34m.\u001b[0m\u001b[0mquitting\u001b[0m\u001b[0;34m:\u001b[0m \u001b[0;32mraise\u001b[0m \u001b[0mBdbQuit\u001b[0m\u001b[0;34m\u001b[0m\u001b[0;34m\u001b[0m\u001b[0m\n\u001b[0m\u001b[1;32m     71\u001b[0m         \u001b[0;32mreturn\u001b[0m \u001b[0mself\u001b[0m\u001b[0;34m.\u001b[0m\u001b[0mtrace_dispatch\u001b[0m\u001b[0;34m\u001b[0m\u001b[0;34m\u001b[0m\u001b[0m\n\u001b[1;32m     72\u001b[0m \u001b[0;34m\u001b[0m\u001b[0m\n",
      "\u001b[0;31mBdbQuit\u001b[0m: "
     ]
    }
   ],
   "source": [
    "preprocess_spacy(a['title'].iloc[0])"
   ]
  },
  {
   "cell_type": "code",
   "execution_count": 96,
   "metadata": {},
   "outputs": [
    {
     "data": {
      "text/html": [
       "<div>\n",
       "<style scoped>\n",
       "    .dataframe tbody tr th:only-of-type {\n",
       "        vertical-align: middle;\n",
       "    }\n",
       "\n",
       "    .dataframe tbody tr th {\n",
       "        vertical-align: top;\n",
       "    }\n",
       "\n",
       "    .dataframe thead th {\n",
       "        text-align: right;\n",
       "    }\n",
       "</style>\n",
       "<table border=\"1\" class=\"dataframe\">\n",
       "  <thead>\n",
       "    <tr style=\"text-align: right;\">\n",
       "      <th></th>\n",
       "      <th>charity</th>\n",
       "      <th>rank</th>\n",
       "    </tr>\n",
       "  </thead>\n",
       "  <tbody>\n",
       "    <tr>\n",
       "      <th>772</th>\n",
       "      <td>National Alopecia Areata Foundation</td>\n",
       "      <td>5663.000000</td>\n",
       "    </tr>\n",
       "    <tr>\n",
       "      <th>140</th>\n",
       "      <td>Boston Children's Museum</td>\n",
       "      <td>5653.000000</td>\n",
       "    </tr>\n",
       "    <tr>\n",
       "      <th>600</th>\n",
       "      <td>JCC Association of North America</td>\n",
       "      <td>5619.200000</td>\n",
       "    </tr>\n",
       "    <tr>\n",
       "      <th>1071</th>\n",
       "      <td>Sierra Club Foundation</td>\n",
       "      <td>5610.000000</td>\n",
       "    </tr>\n",
       "    <tr>\n",
       "      <th>299</th>\n",
       "      <td>Commonwealth</td>\n",
       "      <td>5508.187638</td>\n",
       "    </tr>\n",
       "    <tr>\n",
       "      <th>1194</th>\n",
       "      <td>Trees for the Future</td>\n",
       "      <td>5477.000000</td>\n",
       "    </tr>\n",
       "    <tr>\n",
       "      <th>832</th>\n",
       "      <td>Network for Teaching Entrepreneurship</td>\n",
       "      <td>5476.000000</td>\n",
       "    </tr>\n",
       "    <tr>\n",
       "      <th>129</th>\n",
       "      <td>Bet Tzedek</td>\n",
       "      <td>5471.000000</td>\n",
       "    </tr>\n",
       "    <tr>\n",
       "      <th>720</th>\n",
       "      <td>Milwaukee Symphony Orchestra</td>\n",
       "      <td>5470.000000</td>\n",
       "    </tr>\n",
       "    <tr>\n",
       "      <th>547</th>\n",
       "      <td>Hunter Museum of American Art</td>\n",
       "      <td>5460.000000</td>\n",
       "    </tr>\n",
       "    <tr>\n",
       "      <th>629</th>\n",
       "      <td>Keshet</td>\n",
       "      <td>5459.000000</td>\n",
       "    </tr>\n",
       "    <tr>\n",
       "      <th>166</th>\n",
       "      <td>CDC Foundation</td>\n",
       "      <td>5456.000000</td>\n",
       "    </tr>\n",
       "    <tr>\n",
       "      <th>131</th>\n",
       "      <td>Beyond Borders</td>\n",
       "      <td>5455.142857</td>\n",
       "    </tr>\n",
       "    <tr>\n",
       "      <th>835</th>\n",
       "      <td>New America</td>\n",
       "      <td>5448.881890</td>\n",
       "    </tr>\n",
       "    <tr>\n",
       "      <th>425</th>\n",
       "      <td>Focused Ultrasound Foundation</td>\n",
       "      <td>5440.000000</td>\n",
       "    </tr>\n",
       "    <tr>\n",
       "      <th>20</th>\n",
       "      <td>Adler Planetarium</td>\n",
       "      <td>5439.400000</td>\n",
       "    </tr>\n",
       "    <tr>\n",
       "      <th>1160</th>\n",
       "      <td>The New York Public Library</td>\n",
       "      <td>5431.555556</td>\n",
       "    </tr>\n",
       "    <tr>\n",
       "      <th>807</th>\n",
       "      <td>National MPS Society</td>\n",
       "      <td>5420.000000</td>\n",
       "    </tr>\n",
       "    <tr>\n",
       "      <th>441</th>\n",
       "      <td>Free Software Foundation</td>\n",
       "      <td>5388.000000</td>\n",
       "    </tr>\n",
       "    <tr>\n",
       "      <th>717</th>\n",
       "      <td>Milkweed Editions</td>\n",
       "      <td>5368.000000</td>\n",
       "    </tr>\n",
       "    <tr>\n",
       "      <th>5</th>\n",
       "      <td>ACLU Foundation of Southern California</td>\n",
       "      <td>5353.000000</td>\n",
       "    </tr>\n",
       "    <tr>\n",
       "      <th>1226</th>\n",
       "      <td>WHYY</td>\n",
       "      <td>5351.900000</td>\n",
       "    </tr>\n",
       "    <tr>\n",
       "      <th>316</th>\n",
       "      <td>Conservation Lands Foundation</td>\n",
       "      <td>5342.000000</td>\n",
       "    </tr>\n",
       "    <tr>\n",
       "      <th>522</th>\n",
       "      <td>HomeSafe</td>\n",
       "      <td>5312.666667</td>\n",
       "    </tr>\n",
       "    <tr>\n",
       "      <th>709</th>\n",
       "      <td>Metropolitan Planning Council</td>\n",
       "      <td>5302.000000</td>\n",
       "    </tr>\n",
       "    <tr>\n",
       "      <th>975</th>\n",
       "      <td>Public Justice Center</td>\n",
       "      <td>5293.000000</td>\n",
       "    </tr>\n",
       "    <tr>\n",
       "      <th>719</th>\n",
       "      <td>Milwaukee Repertory Theater</td>\n",
       "      <td>5292.000000</td>\n",
       "    </tr>\n",
       "    <tr>\n",
       "      <th>245</th>\n",
       "      <td>Chicago Botanic Garden</td>\n",
       "      <td>5281.000000</td>\n",
       "    </tr>\n",
       "    <tr>\n",
       "      <th>266</th>\n",
       "      <td>Cincinnati Ballet</td>\n",
       "      <td>5269.000000</td>\n",
       "    </tr>\n",
       "    <tr>\n",
       "      <th>998</th>\n",
       "      <td>Rhode Island Public Radio</td>\n",
       "      <td>5265.333333</td>\n",
       "    </tr>\n",
       "    <tr>\n",
       "      <th>...</th>\n",
       "      <td>...</td>\n",
       "      <td>...</td>\n",
       "    </tr>\n",
       "    <tr>\n",
       "      <th>1169</th>\n",
       "      <td>The Sentry</td>\n",
       "      <td>13.500000</td>\n",
       "    </tr>\n",
       "    <tr>\n",
       "      <th>546</th>\n",
       "      <td>Hunger Task Force</td>\n",
       "      <td>13.000000</td>\n",
       "    </tr>\n",
       "    <tr>\n",
       "      <th>721</th>\n",
       "      <td>Minnesota Center for Environmental Advocacy</td>\n",
       "      <td>12.000000</td>\n",
       "    </tr>\n",
       "    <tr>\n",
       "      <th>881</th>\n",
       "      <td>Orangutan Foundation International</td>\n",
       "      <td>12.000000</td>\n",
       "    </tr>\n",
       "    <tr>\n",
       "      <th>620</th>\n",
       "      <td>Just Detention International</td>\n",
       "      <td>12.000000</td>\n",
       "    </tr>\n",
       "    <tr>\n",
       "      <th>65</th>\n",
       "      <td>American Indian College Fund</td>\n",
       "      <td>11.000000</td>\n",
       "    </tr>\n",
       "    <tr>\n",
       "      <th>1212</th>\n",
       "      <td>Upwardly Global</td>\n",
       "      <td>10.000000</td>\n",
       "    </tr>\n",
       "    <tr>\n",
       "      <th>12</th>\n",
       "      <td>Acadia Center</td>\n",
       "      <td>9.000000</td>\n",
       "    </tr>\n",
       "    <tr>\n",
       "      <th>253</th>\n",
       "      <td>Children Now</td>\n",
       "      <td>8.000000</td>\n",
       "    </tr>\n",
       "    <tr>\n",
       "      <th>348</th>\n",
       "      <td>Dian Fossey Gorilla Fund International</td>\n",
       "      <td>8.000000</td>\n",
       "    </tr>\n",
       "    <tr>\n",
       "      <th>333</th>\n",
       "      <td>Cure Alzheimer's Fund</td>\n",
       "      <td>6.500000</td>\n",
       "    </tr>\n",
       "    <tr>\n",
       "      <th>334</th>\n",
       "      <td>Cure SMA</td>\n",
       "      <td>6.000000</td>\n",
       "    </tr>\n",
       "    <tr>\n",
       "      <th>994</th>\n",
       "      <td>Religious Coalition for Reproductive Choice</td>\n",
       "      <td>5.000000</td>\n",
       "    </tr>\n",
       "    <tr>\n",
       "      <th>132</th>\n",
       "      <td>Bible in the Schools</td>\n",
       "      <td>5.000000</td>\n",
       "    </tr>\n",
       "    <tr>\n",
       "      <th>727</th>\n",
       "      <td>Mint Theater Company</td>\n",
       "      <td>5.000000</td>\n",
       "    </tr>\n",
       "    <tr>\n",
       "      <th>402</th>\n",
       "      <td>FRAXA Research Foundation</td>\n",
       "      <td>4.000000</td>\n",
       "    </tr>\n",
       "    <tr>\n",
       "      <th>69</th>\n",
       "      <td>American Liver Foundation</td>\n",
       "      <td>4.000000</td>\n",
       "    </tr>\n",
       "    <tr>\n",
       "      <th>311</th>\n",
       "      <td>Concerns of Police Survivors</td>\n",
       "      <td>3.000000</td>\n",
       "    </tr>\n",
       "    <tr>\n",
       "      <th>701</th>\n",
       "      <td>Memphis Zoo</td>\n",
       "      <td>3.000000</td>\n",
       "    </tr>\n",
       "    <tr>\n",
       "      <th>290</th>\n",
       "      <td>Columbus Citizens Foundation</td>\n",
       "      <td>3.000000</td>\n",
       "    </tr>\n",
       "    <tr>\n",
       "      <th>1271</th>\n",
       "      <td>YIVO Institute for Jewish Research</td>\n",
       "      <td>2.000000</td>\n",
       "    </tr>\n",
       "    <tr>\n",
       "      <th>579</th>\n",
       "      <td>International Campaign for Tibet</td>\n",
       "      <td>2.000000</td>\n",
       "    </tr>\n",
       "    <tr>\n",
       "      <th>658</th>\n",
       "      <td>Living Beyond Breast Cancer</td>\n",
       "      <td>1.000000</td>\n",
       "    </tr>\n",
       "    <tr>\n",
       "      <th>512</th>\n",
       "      <td>Helen Keller Services</td>\n",
       "      <td>1.000000</td>\n",
       "    </tr>\n",
       "    <tr>\n",
       "      <th>592</th>\n",
       "      <td>International Society for Infectious Diseases</td>\n",
       "      <td>1.000000</td>\n",
       "    </tr>\n",
       "    <tr>\n",
       "      <th>1218</th>\n",
       "      <td>Vietnam Veterans Memorial Fund</td>\n",
       "      <td>0.500000</td>\n",
       "    </tr>\n",
       "    <tr>\n",
       "      <th>434</th>\n",
       "      <td>Foster Care to Success</td>\n",
       "      <td>0.000000</td>\n",
       "    </tr>\n",
       "    <tr>\n",
       "      <th>137</th>\n",
       "      <td>Blue Star Families</td>\n",
       "      <td>0.000000</td>\n",
       "    </tr>\n",
       "    <tr>\n",
       "      <th>176</th>\n",
       "      <td>California Trout</td>\n",
       "      <td>0.000000</td>\n",
       "    </tr>\n",
       "    <tr>\n",
       "      <th>649</th>\n",
       "      <td>Liberty in North Korea</td>\n",
       "      <td>0.000000</td>\n",
       "    </tr>\n",
       "  </tbody>\n",
       "</table>\n",
       "<p>1284 rows × 2 columns</p>\n",
       "</div>"
      ],
      "text/plain": [
       "                                            charity         rank\n",
       "772             National Alopecia Areata Foundation  5663.000000\n",
       "140                        Boston Children's Museum  5653.000000\n",
       "600                JCC Association of North America  5619.200000\n",
       "1071                         Sierra Club Foundation  5610.000000\n",
       "299                                    Commonwealth  5508.187638\n",
       "1194                           Trees for the Future  5477.000000\n",
       "832           Network for Teaching Entrepreneurship  5476.000000\n",
       "129                                      Bet Tzedek  5471.000000\n",
       "720                    Milwaukee Symphony Orchestra  5470.000000\n",
       "547                   Hunter Museum of American Art  5460.000000\n",
       "629                                          Keshet  5459.000000\n",
       "166                                  CDC Foundation  5456.000000\n",
       "131                                  Beyond Borders  5455.142857\n",
       "835                                     New America  5448.881890\n",
       "425                   Focused Ultrasound Foundation  5440.000000\n",
       "20                                Adler Planetarium  5439.400000\n",
       "1160                    The New York Public Library  5431.555556\n",
       "807                            National MPS Society  5420.000000\n",
       "441                        Free Software Foundation  5388.000000\n",
       "717                               Milkweed Editions  5368.000000\n",
       "5            ACLU Foundation of Southern California  5353.000000\n",
       "1226                                           WHYY  5351.900000\n",
       "316                   Conservation Lands Foundation  5342.000000\n",
       "522                                        HomeSafe  5312.666667\n",
       "709                   Metropolitan Planning Council  5302.000000\n",
       "975                           Public Justice Center  5293.000000\n",
       "719                     Milwaukee Repertory Theater  5292.000000\n",
       "245                          Chicago Botanic Garden  5281.000000\n",
       "266                               Cincinnati Ballet  5269.000000\n",
       "998                       Rhode Island Public Radio  5265.333333\n",
       "...                                             ...          ...\n",
       "1169                                     The Sentry    13.500000\n",
       "546                               Hunger Task Force    13.000000\n",
       "721     Minnesota Center for Environmental Advocacy    12.000000\n",
       "881              Orangutan Foundation International    12.000000\n",
       "620                    Just Detention International    12.000000\n",
       "65                     American Indian College Fund    11.000000\n",
       "1212                                Upwardly Global    10.000000\n",
       "12                                    Acadia Center     9.000000\n",
       "253                                    Children Now     8.000000\n",
       "348          Dian Fossey Gorilla Fund International     8.000000\n",
       "333                           Cure Alzheimer's Fund     6.500000\n",
       "334                                        Cure SMA     6.000000\n",
       "994     Religious Coalition for Reproductive Choice     5.000000\n",
       "132                            Bible in the Schools     5.000000\n",
       "727                            Mint Theater Company     5.000000\n",
       "402                       FRAXA Research Foundation     4.000000\n",
       "69                        American Liver Foundation     4.000000\n",
       "311                    Concerns of Police Survivors     3.000000\n",
       "701                                     Memphis Zoo     3.000000\n",
       "290                    Columbus Citizens Foundation     3.000000\n",
       "1271             YIVO Institute for Jewish Research     2.000000\n",
       "579                International Campaign for Tibet     2.000000\n",
       "658                     Living Beyond Breast Cancer     1.000000\n",
       "512                           Helen Keller Services     1.000000\n",
       "592   International Society for Infectious Diseases     1.000000\n",
       "1218                 Vietnam Veterans Memorial Fund     0.500000\n",
       "434                          Foster Care to Success     0.000000\n",
       "137                              Blue Star Families     0.000000\n",
       "176                                California Trout     0.000000\n",
       "649                          Liberty in North Korea     0.000000\n",
       "\n",
       "[1284 rows x 2 columns]"
      ]
     },
     "execution_count": 96,
     "metadata": {},
     "output_type": "execute_result"
    }
   ],
   "source": [
    "rank_by_charity"
   ]
  },
  {
   "cell_type": "code",
   "execution_count": 28,
   "metadata": {},
   "outputs": [
    {
     "data": {
      "image/png": "[encoded data removed]",
      "text/plain": [
       "<Figure size 432x288 with 1 Axes>"
      ]
     },
     "metadata": {
      "needs_background": "light"
     },
     "output_type": "display_data"
    }
   ],
   "source": [
    "sns.distplot(validation_set_trimmed['rank'],kde = False)\n",
    "sns.despine()"
   ]
  },
  {
   "cell_type": "code",
   "execution_count": null,
   "metadata": {},
   "outputs": [],
   "source": []
  }
 ],
 "metadata": {
  "kernelspec": {
   "display_name": "Python 3",
   "language": "python",
   "name": "python3"
  },
  "language_info": {
   "codemirror_mode": {
    "name": "ipython",
    "version": 3
   },
   "file_extension": ".py",
   "mimetype": "text/x-python",
   "name": "python",
   "nbconvert_exporter": "python",
   "pygments_lexer": "ipython3",
   "version": "3.6.8"
  }
 },
 "nbformat": 4,
 "nbformat_minor": 2
}
