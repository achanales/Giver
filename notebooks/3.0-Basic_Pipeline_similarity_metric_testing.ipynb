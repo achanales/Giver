{
 "cells": [
  {
   "cell_type": "code",
   "execution_count": 1,
   "metadata": {},
   "outputs": [
    {
     "name": "stdout",
     "output_type": "stream",
     "text": [
      "Populating the interactive namespace from numpy and matplotlib\n"
     ]
    }
   ],
   "source": [
    "import warnings\n",
    "warnings.filterwarnings('ignore')\n",
    "\n",
    "import pandas as pd\n",
    "import seaborn as sns\n",
    "import matplotlib.pyplot as plt\n",
    "from sklearn.metrics.pairwise import cosine_similarity\n",
    "import pickle\n",
    "import pdb\n",
    "%pylab inline"
   ]
  },
  {
   "cell_type": "code",
   "execution_count": 2,
   "metadata": {},
   "outputs": [
    {
     "name": "stderr",
     "output_type": "stream",
     "text": [
      "[nltk_data] Downloading package stopwords to\n",
      "[nltk_data]     /Users/avichanales/nltk_data...\n",
      "[nltk_data]   Package stopwords is already up-to-date!\n"
     ]
    }
   ],
   "source": [
    "import gensim\n",
    "from gensim.utils import simple_preprocess\n",
    "from gensim.parsing.preprocessing import STOPWORDS\n",
    "from nltk.stem import WordNetLemmatizer, SnowballStemmer\n",
    "from nltk.stem.porter import *\n",
    "import numpy as np\n",
    "np.random.seed(400)\n"
   ]
  },
  {
   "cell_type": "code",
   "execution_count": 3,
   "metadata": {},
   "outputs": [],
   "source": [
    "import gensim\n",
    "from gensim.utils import simple_preprocess\n",
    "from gensim.parsing.preprocessing import STOPWORDS\n",
    "from nltk.stem import WordNetLemmatizer, SnowballStemmer\n",
    "from gensim.corpora import Dictionary\n",
    "from gensim.models.tfidfmodel import TfidfModel\n",
    "from gensim.matutils import sparse2full\n",
    "from nltk.stem.porter import *\n",
    "import numpy as np\n",
    "np.random.seed(400)\n",
    "\n",
    "import spacy\n",
    "nlp  = spacy.load('en_core_web_md')"
   ]
  },
  {
   "cell_type": "markdown",
   "metadata": {},
   "source": [
    "## 0.0 Load Data"
   ]
  },
  {
   "cell_type": "code",
   "execution_count": 5,
   "metadata": {},
   "outputs": [],
   "source": [
    "file_name = '/Users/avichanales/Dropbox/Insight/Project/insight_project/data/interim/charity_data_cleaned.csv'\n",
    "all_charity = pd.read_csv(file_name)"
   ]
  },
  {
   "cell_type": "code",
   "execution_count": 6,
   "metadata": {},
   "outputs": [],
   "source": [
    "test = all_charity[['name','score']].head()"
   ]
  },
  {
   "cell_type": "markdown",
   "metadata": {},
   "source": [
    "## 1.0 Pre-process raw text (lamentize and remove stopwords) "
   ]
  },
  {
   "cell_type": "code",
   "execution_count": 7,
   "metadata": {},
   "outputs": [],
   "source": [
    "def lemmatize_stemming(text):\n",
    "    return stemmer.stem(WordNetLemmatizer().lemmatize(text, pos='v'))\n",
    "\n",
    "# Tokenize and lemmatize\n",
    "def preprocess(text):\n",
    "    result=[]\n",
    "    for token in gensim.utils.simple_preprocess(text) :\n",
    "        if token not in gensim.parsing.preprocessing.STOPWORDS:\n",
    "            #result.append(lemmatize_stemming(token))\n",
    "            result.append(token)\n",
    "            \n",
    "    return result\n",
    "\n",
    "def preprocess_docs(docs):\n",
    "    result = []\n",
    "    \n",
    "    for doc in docs:\n",
    "        result.append(preprocess(doc))\n",
    "    \n",
    "    return result"
   ]
  },
  {
   "cell_type": "code",
   "execution_count": 90,
   "metadata": {},
   "outputs": [],
   "source": [
    "def preprocess_spacy(raw_text):\n",
    "    \n",
    "    doc = nlp(raw_text)\n",
    "    \n",
    "    #Remove organizations and people from documnet text\n",
    "    tokens_ner = [entity.text for entity in doc.ents if entity.label_ in {'DATE', 'PERSON', 'ORG','MONEY'}]\n",
    "\n",
    "    for term in tokens_ner:\n",
    "        raw_text = raw_text.replace(term,\"\")\n",
    "    \n",
    "    #Re-convert preprocessed text to spacy object    \n",
    "    doc = nlp(raw_text)\n",
    "\n",
    "\n",
    "    #Remove stopwords and lemmatize\n",
    "    tokens = [token.lemma_ for token in doc if not (token.is_stop or token.is_punct or token.shape_ == 'dd')]\n",
    "    return tokens\n",
    "\n",
    "def preprocess_docs(docs):\n",
    "    result = []\n",
    "    \n",
    "    for doc in docs:\n",
    "        result.append(preprocess_spacy(doc))\n",
    "    \n",
    "    return result"
   ]
  },
  {
   "cell_type": "code",
   "execution_count": 92,
   "metadata": {},
   "outputs": [],
   "source": [
    "all_charity['description_noname'] = all_charity.apply(lambda x: x['description'].replace(x['name'],\"\"),axis=1)"
   ]
  },
  {
   "cell_type": "code",
   "execution_count": 93,
   "metadata": {},
   "outputs": [],
   "source": [
    "mission_text = all_charity['description_noname'].astype('str')\n",
    "\n",
    "#Preprocess mission descriptions\n",
    "mission_text_pre = preprocess_docs(mission_text)"
   ]
  },
  {
   "cell_type": "code",
   "execution_count": 166,
   "metadata": {},
   "outputs": [
    {
     "data": {
      "text/plain": [
       "array(['Environment', 'Arts, Culture, Humanities', 'Human Services',\n",
       "       'Education', 'Animals', 'International', 'Health',\n",
       "       'Human and Civil Rights', 'Research and Public Policy',\n",
       "       'Community Development'], dtype=object)"
      ]
     },
     "execution_count": 166,
     "metadata": {},
     "output_type": "execute_result"
    }
   ],
   "source": [
    "all_charity['category'].unique()"
   ]
  },
  {
   "cell_type": "code",
   "execution_count": 150,
   "metadata": {},
   "outputs": [],
   "source": [
    "from sklearn.feature_extraction.text import CountVectorizer\n",
    "import re"
   ]
  },
  {
   "cell_type": "code",
   "execution_count": 158,
   "metadata": {},
   "outputs": [],
   "source": [
    "corpus = []\n",
    "stop_words = set(stopwords.words(\"english\"))\n",
    "for i in range(0, 3847):\n",
    "    #Remove punctuations\n",
    "    text = re.sub('[^a-zA-Z]', ' ', all_charity['description_noname'][i])\n",
    "    \n",
    "    #Convert to lowercase\n",
    "    text = text.lower()\n",
    "    \n",
    "    #remove tags\n",
    "    text=re.sub(\"&lt;/?.*?&gt;\",\" &lt;&gt; \",text)\n",
    "    \n",
    "    # remove special characters and digits\n",
    "    text=re.sub(\"(\\\\d|\\\\W)+\",\" \",text)\n",
    "    \n",
    "    ##Convert to list from string\n",
    "    text = text.split()\n",
    "    \n",
    "    ##Stemming\n",
    "    ps=PorterStemmer()\n",
    "    #Lemmatisation\n",
    "    lem = WordNetLemmatizer()\n",
    "    text = [lem.lemmatize(word) for word in text if not word in  \n",
    "            stop_words] \n",
    "    text = \" \".join(text)\n",
    "    corpus.append(text)"
   ]
  },
  {
   "cell_type": "code",
   "execution_count": 163,
   "metadata": {},
   "outputs": [
    {
     "name": "stdout",
     "output_type": "stream",
     "text": [
      "                   Bi-gram  Freq\n",
      "0             young people   308\n",
      "1             united state   226\n",
      "2               low income   210\n",
      "3                 new york   193\n",
      "4               non profit   179\n",
      "5              health care   175\n",
      "6             quality life   169\n",
      "7             child family   166\n",
      "8             around world   142\n",
      "9          program service   135\n",
      "10          full potential   134\n",
      "11     educational program   116\n",
      "12       individual family   113\n",
      "13               men woman   111\n",
      "14                boy girl   110\n",
      "15             woman child   109\n",
      "16       education program   108\n",
      "17  nonprofit organization   106\n",
      "18        self sufficiency   106\n",
      "19       domestic violence   106\n",
      "20               york city   103\n",
      "21         mission provide   102\n",
      "22  organization dedicated   101\n",
      "23             high school    99\n",
      "24               long term    98\n",
      "25             child adult    97\n",
      "26          performing art    92\n",
      "27            high quality    92\n",
      "28          social service    90\n",
      "29     profit organization    86\n",
      "30         community based    85\n",
      "31               food bank    83\n",
      "32         ronald mcdonald    77\n",
      "33             los angeles    68\n",
      "34              life skill    68\n",
      "35              year round    66\n",
      "36          since founding    66\n",
      "37               girl club    66\n",
      "38        family community    64\n",
      "39       youth development    64\n",
      "40    potential productive    64\n",
      "41           public policy    63\n",
      "42            improve life    63\n",
      "43         improve quality    63\n",
      "44             human right    62\n",
      "45      education advocacy    62\n",
      "46          mcdonald house    62\n",
      "47           public school    61\n",
      "48         program include    61\n",
      "49          across country    61\n",
      "50         since inception    60\n",
      "51         especially need    60\n",
      "52       future generation    59\n",
      "53             help people    59\n",
      "54             child youth    59\n",
      "55         founded mission    57\n",
      "56       people especially    57\n",
      "57             change life    56\n",
      "58           mental health    56\n",
      "59        public education    56\n"
     ]
    },
    {
     "data": {
      "text/plain": [
       "[Text(0,0,'young people'),\n",
       " Text(0,0,'united state'),\n",
       " Text(0,0,'low income'),\n",
       " Text(0,0,'new york'),\n",
       " Text(0,0,'non profit'),\n",
       " Text(0,0,'health care'),\n",
       " Text(0,0,'quality life'),\n",
       " Text(0,0,'child family'),\n",
       " Text(0,0,'around world'),\n",
       " Text(0,0,'program service'),\n",
       " Text(0,0,'full potential'),\n",
       " Text(0,0,'educational program'),\n",
       " Text(0,0,'individual family'),\n",
       " Text(0,0,'men woman'),\n",
       " Text(0,0,'boy girl'),\n",
       " Text(0,0,'woman child'),\n",
       " Text(0,0,'education program'),\n",
       " Text(0,0,'nonprofit organization'),\n",
       " Text(0,0,'self sufficiency'),\n",
       " Text(0,0,'domestic violence'),\n",
       " Text(0,0,'york city'),\n",
       " Text(0,0,'mission provide'),\n",
       " Text(0,0,'organization dedicated'),\n",
       " Text(0,0,'high school'),\n",
       " Text(0,0,'long term'),\n",
       " Text(0,0,'child adult'),\n",
       " Text(0,0,'performing art'),\n",
       " Text(0,0,'high quality'),\n",
       " Text(0,0,'social service'),\n",
       " Text(0,0,'profit organization'),\n",
       " Text(0,0,'community based'),\n",
       " Text(0,0,'food bank'),\n",
       " Text(0,0,'ronald mcdonald'),\n",
       " Text(0,0,'los angeles'),\n",
       " Text(0,0,'life skill'),\n",
       " Text(0,0,'year round'),\n",
       " Text(0,0,'since founding'),\n",
       " Text(0,0,'girl club'),\n",
       " Text(0,0,'family community'),\n",
       " Text(0,0,'youth development'),\n",
       " Text(0,0,'potential productive'),\n",
       " Text(0,0,'public policy'),\n",
       " Text(0,0,'improve life'),\n",
       " Text(0,0,'improve quality'),\n",
       " Text(0,0,'human right'),\n",
       " Text(0,0,'education advocacy'),\n",
       " Text(0,0,'mcdonald house'),\n",
       " Text(0,0,'public school'),\n",
       " Text(0,0,'program include'),\n",
       " Text(0,0,'across country'),\n",
       " Text(0,0,'since inception'),\n",
       " Text(0,0,'especially need'),\n",
       " Text(0,0,'future generation'),\n",
       " Text(0,0,'help people'),\n",
       " Text(0,0,'child youth'),\n",
       " Text(0,0,'founded mission'),\n",
       " Text(0,0,'people especially'),\n",
       " Text(0,0,'change life'),\n",
       " Text(0,0,'mental health'),\n",
       " Text(0,0,'public education')]"
      ]
     },
     "execution_count": 163,
     "metadata": {},
     "output_type": "execute_result"
    },
    {
     "data": {
      "image/png": "[encoded data removed]",
      "text/plain": [
       "<Figure size 936x576 with 1 Axes>"
      ]
     },
     "metadata": {},
     "output_type": "display_data"
    }
   ],
   "source": [
    "#Most frequently occuring Bi-grams\n",
    "def get_top_n2_words(corpus, n=None):\n",
    "    vec1 = CountVectorizer(ngram_range=(2,2),  \n",
    "            max_features=2000).fit(corpus)\n",
    "    bag_of_words = vec1.transform(corpus)\n",
    "    sum_words = bag_of_words.sum(axis=0) \n",
    "    words_freq = [(word, sum_words[0, idx]) for word, idx in     \n",
    "                  vec1.vocabulary_.items()]\n",
    "    words_freq =sorted(words_freq, key = lambda x: x[1], \n",
    "                reverse=True)\n",
    "    return words_freq[:n]\n",
    "\n",
    "top2_words = get_top_n2_words(corpus, n=60)\n",
    "top2_df = pd.DataFrame(top2_words)\n",
    "top2_df.columns=[\"Bi-gram\", \"Freq\"]\n",
    "print(top2_df)\n",
    "\n",
    "\n",
    "#Barplot of most freq Bi-grams\n",
    "sns.set(rc={'figure.figsize':(13,8)})\n",
    "h=sns.barplot(x=\"Bi-gram\", y=\"Freq\", data=top2_df)\n",
    "h.set_xticklabels(h.get_xticklabels(), rotation=45)"
   ]
  },
  {
   "cell_type": "code",
   "execution_count": 165,
   "metadata": {},
   "outputs": [
    {
     "name": "stdout",
     "output_type": "stream",
     "text": [
      "                         Tri-gram  Freq\n",
      "0                   new york city   103\n",
      "1         non profit organization    73\n",
      "2                   boy girl club    66\n",
      "3       full potential productive    63\n",
      "4           ronald mcdonald house    62\n",
      "5         young people especially    56\n",
      "6            reach full potential    54\n",
      "7            improve quality life    52\n",
      "8          people especially need    52\n",
      "9             enable young people    49\n",
      "10         realize full potential    48\n",
      "11                men woman child    42\n",
      "12              boy scout america    42\n",
      "13                 home away home    39\n",
      "14              young people make    37\n",
      "15      lifetime instilling value    35\n",
      "16                 scout oath law    35\n",
      "17  productive responsible caring    35\n",
      "18              low income family    34\n",
      "19         instilling value scout    34\n"
     ]
    },
    {
     "data": {
      "text/plain": [
       "[Text(0,0,'new york city'),\n",
       " Text(0,0,'non profit organization'),\n",
       " Text(0,0,'boy girl club'),\n",
       " Text(0,0,'full potential productive'),\n",
       " Text(0,0,'ronald mcdonald house'),\n",
       " Text(0,0,'young people especially'),\n",
       " Text(0,0,'reach full potential'),\n",
       " Text(0,0,'improve quality life'),\n",
       " Text(0,0,'people especially need'),\n",
       " Text(0,0,'enable young people'),\n",
       " Text(0,0,'realize full potential'),\n",
       " Text(0,0,'men woman child'),\n",
       " Text(0,0,'boy scout america'),\n",
       " Text(0,0,'home away home'),\n",
       " Text(0,0,'young people make'),\n",
       " Text(0,0,'lifetime instilling value'),\n",
       " Text(0,0,'scout oath law'),\n",
       " Text(0,0,'productive responsible caring'),\n",
       " Text(0,0,'low income family'),\n",
       " Text(0,0,'instilling value scout')]"
      ]
     },
     "execution_count": 165,
     "metadata": {},
     "output_type": "execute_result"
    },
    {
     "data": {
      "image/png": "[encoded data removed]",
      "text/plain": [
       "<Figure size 936x576 with 1 Axes>"
      ]
     },
     "metadata": {},
     "output_type": "display_data"
    }
   ],
   "source": [
    "#Most frequently occuring Tri-grams\n",
    "def get_top_n3_words(corpus, n=None):\n",
    "    vec1 = CountVectorizer(ngram_range=(3,3), \n",
    "           max_features=2000).fit(corpus)\n",
    "    bag_of_words = vec1.transform(corpus)\n",
    "    sum_words = bag_of_words.sum(axis=0) \n",
    "    words_freq = [(word, sum_words[0, idx]) for word, idx in     \n",
    "                  vec1.vocabulary_.items()]\n",
    "    words_freq =sorted(words_freq, key = lambda x: x[1], \n",
    "                reverse=True)\n",
    "    return words_freq[:n]\n",
    "top3_words = get_top_n3_words(corpus, n=20)\n",
    "top3_df = pd.DataFrame(top3_words)\n",
    "top3_df.columns=[\"Tri-gram\", \"Freq\"]\n",
    "print(top3_df)\n",
    "#Barplot of most freq Tri-grams\n",
    "import seaborn as sns\n",
    "sns.set(rc={'figure.figsize':(13,8)})\n",
    "j=sns.barplot(x=\"Tri-gram\", y=\"Freq\", data=top3_df)\n",
    "j.set_xticklabels(j.get_xticklabels(), rotation=45)"
   ]
  },
  {
   "cell_type": "markdown",
   "metadata": {},
   "source": [
    "## 2.0 Convert pre-processed text to vectors and embed"
   ]
  },
  {
   "cell_type": "code",
   "execution_count": 94,
   "metadata": {},
   "outputs": [],
   "source": [
    "def word_embed_charity_tfidf(processed_docs,word_min=5, word_max_perc=.2):\n",
    "    \n",
    "    'Assumes docs have already been pre-processed'\n",
    "    \n",
    "    #Create dictionary from corpus\n",
    "    docs_dict = Dictionary(processed_docs)\n",
    "    docs_dict.filter_extremes(no_below=word_min, no_above=word_max_perc)\n",
    "    docs_dict.compactify()\n",
    "    \n",
    "    #Convert docs into tf-idf vectors\n",
    "    docs_corpus = [docs_dict.doc2bow(doc) for doc in processed_docs]\n",
    "    model_tfidf = TfidfModel(docs_corpus, id2word=docs_dict)\n",
    "    docs_tfidf  = model_tfidf[docs_corpus]\n",
    "    docs_vecs   = np.vstack([sparse2full(c, len(docs_dict)) for c in docs_tfidf])\n",
    "    \n",
    "    num_docs= np.shape(docs_vecs)[0]\n",
    "    num_words = np.shape(docs_vecs)[1]\n",
    "\n",
    "    print(\"Total # of docs: {}\".format(num_docs))\n",
    "    print(\"Total # of words in dict: {}\".format(num_words))\n",
    "    \n",
    "    #For each word in dict obtain embedding vector (Glove vectors)\n",
    "    tfidf_emb_vecs = np.vstack([nlp(docs_dict[i]).vector for i in range(len(docs_dict))])\n",
    "    \n",
    "    # Weight glove vectors by tf-idf values\n",
    "    docs_emb = np.dot(docs_vecs, tfidf_emb_vecs) \n",
    "        \n",
    "    return docs_emb, docs_dict, model_tfidf, tfidf_emb_vecs, docs_tfidf"
   ]
  },
  {
   "cell_type": "code",
   "execution_count": 142,
   "metadata": {},
   "outputs": [],
   "source": [
    "def word_embed_charity_notfidf(processed_docs,word_min=5, word_max_perc=.8 ):\n",
    "    \n",
    "    'Assumes docs have already been pre-processed'\n",
    "    \n",
    "    #Create dictionary from corpus\n",
    "    docs_dict = Dictionary(processed_docs)\n",
    "    docs_dict.filter_extremes(no_below=word_min, no_above=word_max_perc)\n",
    "    docs_dict.compactify()\n",
    "    \n",
    "    #Convert docs into tf-idf vectors\n",
    "    docs_corpus = [docs_dict.doc2bow(doc) for doc in processed_docs]\n",
    "    docs_vecs   = np.vstack([sparse2full(c, len(docs_dict)) for c in docs_corpus])\n",
    "    \n",
    "    num_docs= np.shape(docs_vecs)[0]\n",
    "    num_words = np.shape(docs_vecs)[1]\n",
    "\n",
    "    print(\"Total # of docs: {}\".format(num_docs))\n",
    "    print(\"Total # of words in dict: {}\".format(num_words))\n",
    "    \n",
    "    #For each word in dict obtain embedding vector (Glove vectors)\n",
    "    emb_vecs = np.vstack([nlp(docs_dict[i]).vector for i in range(len(docs_dict))])\n",
    "    \n",
    "    # Sum glove vectors over words in doc\n",
    "    docs_emb = np.dot(docs_vecs, emb_vecs) \n",
    "        \n",
    "    return docs_emb, docs_dict, emb_vecs"
   ]
  },
  {
   "cell_type": "code",
   "execution_count": 148,
   "metadata": {},
   "outputs": [
    {
     "name": "stdout",
     "output_type": "stream",
     "text": [
      "Total # of docs: 5637\n",
      "Total # of words in dict: 12603\n"
     ]
    }
   ],
   "source": [
    "word_min = 0\n",
    "word_max_perc = .5\n",
    "charity_docs_emb, charity_docs_dict, charity_model_tfidf, charity_tfidf_emb_vecs, charity_docs_tfidf = word_embed_charity_tfidf(mission_text_pre,\n",
    "                                                                                                            word_min=word_min, \n",
    "                                                                                                            word_max_perc=word_max_perc)\n",
    "\n",
    "\n"
   ]
  },
  {
   "cell_type": "code",
   "execution_count": 149,
   "metadata": {},
   "outputs": [],
   "source": [
    "#Store output in dictionary and save\n",
    "charity_model_dict = {'charity_docs_emb': charity_docs_emb, \n",
    "                      'charity_docs_dict': charity_docs_dict,\n",
    "                      'charity_model_tfidf': charity_model_tfidf,\n",
    "                     'charity_tfidf_emb_vecs': charity_tfidf_emb_vecs}\n",
    "\n",
    "with open('/Users/avichanales/Dropbox/Insight/Project/insight_project/data/processed/charity_model_min_{}_max_{}.pickle'.format(word_min,word_max_perc), 'wb') as handle:\n",
    "    pickle.dump(charity_model_dict, handle, protocol=pickle.HIGHEST_PROTOCOL)"
   ]
  },
  {
   "cell_type": "code",
   "execution_count": 144,
   "metadata": {},
   "outputs": [
    {
     "name": "stdout",
     "output_type": "stream",
     "text": [
      "Total # of docs: 5637\n",
      "Total # of words in dict: 12603\n"
     ]
    }
   ],
   "source": [
    "word_min = 0\n",
    "word_max_perc = .5\n",
    "charity_docs_emb, charity_docs_dict, charity_emb_vecs = word_embed_charity_notfidf(mission_text_pre,word_min=word_min,word_max_perc=word_max_perc)\n"
   ]
  },
  {
   "cell_type": "code",
   "execution_count": 147,
   "metadata": {},
   "outputs": [],
   "source": [
    "#Store output in dictionary and save\n",
    "charity_model_dict = {'charity_docs_emb': charity_docs_emb, \n",
    "                      'charity_docs_dict': charity_docs_dict,\n",
    "                       'charity_emb_vecs': charity_emb_vecs}\n",
    "\n",
    "with open('/Users/avichanales/Dropbox/Insight/Project/insight_project/data/processed/charity_model_min_{}_max_{}_notfidf.pickle'.format(word_min,word_max_perc), 'wb') as handle:\n",
    "    pickle.dump(charity_model_dict, handle, protocol=pickle.HIGHEST_PROTOCOL)"
   ]
  },
  {
   "cell_type": "code",
   "execution_count": 130,
   "metadata": {},
   "outputs": [],
   "source": [
    "def getKey(item):\n",
    "    return item[1]\n",
    "\n",
    "def find_keywords(all_charity,charity_name,charity_docs_dict,charity_docs_tfidf,mission_text_pre,n=10):\n",
    "    'Funciton to find top n keywords in mission statement based on tfidf'\n",
    "    \n",
    "    \n",
    "    #Get index of charity\n",
    "    idx = all_charity[all_charity.name == charity_name].index.values.astype(int)[0]\n",
    "    \n",
    "    #Sort words from mission statement by tfidf values\n",
    "    s = sorted(charity_docs_tfidf[idx],key=getKey,reverse=True)\n",
    "    \n",
    "    # Return indices of top N words with highest tfidf values\n",
    "    topn_tfidf_values = [s[i][0] for i in range(0,n)]\n",
    "    \n",
    "    # Look up words in mission statement\n",
    "    topn_words = [charity_docs_dict[i] for i in topn_tfidf_values]\n",
    "    \n",
    "    # Return mission statement\n",
    "    mission_statement = mission_text_pre[idx]\n",
    "    \n",
    "    return topn_words, mission_statement"
   ]
  },
  {
   "cell_type": "code",
   "execution_count": 135,
   "metadata": {},
   "outputs": [],
   "source": [
    "topn_words, mission_statement = find_keywords(all_charity,'Friends of the Earth',charity_docs_dict, charity_docs_tfidf,mission_text_pre,15)"
   ]
  },
  {
   "cell_type": "code",
   "execution_count": 136,
   "metadata": {},
   "outputs": [
    {
     "data": {
      "text/plain": [
       "['fight',\n",
       " 'protect',\n",
       " 'campaign',\n",
       " 'grassroots',\n",
       " 'harmful',\n",
       " 'potentially',\n",
       " 'warming',\n",
       " 'toxic',\n",
       " 'pollution',\n",
       " 'network',\n",
       " 'International',\n",
       " 'world',\n",
       " 'smart',\n",
       " 'planet',\n",
       " 'healthy']"
      ]
     },
     "execution_count": 136,
     "metadata": {},
     "output_type": "execute_result"
    }
   ],
   "source": [
    "topn_words"
   ]
  },
  {
   "cell_type": "code",
   "execution_count": 126,
   "metadata": {},
   "outputs": [
    {
     "data": {
      "text/plain": [
       "[' ',\n",
       " 'formally',\n",
       " 'establish',\n",
       " ' ',\n",
       " 'local',\n",
       " 'pastor',\n",
       " 'recognize',\n",
       " 'necessity',\n",
       " 'permanent',\n",
       " 'ministry',\n",
       " 'effort',\n",
       " 'meet',\n",
       " 'need',\n",
       " 'grow',\n",
       " 'population',\n",
       " 'homeless',\n",
       " 'Knoxville',\n",
       " 'man',\n",
       " 'forge',\n",
       " 'vision',\n",
       " 'establish',\n",
       " 'ministry',\n",
       " 'center',\n",
       " 'locate',\n",
       " 'heart',\n",
       " 'downtown',\n",
       " 'area',\n",
       " 'Fifth',\n",
       " 'Avenue',\n",
       " 'today',\n",
       " ' ',\n",
       " 'equipped',\n",
       " 'prepared',\n",
       " 'fulfill',\n",
       " 'mandate',\n",
       " 'pledge',\n",
       " 'hurt',\n",
       " 'homeless',\n",
       " 'great',\n",
       " 'Knoxville',\n",
       " 'area',\n",
       " 'mission',\n",
       " 'seek',\n",
       " 'rescue',\n",
       " 'poor',\n",
       " 'needy',\n",
       " 'Knox',\n",
       " 'Area',\n",
       " 'provide',\n",
       " 'service']"
      ]
     },
     "execution_count": 126,
     "metadata": {},
     "output_type": "execute_result"
    }
   ],
   "source": [
    "mission_statement"
   ]
  },
  {
   "cell_type": "code",
   "execution_count": 112,
   "metadata": {},
   "outputs": [
    {
     "data": {
      "text/plain": [
       "'healthy'"
      ]
     },
     "execution_count": 112,
     "metadata": {},
     "output_type": "execute_result"
    }
   ],
   "source": [
    "mission_statement[47]"
   ]
  },
  {
   "cell_type": "code",
   "execution_count": 31,
   "metadata": {},
   "outputs": [],
   "source": [
    "def getKey(item):\n",
    "    return item[1]\n",
    "s = sorted(charity_docs_tdidf[0],key=getKey,reverse=True)\n"
   ]
  },
  {
   "cell_type": "code",
   "execution_count": 43,
   "metadata": {},
   "outputs": [],
   "source": [
    "top5 = [s[i][0] for i in range(0,10)]"
   ]
  },
  {
   "cell_type": "code",
   "execution_count": 44,
   "metadata": {},
   "outputs": [
    {
     "data": {
      "text/plain": [
       "[10, 0, 7, 8, 14, 4, 15, 11, 5, 12]"
      ]
     },
     "execution_count": 44,
     "metadata": {},
     "output_type": "execute_result"
    }
   ],
   "source": [
    "top5"
   ]
  },
  {
   "cell_type": "code",
   "execution_count": 45,
   "metadata": {},
   "outputs": [],
   "source": [
    "top5_words = [mission_text_pre[0][i] for i in top5]"
   ]
  },
  {
   "cell_type": "code",
   "execution_count": 46,
   "metadata": {},
   "outputs": [
    {
     "data": {
      "text/plain": [
       "['protect',\n",
       " 'work',\n",
       " 'urban',\n",
       " 'rural',\n",
       " 'conserve',\n",
       " 'life',\n",
       " 'natural',\n",
       " 'family',\n",
       " 'build',\n",
       " 'farm']"
      ]
     },
     "execution_count": 46,
     "metadata": {},
     "output_type": "execute_result"
    }
   ],
   "source": [
    "top5_words"
   ]
  },
  {
   "cell_type": "markdown",
   "metadata": {},
   "source": [
    "## 4.0 Preprocess Headline"
   ]
  },
  {
   "cell_type": "code",
   "execution_count": 159,
   "metadata": {},
   "outputs": [],
   "source": [
    "def process_embed_text(text,charity_docs_dict,charity_model_tfidf,charity_tfidf_emb_vecs):\n",
    "    \n",
    "    text_pre = preprocess_spacy(text)\n",
    "     \n",
    "    #Convert docs into tf-idf vectors\n",
    "    doc_corpus = charity_docs_dict.doc2bow(text_pre)\n",
    "    doc_tfidf  = charity_model_tfidf[doc_corpus]\n",
    "    doc_vec   = np.vstack([sparse2full(doc_tfidf, len(charity_docs_dict))])\n",
    "    \n",
    "    # sum of glove vectors linearlly weighted by tfidf \n",
    "    art_emb = np.dot(doc_vec, charity_tfidf_emb_vecs)\n",
    "    \n",
    "    \n",
    "    return art_emb"
   ]
  },
  {
   "cell_type": "code",
   "execution_count": 160,
   "metadata": {},
   "outputs": [],
   "source": [
    "def compute_similarity_output_n(art_emb,charity_docs_emb,topn):\n",
    "    \n",
    "    #compute cosine distance from article embedding to all charities\n",
    "    sim_to_charities = cosine_similarity(art_emb,charity_docs_emb)\n",
    "    \n",
    "    #find topN similarity scores\n",
    "    sim_scores_sorted = -np.sort(-sim_to_charities).flatten()\n",
    "    topN_scores = sim_scores_sorted[:topn]\n",
    "    \n",
    "    #find topN indices\n",
    "    indices_sorted = (-sim_to_charities).argsort().flatten()\n",
    "    topN_indices = indices_sorted[:topn].flatten()\n",
    "    \n",
    "    return topN_scores, topN_indices\n",
    "    \n",
    "    "
   ]
  },
  {
   "cell_type": "code",
   "execution_count": 161,
   "metadata": {},
   "outputs": [],
   "source": [
    "def topN_ranked_charities(charity_df, topN_scores, topN_indices):\n",
    "    \n",
    "    charity_df_slim = charity_df[['name','subcategory','score','description']]\n",
    "    \n",
    "    #Extract topN charities and info\n",
    "    similar_charities = charity_df_slim.iloc[topN_indices].reset_index()\n",
    "    \n",
    "    #Add their similarity scores\n",
    "    similar_charities['sim_score'] = topN_scores\n",
    "    \n",
    "    return similar_charities"
   ]
  },
  {
   "cell_type": "code",
   "execution_count": 174,
   "metadata": {},
   "outputs": [],
   "source": [
    "text = 'Greta Thunberg became a climate activist not in spite of her autism, but because of it'"
   ]
  },
  {
   "cell_type": "code",
   "execution_count": 175,
   "metadata": {},
   "outputs": [],
   "source": [
    "art_emb = process_embed_text(text,charity_docs_dict,charity_model_tfidf,charity_tfidf_emb_vecs)"
   ]
  },
  {
   "cell_type": "code",
   "execution_count": 176,
   "metadata": {},
   "outputs": [],
   "source": [
    "topN_scores, topN_indices = compute_similarity_output_n(art_emb,charity_docs_emb,3)\n",
    "topN_charities = topN_ranked_charities(all_charity, topN_scores, topN_indices)"
   ]
  },
  {
   "cell_type": "code",
   "execution_count": 177,
   "metadata": {},
   "outputs": [
    {
     "data": {
      "text/html": [
       "<div>\n",
       "<style scoped>\n",
       "    .dataframe tbody tr th:only-of-type {\n",
       "        vertical-align: middle;\n",
       "    }\n",
       "\n",
       "    .dataframe tbody tr th {\n",
       "        vertical-align: top;\n",
       "    }\n",
       "\n",
       "    .dataframe thead th {\n",
       "        text-align: right;\n",
       "    }\n",
       "</style>\n",
       "<table border=\"1\" class=\"dataframe\">\n",
       "  <thead>\n",
       "    <tr style=\"text-align: right;\">\n",
       "      <th></th>\n",
       "      <th>index</th>\n",
       "      <th>name</th>\n",
       "      <th>subcategory</th>\n",
       "      <th>score</th>\n",
       "      <th>description</th>\n",
       "      <th>sim_score</th>\n",
       "    </tr>\n",
       "  </thead>\n",
       "  <tbody>\n",
       "    <tr>\n",
       "      <th>0</th>\n",
       "      <td>2858</td>\n",
       "      <td>The Austin Community in Action</td>\n",
       "      <td>Patient and Family Support</td>\n",
       "      <td>85.09</td>\n",
       "      <td>The Autism Community in Action (TACA) formerly...</td>\n",
       "      <td>0.717931</td>\n",
       "    </tr>\n",
       "    <tr>\n",
       "      <th>1</th>\n",
       "      <td>4458</td>\n",
       "      <td>Doug Flutie Jr. Foundation For Autism</td>\n",
       "      <td>Diseases, Disorders, and Disciplines</td>\n",
       "      <td>87.31</td>\n",
       "      <td>The Doug Flutie Jr. Foundation For Autism's go...</td>\n",
       "      <td>0.712984</td>\n",
       "    </tr>\n",
       "    <tr>\n",
       "      <th>2</th>\n",
       "      <td>3952</td>\n",
       "      <td>Climate Central</td>\n",
       "      <td>Environmental Protection and Conservation</td>\n",
       "      <td>84.53</td>\n",
       "      <td>Climate Central works to communicate the scien...</td>\n",
       "      <td>0.693686</td>\n",
       "    </tr>\n",
       "    <tr>\n",
       "      <th>3</th>\n",
       "      <td>2347</td>\n",
       "      <td>Turning Pointe Autism Foundation</td>\n",
       "      <td>Patient and Family Support</td>\n",
       "      <td>94.74</td>\n",
       "      <td>Turning Pointe Autism Foundation was founded i...</td>\n",
       "      <td>0.690892</td>\n",
       "    </tr>\n",
       "    <tr>\n",
       "      <th>4</th>\n",
       "      <td>4679</td>\n",
       "      <td>ecoAmerica</td>\n",
       "      <td>Environmental Protection and Conservation</td>\n",
       "      <td>88.77</td>\n",
       "      <td>ecoAmerica builds institutional leadership, pu...</td>\n",
       "      <td>0.676833</td>\n",
       "    </tr>\n",
       "    <tr>\n",
       "      <th>5</th>\n",
       "      <td>492</td>\n",
       "      <td>Lewy Body Dementia Association</td>\n",
       "      <td>Patient and Family Support</td>\n",
       "      <td>89.94</td>\n",
       "      <td>Through outreach, education and research, we s...</td>\n",
       "      <td>0.670822</td>\n",
       "    </tr>\n",
       "    <tr>\n",
       "      <th>6</th>\n",
       "      <td>4795</td>\n",
       "      <td>FRAXA Research Foundation</td>\n",
       "      <td>Medical Research</td>\n",
       "      <td>97.17</td>\n",
       "      <td>FRAXA Research Foundation was founded in 1994 ...</td>\n",
       "      <td>0.668610</td>\n",
       "    </tr>\n",
       "    <tr>\n",
       "      <th>7</th>\n",
       "      <td>1175</td>\n",
       "      <td>National Center for Transgender Equality</td>\n",
       "      <td>Advocacy and Education</td>\n",
       "      <td>83.37</td>\n",
       "      <td>The National Center for Transgender Equality (...</td>\n",
       "      <td>0.668078</td>\n",
       "    </tr>\n",
       "    <tr>\n",
       "      <th>8</th>\n",
       "      <td>1194</td>\n",
       "      <td>National Alliance for the Mentally Ill of New ...</td>\n",
       "      <td>Diseases, Disorders, and Disciplines</td>\n",
       "      <td>87.19</td>\n",
       "      <td>The National Alliance on Mental Illness of New...</td>\n",
       "      <td>0.667901</td>\n",
       "    </tr>\n",
       "    <tr>\n",
       "      <th>9</th>\n",
       "      <td>4232</td>\n",
       "      <td>Center for International Policy</td>\n",
       "      <td>International Peace, Security, and Affairs</td>\n",
       "      <td>88.46</td>\n",
       "      <td>The Center for International Policy is a nonpr...</td>\n",
       "      <td>0.666624</td>\n",
       "    </tr>\n",
       "    <tr>\n",
       "      <th>10</th>\n",
       "      <td>3949</td>\n",
       "      <td>The Clinton Foundation</td>\n",
       "      <td>Development and Relief Services</td>\n",
       "      <td>92.40</td>\n",
       "      <td>The Clinton Foundation convenes businesses, go...</td>\n",
       "      <td>0.661352</td>\n",
       "    </tr>\n",
       "    <tr>\n",
       "      <th>11</th>\n",
       "      <td>1260</td>\n",
       "      <td>Organization for Autism Research</td>\n",
       "      <td>Diseases, Disorders, and Disciplines</td>\n",
       "      <td>95.05</td>\n",
       "      <td>The Organization for Autism Research (OAR) was...</td>\n",
       "      <td>0.660859</td>\n",
       "    </tr>\n",
       "    <tr>\n",
       "      <th>12</th>\n",
       "      <td>5477</td>\n",
       "      <td>Headwaters Foundation for Social Justice</td>\n",
       "      <td>Advocacy and Education</td>\n",
       "      <td>87.17</td>\n",
       "      <td>Headwaters Foundation for Justice is a catalys...</td>\n",
       "      <td>0.657865</td>\n",
       "    </tr>\n",
       "    <tr>\n",
       "      <th>13</th>\n",
       "      <td>959</td>\n",
       "      <td>NEXT for AUTISM</td>\n",
       "      <td>Diseases, Disorders, and Disciplines</td>\n",
       "      <td>87.68</td>\n",
       "      <td>NEXT for AUTISM transforms the national landsc...</td>\n",
       "      <td>0.655523</td>\n",
       "    </tr>\n",
       "    <tr>\n",
       "      <th>14</th>\n",
       "      <td>4939</td>\n",
       "      <td>Fight Colorectal Cancer</td>\n",
       "      <td>Patient and Family Support</td>\n",
       "      <td>96.46</td>\n",
       "      <td>Founded in 2005, Fight Colorectal Cancer is th...</td>\n",
       "      <td>0.655208</td>\n",
       "    </tr>\n",
       "    <tr>\n",
       "      <th>15</th>\n",
       "      <td>3189</td>\n",
       "      <td>Alex's Lemonade Stand Foundation</td>\n",
       "      <td>Medical Research</td>\n",
       "      <td>97.40</td>\n",
       "      <td>To change the lives of children with cancer th...</td>\n",
       "      <td>0.653534</td>\n",
       "    </tr>\n",
       "    <tr>\n",
       "      <th>16</th>\n",
       "      <td>2894</td>\n",
       "      <td>The Asperger-Autism Network</td>\n",
       "      <td>Social Services</td>\n",
       "      <td>87.48</td>\n",
       "      <td>The Asperger/Autism Network (AANE) works with ...</td>\n",
       "      <td>0.649695</td>\n",
       "    </tr>\n",
       "    <tr>\n",
       "      <th>17</th>\n",
       "      <td>103</td>\n",
       "      <td>Institute for Policy Studies</td>\n",
       "      <td>Social and Public Policy Research</td>\n",
       "      <td>94.21</td>\n",
       "      <td>Since 1963, the Institute for Policy Studies (...</td>\n",
       "      <td>0.649358</td>\n",
       "    </tr>\n",
       "    <tr>\n",
       "      <th>18</th>\n",
       "      <td>4906</td>\n",
       "      <td>Florida Breast Cancer Foundation</td>\n",
       "      <td>Diseases, Disorders, and Disciplines</td>\n",
       "      <td>92.92</td>\n",
       "      <td>Florida Breast Cancer Foundation strives to en...</td>\n",
       "      <td>0.649120</td>\n",
       "    </tr>\n",
       "    <tr>\n",
       "      <th>19</th>\n",
       "      <td>3163</td>\n",
       "      <td>Alliance for Justice</td>\n",
       "      <td>Advocacy and Education</td>\n",
       "      <td>95.83</td>\n",
       "      <td>Alliance for Justice (AFJ) is a national assoc...</td>\n",
       "      <td>0.648292</td>\n",
       "    </tr>\n",
       "  </tbody>\n",
       "</table>\n",
       "</div>"
      ],
      "text/plain": [
       "    index                                               name  \\\n",
       "0    2858                     The Austin Community in Action   \n",
       "1    4458              Doug Flutie Jr. Foundation For Autism   \n",
       "2    3952                                    Climate Central   \n",
       "3    2347                   Turning Pointe Autism Foundation   \n",
       "4    4679                                         ecoAmerica   \n",
       "5     492                     Lewy Body Dementia Association   \n",
       "6    4795                          FRAXA Research Foundation   \n",
       "7    1175           National Center for Transgender Equality   \n",
       "8    1194  National Alliance for the Mentally Ill of New ...   \n",
       "9    4232                    Center for International Policy   \n",
       "10   3949                             The Clinton Foundation   \n",
       "11   1260                   Organization for Autism Research   \n",
       "12   5477           Headwaters Foundation for Social Justice   \n",
       "13    959                                    NEXT for AUTISM   \n",
       "14   4939                            Fight Colorectal Cancer   \n",
       "15   3189                   Alex's Lemonade Stand Foundation   \n",
       "16   2894                        The Asperger-Autism Network   \n",
       "17    103                       Institute for Policy Studies   \n",
       "18   4906                   Florida Breast Cancer Foundation   \n",
       "19   3163                               Alliance for Justice   \n",
       "\n",
       "                                   subcategory  score  \\\n",
       "0                   Patient and Family Support  85.09   \n",
       "1         Diseases, Disorders, and Disciplines  87.31   \n",
       "2    Environmental Protection and Conservation  84.53   \n",
       "3                   Patient and Family Support  94.74   \n",
       "4    Environmental Protection and Conservation  88.77   \n",
       "5                   Patient and Family Support  89.94   \n",
       "6                             Medical Research  97.17   \n",
       "7                       Advocacy and Education  83.37   \n",
       "8         Diseases, Disorders, and Disciplines  87.19   \n",
       "9   International Peace, Security, and Affairs  88.46   \n",
       "10             Development and Relief Services  92.40   \n",
       "11        Diseases, Disorders, and Disciplines  95.05   \n",
       "12                      Advocacy and Education  87.17   \n",
       "13        Diseases, Disorders, and Disciplines  87.68   \n",
       "14                  Patient and Family Support  96.46   \n",
       "15                            Medical Research  97.40   \n",
       "16                             Social Services  87.48   \n",
       "17           Social and Public Policy Research  94.21   \n",
       "18        Diseases, Disorders, and Disciplines  92.92   \n",
       "19                      Advocacy and Education  95.83   \n",
       "\n",
       "                                          description  sim_score  \n",
       "0   The Autism Community in Action (TACA) formerly...   0.717931  \n",
       "1   The Doug Flutie Jr. Foundation For Autism's go...   0.712984  \n",
       "2   Climate Central works to communicate the scien...   0.693686  \n",
       "3   Turning Pointe Autism Foundation was founded i...   0.690892  \n",
       "4   ecoAmerica builds institutional leadership, pu...   0.676833  \n",
       "5   Through outreach, education and research, we s...   0.670822  \n",
       "6   FRAXA Research Foundation was founded in 1994 ...   0.668610  \n",
       "7   The National Center for Transgender Equality (...   0.668078  \n",
       "8   The National Alliance on Mental Illness of New...   0.667901  \n",
       "9   The Center for International Policy is a nonpr...   0.666624  \n",
       "10  The Clinton Foundation convenes businesses, go...   0.661352  \n",
       "11  The Organization for Autism Research (OAR) was...   0.660859  \n",
       "12  Headwaters Foundation for Justice is a catalys...   0.657865  \n",
       "13  NEXT for AUTISM transforms the national landsc...   0.655523  \n",
       "14  Founded in 2005, Fight Colorectal Cancer is th...   0.655208  \n",
       "15  To change the lives of children with cancer th...   0.653534  \n",
       "16  The Asperger/Autism Network (AANE) works with ...   0.649695  \n",
       "17  Since 1963, the Institute for Policy Studies (...   0.649358  \n",
       "18  Florida Breast Cancer Foundation strives to en...   0.649120  \n",
       "19  Alliance for Justice (AFJ) is a national assoc...   0.648292  "
      ]
     },
     "execution_count": 177,
     "metadata": {},
     "output_type": "execute_result"
    }
   ],
   "source": [
    "topN_charities"
   ]
  },
  {
   "cell_type": "code",
   "execution_count": null,
   "metadata": {},
   "outputs": [],
   "source": []
  }
 ],
 "metadata": {
  "kernelspec": {
   "display_name": "Python 3",
   "language": "python",
   "name": "python3"
  },
  "language_info": {
   "codemirror_mode": {
    "name": "ipython",
    "version": 3
   },
   "file_extension": ".py",
   "mimetype": "text/x-python",
   "name": "python",
   "nbconvert_exporter": "python",
   "pygments_lexer": "ipython3",
   "version": "3.6.8"
  }
 },
 "nbformat": 4,
 "nbformat_minor": 4
}
