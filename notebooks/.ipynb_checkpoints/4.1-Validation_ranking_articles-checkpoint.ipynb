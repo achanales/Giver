{
 "cells": [
  {
   "cell_type": "code",
   "execution_count": 6,
   "metadata": {},
   "outputs": [
    {
     "name": "stdout",
     "output_type": "stream",
     "text": [
      "Populating the interactive namespace from numpy and matplotlib\n"
     ]
    }
   ],
   "source": [
    "import warnings\n",
    "warnings.filterwarnings('ignore')\n",
    "\n",
    "import pandas as pd\n",
    "import seaborn as sns\n",
    "import matplotlib.pyplot as plt\n",
    "from sklearn.metrics.pairwise import cosine_similarity\n",
    "import pickle\n",
    "from ast import literal_eval\n",
    "import os\n",
    "%pylab inline"
   ]
  },
  {
   "cell_type": "code",
   "execution_count": 2,
   "metadata": {},
   "outputs": [],
   "source": [
    "import gensim\n",
    "from gensim.corpora import Dictionary\n",
    "from gensim.models.tfidfmodel import TfidfModel\n",
    "from gensim.matutils import sparse2full\n",
    "import numpy as np\n",
    "np.random.seed(400)\n",
    "\n",
    "import spacy\n",
    "nlp  = spacy.load('en_core_web_md')"
   ]
  },
  {
   "cell_type": "code",
   "execution_count": 3,
   "metadata": {},
   "outputs": [],
   "source": [
    "# import custom functions\n",
    "from nlp_functions import preprocess_spacy, doc_embed_article\n",
    "from ranking_functions import compute_similarity_output_n,topN_ranked_charities"
   ]
  },
  {
   "cell_type": "markdown",
   "metadata": {},
   "source": [
    "##  0.0 Load Validation Dataset, Charity Dataset, and Model"
   ]
  },
  {
   "cell_type": "code",
   "execution_count": 8,
   "metadata": {},
   "outputs": [
    {
     "name": "stdout",
     "output_type": "stream",
     "text": [
      "Number of charities in dataset 5637\n"
     ]
    }
   ],
   "source": [
    "project_dir =  os.path.abspath(os.path.join(os.getcwd() ,\"../\"))\n",
    "file_name = (os.path.join(project_dir,'data','processed','charity_data_clean.csv'))\n",
    "all_charity = pd.read_csv(file_name)\n",
    "print('Number of charities in dataset {}'.format(len(all_charity)))"
   ]
  },
  {
   "cell_type": "code",
   "execution_count": 10,
   "metadata": {},
   "outputs": [
    {
     "name": "stdout",
     "output_type": "stream",
     "text": [
      "Number of headlines in dataset 13375\n"
     ]
    }
   ],
   "source": [
    "file_name =os.path.join(project_dir,'data','processed','validation_set.csv')\n",
    "validation_set = pd.read_csv(file_name,converters={\"keywords\": literal_eval})\n",
    "print('Number of headlines in dataset {}'.format(len(validation_set)))"
   ]
  },
  {
   "cell_type": "code",
   "execution_count": 63,
   "metadata": {},
   "outputs": [],
   "source": [
    "with open(os.path.join(project_dir,'models','charity','charity_model_min_0_max_0.5_notfidf.pickle', 'rb') as handle:\n",
    "    charity_model = pickle.load(handle)"
   ]
  },
  {
   "cell_type": "markdown",
   "metadata": {},
   "source": [
    "## 1.0 Find rankings of charities for articles using ONLY the headline"
   ]
  },
  {
   "cell_type": "code",
   "execution_count": 64,
   "metadata": {},
   "outputs": [],
   "source": [
    "def embed_sim_rank(text):\n",
    "    \n",
    "    #Embed headline\n",
    "    headline_emb = doc_embed_article(text,\n",
    "                                      charity_model['charity_docs_dict'],\n",
    "                                      charity_model['charity_emb_vecs'])\n",
    "    \n",
    "    #Compute similarity of headline to each charity mission statement\n",
    "    topN_scores, topN_indices = compute_similarity_output_n(headline_emb,charity_model['charity_docs_emb'],n_charities)\n",
    "    \n",
    "    # Return list of charities in order of their ranking\n",
    "    ranked_charities = topN_ranked_charities(all_charity, topN_scores, topN_indices)\n",
    "    \n",
    "    return ranked_charities"
   ]
  },
  {
   "cell_type": "code",
   "execution_count": 80,
   "metadata": {},
   "outputs": [],
   "source": [
    "def get_headline_rank(df):\n",
    "    \n",
    "    # Extract \n",
    "    headline = df['title']\n",
    "    charity_name = df['charity']\n",
    "    n_charities = df['n_charities']\n",
    "    \n",
    "    #### HEADLINE ONLY RANKING ###\n",
    "    \n",
    "    #Preprocess headline\n",
    "    headline_pre = preprocess_spacy(headline)\n",
    "    \n",
    "    # Embed headline and return charities ranked by similarity to headline\n",
    "    ranked_charities = embed_sim_rank(headline_pre)\n",
    "    \n",
    "    # Find target charity rank and add to df\n",
    "    df['rank_headline'] = ranked_charities[ranked_charities['name'] == charity_name].index.values.astype(int)[0]\n",
    "    \n",
    "    #### HEADLINE + KEYWORD RANKING ###\n",
    "    headline_keywords = headline + ' '  + ', '.join(df['keywords'])\n",
    "    \n",
    "\n",
    "    #Preprocess headline and keywords\n",
    "    headline_keywords_pre = preprocess_spacy(headline_keywords)\n",
    "    \n",
    "     # Embed headline and return charities ranked by similarity to headline\n",
    "    ranked_charities = embed_sim_rank(headline_keywords_pre)\n",
    "    \n",
    "    # Find target charity rank and add to df\n",
    "    df['rank_headline_keywords'] = ranked_charities[ranked_charities['name'] == charity_name].index.values.astype(int)[0]\n",
    "    \n",
    "    \n",
    "    ### Add charity category and subcategory to df ###\n",
    "    subcat = all_charity.loc[all_charity['name'] == charity_name, 'subcategory'].iloc[0]\n",
    "    df['subcategory'] = subcat\n",
    "    \n",
    "    cat = all_charity.loc[all_charity['name'] == charity_name, 'category'].iloc[0]\n",
    "    df['category'] = cat\n",
    "    \n",
    "    \n",
    "    return df"
   ]
  },
  {
   "cell_type": "code",
   "execution_count": 81,
   "metadata": {},
   "outputs": [],
   "source": [
    "n_charities = len(all_charity)\n",
    "validation_set['n_charities'] = n_charities\n",
    "validation_set = validation_set.apply(get_headline_rank,axis=1)"
   ]
  },
  {
   "cell_type": "markdown",
   "metadata": {},
   "source": [
    "## 2.0 Plot Distrubtions of Rankings for each model"
   ]
  },
  {
   "cell_type": "code",
   "execution_count": 83,
   "metadata": {},
   "outputs": [
    {
     "data": {
      "text/html": [
       "<div>\n",
       "<style scoped>\n",
       "    .dataframe tbody tr th:only-of-type {\n",
       "        vertical-align: middle;\n",
       "    }\n",
       "\n",
       "    .dataframe tbody tr th {\n",
       "        vertical-align: top;\n",
       "    }\n",
       "\n",
       "    .dataframe thead th {\n",
       "        text-align: right;\n",
       "    }\n",
       "</style>\n",
       "<table border=\"1\" class=\"dataframe\">\n",
       "  <thead>\n",
       "    <tr style=\"text-align: right;\">\n",
       "      <th></th>\n",
       "      <th>Unnamed: 0</th>\n",
       "      <th>n_charities</th>\n",
       "      <th>rank_headline</th>\n",
       "      <th>rank_headline_keywords</th>\n",
       "    </tr>\n",
       "  </thead>\n",
       "  <tbody>\n",
       "    <tr>\n",
       "      <th>count</th>\n",
       "      <td>13375.00000</td>\n",
       "      <td>13375.0</td>\n",
       "      <td>13375.000000</td>\n",
       "      <td>13375.000000</td>\n",
       "    </tr>\n",
       "    <tr>\n",
       "      <th>mean</th>\n",
       "      <td>6687.00000</td>\n",
       "      <td>5637.0</td>\n",
       "      <td>1594.861383</td>\n",
       "      <td>1032.418692</td>\n",
       "    </tr>\n",
       "    <tr>\n",
       "      <th>std</th>\n",
       "      <td>3861.17426</td>\n",
       "      <td>0.0</td>\n",
       "      <td>1614.972109</td>\n",
       "      <td>1402.623012</td>\n",
       "    </tr>\n",
       "    <tr>\n",
       "      <th>min</th>\n",
       "      <td>0.00000</td>\n",
       "      <td>5637.0</td>\n",
       "      <td>0.000000</td>\n",
       "      <td>0.000000</td>\n",
       "    </tr>\n",
       "    <tr>\n",
       "      <th>25%</th>\n",
       "      <td>3343.50000</td>\n",
       "      <td>5637.0</td>\n",
       "      <td>186.000000</td>\n",
       "      <td>60.000000</td>\n",
       "    </tr>\n",
       "    <tr>\n",
       "      <th>50%</th>\n",
       "      <td>6687.00000</td>\n",
       "      <td>5637.0</td>\n",
       "      <td>980.000000</td>\n",
       "      <td>335.000000</td>\n",
       "    </tr>\n",
       "    <tr>\n",
       "      <th>75%</th>\n",
       "      <td>10030.50000</td>\n",
       "      <td>5637.0</td>\n",
       "      <td>2776.000000</td>\n",
       "      <td>1506.000000</td>\n",
       "    </tr>\n",
       "    <tr>\n",
       "      <th>max</th>\n",
       "      <td>13374.00000</td>\n",
       "      <td>5637.0</td>\n",
       "      <td>5631.000000</td>\n",
       "      <td>5630.000000</td>\n",
       "    </tr>\n",
       "  </tbody>\n",
       "</table>\n",
       "</div>"
      ],
      "text/plain": [
       "        Unnamed: 0  n_charities  rank_headline  rank_headline_keywords\n",
       "count  13375.00000      13375.0   13375.000000            13375.000000\n",
       "mean    6687.00000       5637.0    1594.861383             1032.418692\n",
       "std     3861.17426          0.0    1614.972109             1402.623012\n",
       "min        0.00000       5637.0       0.000000                0.000000\n",
       "25%     3343.50000       5637.0     186.000000               60.000000\n",
       "50%     6687.00000       5637.0     980.000000              335.000000\n",
       "75%    10030.50000       5637.0    2776.000000             1506.000000\n",
       "max    13374.00000       5637.0    5631.000000             5630.000000"
      ]
     },
     "execution_count": 83,
     "metadata": {},
     "output_type": "execute_result"
    }
   ],
   "source": [
    "validation_set.describe()"
   ]
  },
  {
   "cell_type": "markdown",
   "metadata": {},
   "source": [
    "### Random model"
   ]
  },
  {
   "cell_type": "code",
   "execution_count": 87,
   "metadata": {},
   "outputs": [],
   "source": [
    "# Randomly assign rank to each charity\n",
    "random_rank = np.random.uniform(0,len(all_charity),len(validation_set))"
   ]
  },
  {
   "cell_type": "code",
   "execution_count": 101,
   "metadata": {},
   "outputs": [
    {
     "data": {
      "image/png": "[encoded data removed]",
      "text/plain": [
       "<Figure size 936x576 with 1 Axes>"
      ]
     },
     "metadata": {},
     "output_type": "display_data"
    }
   ],
   "source": [
    "sns.set(rc={'figure.figsize':(13,8)},)\n",
    "sns.set_style(\"white\")\n",
    "sns.set_context(\"talk\")\n",
    "ax = sns.distplot(random_rank, kde = False, color = '#B03f59')\n",
    "sns.despine()\n",
    "plt.xlabel('Rank')\n",
    "plt.ylabel('Count')\n",
    "plt.ylim(0,5000)\n",
    "fig = ax.get_figure()\n",
    "fig.savefig(os.path.join(project_dir,'figures','rank_dist3.png')"
   ]
  },
  {
   "cell_type": "markdown",
   "metadata": {},
   "source": [
    "### Add model with just headline"
   ]
  },
  {
   "cell_type": "code",
   "execution_count": 102,
   "metadata": {},
   "outputs": [
    {
     "data": {
      "image/png": "[encoded data removed]",
      "text/plain": [
       "<Figure size 936x576 with 1 Axes>"
      ]
     },
     "metadata": {},
     "output_type": "display_data"
    }
   ],
   "source": [
    "sns.set(rc={'figure.figsize':(13,8)},)\n",
    "sns.set_style(\"white\")\n",
    "sns.set_context(\"talk\")\n",
    "ax = sns.distplot(random_rank, kde = False, color = '#B03f59')\n",
    "ax = sns.distplot(validation_set['rank_headline'], kde = False, color = '#009fb7')\n",
    "sns.despine()\n",
    "plt.xlabel('Rank')\n",
    "plt.ylabel('Count')\n",
    "plt.ylim(0,5000)\n",
    "fig = ax.get_figure()\n",
    "fig.savefig(os.path.join(project_dir,'figures','rank_dist2.png')\n",
    "#plt.axvline(x=1104, linewidth=4, color='#B03f59')\n",
    "#plt.axvline(x=2818.5, linewidth=4, color='#2E203B')"
   ]
  },
  {
   "cell_type": "code",
   "execution_count": 105,
   "metadata": {},
   "outputs": [
    {
     "data": {
      "image/png": "[encoded data removed]",
      "text/plain": [
       "<Figure size 936x576 with 1 Axes>"
      ]
     },
     "metadata": {},
     "output_type": "display_data"
    }
   ],
   "source": [
    "sns.set(rc={'figure.figsize':(13,8)},)\n",
    "sns.set_style(\"white\")\n",
    "sns.set_context(\"talk\")\n",
    "ax = sns.distplot(random_rank, kde = False, color = '#B03f59')\n",
    "ax = sns.distplot(validation_set['rank_headline'],kde = False, color = '#009fb7')\n",
    "ax = sns.distplot(validation_set['rank_headline_keywords'], kde = False, color = '#6d51b6')\n",
    "sns.despine()\n",
    "plt.xlabel('Rank')\n",
    "plt.ylabel('Count')\n",
    "plt.ylim(0,5000)\n",
    "fig = ax.get_figure()\n",
    "fig.savefig(os.path.join(project_dir,'figures','rank_dist3.png')"
   ]
  }
 ],
 "metadata": {
  "kernelspec": {
   "display_name": "Python 3",
   "language": "python",
   "name": "python3"
  },
  "language_info": {
   "codemirror_mode": {
    "name": "ipython",
    "version": 3
   },
   "file_extension": ".py",
   "mimetype": "text/x-python",
   "name": "python",
   "nbconvert_exporter": "python",
   "pygments_lexer": "ipython3",
   "version": "3.6.9"
  }
 },
 "nbformat": 4,
 "nbformat_minor": 4
}
