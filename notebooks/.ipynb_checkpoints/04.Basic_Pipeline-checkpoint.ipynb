{
 "cells": [
  {
   "cell_type": "code",
   "execution_count": 1,
   "metadata": {},
   "outputs": [
    {
     "name": "stdout",
     "output_type": "stream",
     "text": [
      "Populating the interactive namespace from numpy and matplotlib\n"
     ]
    }
   ],
   "source": [
    "import warnings\n",
    "warnings.filterwarnings('ignore')\n",
    "\n",
    "import pandas as pd\n",
    "import seaborn as sns\n",
    "import matplotlib.pyplot as plt\n",
    "%pylab inline"
   ]
  },
  {
   "cell_type": "code",
   "execution_count": 5,
   "metadata": {},
   "outputs": [
    {
     "name": "stderr",
     "output_type": "stream",
     "text": [
      "[nltk_data] Downloading package stopwords to /Users/avi/nltk_data...\n",
      "[nltk_data]   Package stopwords is already up-to-date!\n"
     ]
    }
   ],
   "source": [
    "import nltk;\n",
    "from nltk.corpus import stopwords;\n",
    "\n",
    "import gensim\n",
    "from gensim.utils import simple_preprocess\n",
    "from gensim.parsing.preprocessing import STOPWORDS\n",
    "from nltk.stem import WordNetLemmatizer, SnowballStemmer\n",
    "from nltk.stem.porter import *\n",
    "import numpy as np\n",
    "np.random.seed(400)\n",
    "\n",
    "nltk.download('stopwords')\n",
    "stemmer = SnowballStemmer(\"english\")"
   ]
  },
  {
   "cell_type": "code",
   "execution_count": 18,
   "metadata": {},
   "outputs": [],
   "source": [
    "import gensim\n",
    "from gensim.utils import simple_preprocess\n",
    "from gensim.parsing.preprocessing import STOPWORDS\n",
    "from nltk.stem import WordNetLemmatizer, SnowballStemmer\n",
    "from gensim.corpora import Dictionary\n",
    "from gensim.models.tfidfmodel import TfidfModel\n",
    "from gensim.matutils import sparse2full\n",
    "from nltk.stem.porter import *\n",
    "import numpy as np\n",
    "np.random.seed(400)\n",
    "\n",
    "import spacy\n",
    "nlp  = spacy.load('en_core_web_md')"
   ]
  },
  {
   "cell_type": "code",
   "execution_count": 21,
   "metadata": {},
   "outputs": [],
   "source": [
    "from sklearn.cluster import KMeans"
   ]
  },
  {
   "cell_type": "markdown",
   "metadata": {},
   "source": [
    "## 0.0 Load Data"
   ]
  },
  {
   "cell_type": "code",
   "execution_count": 4,
   "metadata": {},
   "outputs": [],
   "source": [
    "file_name = '/Users/avi/Dropbox/Insight/Project/insight_project/data/interim/charity_data_cleaned_temp.csv'\n",
    "all_charity = pd.read_csv(file_name)"
   ]
  },
  {
   "cell_type": "markdown",
   "metadata": {},
   "source": [
    "## 1.0 Pre-process raw text (lamentize and remove stopwords) "
   ]
  },
  {
   "cell_type": "code",
   "execution_count": 10,
   "metadata": {},
   "outputs": [],
   "source": [
    "def lemmatize_stemming(text):\n",
    "    return stemmer.stem(WordNetLemmatizer().lemmatize(text, pos='v'))\n",
    "\n",
    "# Tokenize and lemmatize\n",
    "def preprocess(text):\n",
    "    result=[]\n",
    "    for token in gensim.utils.simple_preprocess(text) :\n",
    "        if token not in gensim.parsing.preprocessing.STOPWORDS and len(token) > 3:\n",
    "            result.append(lemmatize_stemming(token))\n",
    "            \n",
    "    return result\n",
    "\n",
    "def preprocess_docs(docs):\n",
    "    result = []\n",
    "    \n",
    "    for doc in docs:\n",
    "        result.append(preprocess(doc))\n",
    "    \n",
    "    return result"
   ]
  },
  {
   "cell_type": "code",
   "execution_count": 11,
   "metadata": {},
   "outputs": [],
   "source": [
    "mission_text = all_charity['description'].astype('str')\n",
    "\n",
    "#Preprocess mission descriptions\n",
    "mission_text_pre = preprocess_docs(mission_text)"
   ]
  },
  {
   "cell_type": "markdown",
   "metadata": {},
   "source": [
    "## 2.0 Convert pre-processed text to vectors and embed"
   ]
  },
  {
   "cell_type": "code",
   "execution_count": 26,
   "metadata": {},
   "outputs": [],
   "source": [
    "def word_embed_charity(processed_docs,word_min=5, word_max_perc=.2 ):\n",
    "    \n",
    "    'Assumes docs have already been pre-processed'\n",
    "    \n",
    "    #Create dictionary from corpus\n",
    "    docs_dict = Dictionary(processed_docs)\n",
    "    docs_dict.filter_extremes(no_below=word_min, no_above=word_max_perc)\n",
    "    docs_dict.compactify()\n",
    "    \n",
    "    #Convert docs into tf-idf vectors\n",
    "    docs_corpus = [docs_dict.doc2bow(doc) for doc in processed_docs]\n",
    "    model_tfidf = TfidfModel(docs_corpus, id2word=docs_dict)\n",
    "    docs_tfidf  = model_tfidf[docs_corpus]\n",
    "    docs_vecs   = np.vstack([sparse2full(c, len(docs_dict)) for c in docs_tfidf])\n",
    "    \n",
    "    num_docs= np.shape(docs_vecs)[0]\n",
    "    num_words = np.shape(docs_vecs)[1]\n",
    "\n",
    "    print(\"Total # of docs: {}\".format(num_docs))\n",
    "    print(\"Total # of words in dict: {}\".format(num_words))\n",
    "    \n",
    "    #For each word in dict obtain embedding vector (Glove vectors)\n",
    "    tfidf_emb_vecs = np.vstack([nlp(docs_dict[i]).vector for i in range(len(docs_dict))])\n",
    "    \n",
    "    # Weight glove vectors by tf-idf values\n",
    "    docs_emb = np.dot(docs_vecs, tfidf_emb_vecs) \n",
    "        \n",
    "    return docs_emb, docs_dict, model_tfidf, tfidf_emb_vecs"
   ]
  },
  {
   "cell_type": "code",
   "execution_count": 27,
   "metadata": {},
   "outputs": [
    {
     "name": "stdout",
     "output_type": "stream",
     "text": [
      "Total # of docs: 8370\n",
      "Total # of words in dict: 3749\n"
     ]
    }
   ],
   "source": [
    "charity_docs_emb, charity_docs_dict, charity_model_tfidf, charity_tfidf_emb_vecs = word_embed_charity(mission_text_pre,word_min=5, word_max_perc=.2 )"
   ]
  },
  {
   "cell_type": "markdown",
   "metadata": {},
   "source": [
    "## 3.0 Run Model"
   ]
  },
  {
   "cell_type": "code",
   "execution_count": 23,
   "metadata": {},
   "outputs": [],
   "source": [
    "def run_kmeans(n_clusters,docs_emb,max_iter = 500, n_init=15):\n",
    "    \n",
    "    model = KMeans(n_clusters=n_clusters, init='k-means++', max_iter=max_iter, n_init=n_init)\n",
    "    model.fit(docs_emb)\n",
    "    \n",
    "    return model"
   ]
  },
  {
   "cell_type": "code",
   "execution_count": 98,
   "metadata": {},
   "outputs": [],
   "source": [
    "model = run_kmeans(20,charity_docs_emb,max_iter = 500, n_init=15)"
   ]
  },
  {
   "cell_type": "code",
   "execution_count": 99,
   "metadata": {},
   "outputs": [],
   "source": [
    "all_charity['kmeans_20'] = model.labels_"
   ]
  },
  {
   "cell_type": "markdown",
   "metadata": {},
   "source": [
    "## 4.0 Preprocess Article"
   ]
  },
  {
   "cell_type": "code",
   "execution_count": 170,
   "metadata": {},
   "outputs": [],
   "source": [
    "file_name = '/Users/avi/Dropbox/Insight/Project/raw_data/news_data_all.csv'\n",
    "all_news = pd.read_csv(file_name)"
   ]
  },
  {
   "cell_type": "code",
   "execution_count": 125,
   "metadata": {},
   "outputs": [],
   "source": [
    "def df_topic(df, search_term):\n",
    "    df['topic'] = all_news['content'].str.find(search_term)\n",
    "    df_sub = df[df['topic']>-1]\n",
    "    articles = df_sub['content'].astype('str')\n",
    "    return articles"
   ]
  },
  {
   "cell_type": "code",
   "execution_count": 126,
   "metadata": {},
   "outputs": [],
   "source": [
    "cc = df_topic(all_news,'climate change')"
   ]
  },
  {
   "cell_type": "code",
   "execution_count": 171,
   "metadata": {},
   "outputs": [],
   "source": [
    "homeless = df_topic(all_news,'homeless')"
   ]
  },
  {
   "cell_type": "code",
   "execution_count": 172,
   "metadata": {},
   "outputs": [],
   "source": [
    "jewish = df_topic(all_news,'jewish')"
   ]
  },
  {
   "cell_type": "code",
   "execution_count": 115,
   "metadata": {},
   "outputs": [],
   "source": [
    "def word_embed_articles(processed_docs,doc_dict,model_tfidf,tfidf_emb_vecs):\n",
    "    \n",
    "    #Convert docs into tf-idf vectors\n",
    "    docs_corpus = [docs_dict.doc2bow(doc) for doc in processed_docs]\n",
    "    docs_tfidf  = model_tfidf[docs_corpus]\n",
    "    docs_vecs   = np.vstack([sparse2full(c, len(docs_dict)) for c in docs_tfidf])\n",
    "    \n",
    "    # sum of glove vectors linearlly weighted by tfidf \n",
    "    art_emb = np.dot(docs_vecs, tfidf_emb_vecs)\n",
    "    \n",
    "    return art_emb"
   ]
  },
  {
   "cell_type": "code",
   "execution_count": 173,
   "metadata": {},
   "outputs": [],
   "source": [
    "del all_news"
   ]
  },
  {
   "cell_type": "code",
   "execution_count": 127,
   "metadata": {},
   "outputs": [
    {
     "data": {
      "text/plain": [
       "(4568, 14)"
      ]
     },
     "execution_count": 127,
     "metadata": {},
     "output_type": "execute_result"
    }
   ],
   "source": [
    "np.shape(cc)"
   ]
  },
  {
   "cell_type": "code",
   "execution_count": 135,
   "metadata": {},
   "outputs": [],
   "source": [
    "cc_content = cc['content'].astype('str')\n",
    "cc_pre = preprocess_docs(cc_content)\n",
    "art_embs = word_embed_articles(cc_pre,charity_docs_dict,charity_model_tfidf,charity_tfidf_emb_vecs)"
   ]
  },
  {
   "cell_type": "code",
   "execution_count": 174,
   "metadata": {},
   "outputs": [],
   "source": [
    "def process_predict_articles(df, model):\n",
    "    df_content = df['content'].astype('str')\n",
    "    df_pre = preprocess_docs(df_content)\n",
    "    art_embs = word_embed_articles(df_pre,charity_docs_dict,charity_model_tfidf,charity_tfidf_emb_vecs)\n",
    "    \n",
    "    predictions = model.predict(art_embs)\n",
    "    \n",
    "    df['cluster_predictions'] = predictions\n",
    "    \n",
    "    return df\n",
    "    "
   ]
  },
  {
   "cell_type": "code",
   "execution_count": null,
   "metadata": {},
   "outputs": [],
   "source": [
    "def plot_cluster_pred_dist(df):\n",
    "    df_prediction_dist = cdfgroupby('predictions')['index'].count().reset_index()\n",
    "    \n",
    "    sns.catplot(y='index',x='predictions',kind = 'bar', data = cdf_prediction_dist)\n",
    "    \n",
    "    "
   ]
  },
  {
   "cell_type": "code",
   "execution_count": null,
   "metadata": {},
   "outputs": [],
   "source": [
    "homeless_predict = process_predict_articles(homeless,model)"
   ]
  },
  {
   "cell_type": "code",
   "execution_count": null,
   "metadata": {},
   "outputs": [],
   "source": []
  },
  {
   "cell_type": "code",
   "execution_count": 140,
   "metadata": {},
   "outputs": [
    {
     "data": {
      "text/plain": [
       "4568"
      ]
     },
     "execution_count": 140,
     "metadata": {},
     "output_type": "execute_result"
    }
   ],
   "source": [
    "np.shape(art_embs)[0]"
   ]
  },
  {
   "cell_type": "code",
   "execution_count": 150,
   "metadata": {},
   "outputs": [
    {
     "data": {
      "text/plain": [
       "(300,)"
      ]
     },
     "execution_count": 150,
     "metadata": {},
     "output_type": "execute_result"
    }
   ],
   "source": [
    "np.shape(art_embs[0,:])"
   ]
  },
  {
   "cell_type": "code",
   "execution_count": 151,
   "metadata": {},
   "outputs": [],
   "source": [
    "aa = model.predict(art_embs)"
   ]
  },
  {
   "cell_type": "code",
   "execution_count": 152,
   "metadata": {},
   "outputs": [
    {
     "data": {
      "text/plain": [
       "array([17, 17, 19, ...,  0,  0,  0], dtype=int32)"
      ]
     },
     "execution_count": 152,
     "metadata": {},
     "output_type": "execute_result"
    }
   ],
   "source": [
    "aa"
   ]
  },
  {
   "cell_type": "code",
   "execution_count": null,
   "metadata": {},
   "outputs": [],
   "source": []
  },
  {
   "cell_type": "markdown",
   "metadata": {},
   "source": [
    "## 5.0 Predict Article"
   ]
  },
  {
   "cell_type": "code",
   "execution_count": 148,
   "metadata": {},
   "outputs": [],
   "source": [
    "def predict_kmeans(model,art_embs):   \n",
    "    predictions = model.predict(art_embs)\n",
    "    \n",
    "    \n",
    "    return predictions"
   ]
  },
  {
   "cell_type": "code",
   "execution_count": 154,
   "metadata": {},
   "outputs": [],
   "source": [
    "cc['cluster_predictions'] = aa"
   ]
  },
  {
   "cell_type": "code",
   "execution_count": 155,
   "metadata": {},
   "outputs": [
    {
     "data": {
      "text/html": [
       "<div>\n",
       "<style scoped>\n",
       "    .dataframe tbody tr th:only-of-type {\n",
       "        vertical-align: middle;\n",
       "    }\n",
       "\n",
       "    .dataframe tbody tr th {\n",
       "        vertical-align: top;\n",
       "    }\n",
       "\n",
       "    .dataframe thead th {\n",
       "        text-align: right;\n",
       "    }\n",
       "</style>\n",
       "<table border=\"1\" class=\"dataframe\">\n",
       "  <thead>\n",
       "    <tr style=\"text-align: right;\">\n",
       "      <th></th>\n",
       "      <th>index</th>\n",
       "      <th>id</th>\n",
       "      <th>title</th>\n",
       "      <th>author</th>\n",
       "      <th>date</th>\n",
       "      <th>content</th>\n",
       "      <th>year</th>\n",
       "      <th>month</th>\n",
       "      <th>publication</th>\n",
       "      <th>category</th>\n",
       "      <th>digital</th>\n",
       "      <th>section</th>\n",
       "      <th>url</th>\n",
       "      <th>topic</th>\n",
       "      <th>predictions</th>\n",
       "    </tr>\n",
       "  </thead>\n",
       "  <tbody>\n",
       "    <tr>\n",
       "      <th>7</th>\n",
       "      <td>7</td>\n",
       "      <td>8</td>\n",
       "      <td>The Future Agency</td>\n",
       "      <td>\\nKyle Chayka\\n</td>\n",
       "      <td>2017-03-30</td>\n",
       "      <td>Inside the big business of imagining the...</td>\n",
       "      <td>2017.0</td>\n",
       "      <td>3.0</td>\n",
       "      <td>Verge</td>\n",
       "      <td>Longform</td>\n",
       "      <td>1.0</td>\n",
       "      <td>NaN</td>\n",
       "      <td>NaN</td>\n",
       "      <td>20894.0</td>\n",
       "      <td>17</td>\n",
       "    </tr>\n",
       "    <tr>\n",
       "      <th>16</th>\n",
       "      <td>16</td>\n",
       "      <td>18</td>\n",
       "      <td>Sand's End</td>\n",
       "      <td>\\nJosh Dzieza\\n</td>\n",
       "      <td>2016-11-17</td>\n",
       "      <td>Past the towers of downtown Miami and ov...</td>\n",
       "      <td>2016.0</td>\n",
       "      <td>11.0</td>\n",
       "      <td>Verge</td>\n",
       "      <td>Longform</td>\n",
       "      <td>1.0</td>\n",
       "      <td>NaN</td>\n",
       "      <td>NaN</td>\n",
       "      <td>9250.0</td>\n",
       "      <td>17</td>\n",
       "    </tr>\n",
       "    <tr>\n",
       "      <th>19</th>\n",
       "      <td>19</td>\n",
       "      <td>21</td>\n",
       "      <td>Delivery drones will mean the end of ownership</td>\n",
       "      <td>\\nLauren Goode\\n</td>\n",
       "      <td>2016-11-08</td>\n",
       "      <td>The Verge 2021In celebration of our 5th ...</td>\n",
       "      <td>2016.0</td>\n",
       "      <td>11.0</td>\n",
       "      <td>Verge</td>\n",
       "      <td>Longform</td>\n",
       "      <td>1.0</td>\n",
       "      <td>NaN</td>\n",
       "      <td>NaN</td>\n",
       "      <td>1929.0</td>\n",
       "      <td>19</td>\n",
       "    </tr>\n",
       "    <tr>\n",
       "      <th>22</th>\n",
       "      <td>22</td>\n",
       "      <td>24</td>\n",
       "      <td>Storm Sentinels</td>\n",
       "      <td>\\nChris Pomorski\\n</td>\n",
       "      <td>2016-10-31</td>\n",
       "      <td>On the evening of Saturday, August 27th,...</td>\n",
       "      <td>2016.0</td>\n",
       "      <td>10.0</td>\n",
       "      <td>Verge</td>\n",
       "      <td>Longform</td>\n",
       "      <td>1.0</td>\n",
       "      <td>NaN</td>\n",
       "      <td>NaN</td>\n",
       "      <td>8764.0</td>\n",
       "      <td>17</td>\n",
       "    </tr>\n",
       "    <tr>\n",
       "      <th>111</th>\n",
       "      <td>111</td>\n",
       "      <td>128</td>\n",
       "      <td>The inventor of everything</td>\n",
       "      <td>\\nBen Popper\\n</td>\n",
       "      <td>2014-04-14</td>\n",
       "      <td>It’s a sunny morning in Camarillo, Californi...</td>\n",
       "      <td>2014.0</td>\n",
       "      <td>4.0</td>\n",
       "      <td>Verge</td>\n",
       "      <td>Longform</td>\n",
       "      <td>1.0</td>\n",
       "      <td>NaN</td>\n",
       "      <td>NaN</td>\n",
       "      <td>478.0</td>\n",
       "      <td>19</td>\n",
       "    </tr>\n",
       "  </tbody>\n",
       "</table>\n",
       "</div>"
      ],
      "text/plain": [
       "    index   id                                           title  \\\n",
       "7       7    8                               The Future Agency   \n",
       "16     16   18                                      Sand's End   \n",
       "19     19   21  Delivery drones will mean the end of ownership   \n",
       "22     22   24                                 Storm Sentinels   \n",
       "111   111  128                     The inventor of everything    \n",
       "\n",
       "                 author        date  \\\n",
       "7       \\nKyle Chayka\\n  2017-03-30   \n",
       "16      \\nJosh Dzieza\\n  2016-11-17   \n",
       "19     \\nLauren Goode\\n  2016-11-08   \n",
       "22   \\nChris Pomorski\\n  2016-10-31   \n",
       "111      \\nBen Popper\\n  2014-04-14   \n",
       "\n",
       "                                               content    year  month  \\\n",
       "7          Inside the big business of imagining the...  2017.0    3.0   \n",
       "16         Past the towers of downtown Miami and ov...  2016.0   11.0   \n",
       "19         The Verge 2021In celebration of our 5th ...  2016.0   11.0   \n",
       "22         On the evening of Saturday, August 27th,...  2016.0   10.0   \n",
       "111    It’s a sunny morning in Camarillo, Californi...  2014.0    4.0   \n",
       "\n",
       "    publication  category  digital section  url    topic  predictions  \n",
       "7         Verge  Longform      1.0     NaN  NaN  20894.0           17  \n",
       "16        Verge  Longform      1.0     NaN  NaN   9250.0           17  \n",
       "19        Verge  Longform      1.0     NaN  NaN   1929.0           19  \n",
       "22        Verge  Longform      1.0     NaN  NaN   8764.0           17  \n",
       "111       Verge  Longform      1.0     NaN  NaN    478.0           19  "
      ]
     },
     "execution_count": 155,
     "metadata": {},
     "output_type": "execute_result"
    }
   ],
   "source": [
    "cc.head()"
   ]
  },
  {
   "cell_type": "code",
   "execution_count": 160,
   "metadata": {},
   "outputs": [],
   "source": [
    "cc_prediction_dist = cc.groupby('predictions')['index'].count().reset_index()"
   ]
  },
  {
   "cell_type": "code",
   "execution_count": 164,
   "metadata": {},
   "outputs": [
    {
     "data": {
      "text/plain": [
       "<seaborn.axisgrid.FacetGrid at 0x112bca400>"
      ]
     },
     "execution_count": 164,
     "metadata": {},
     "output_type": "execute_result"
    },
    {
     "data": {
      "image/png": "[encoded data removed]",
      "text/plain": [
       "<Figure size 360x360 with 1 Axes>"
      ]
     },
     "metadata": {
      "needs_background": "light"
     },
     "output_type": "display_data"
    }
   ],
   "source": [
    "sns.catplot(y='index',x='predictions',kind = 'bar', data = cc_prediction_dist)"
   ]
  },
  {
   "cell_type": "code",
   "execution_count": 165,
   "metadata": {},
   "outputs": [],
   "source": [
    "charity_cluster = all_charity[all_charity['kmeans_20'] == 0]"
   ]
  },
  {
   "cell_type": "code",
   "execution_count": 168,
   "metadata": {},
   "outputs": [
    {
     "data": {
      "text/html": [
       "<div>\n",
       "<style scoped>\n",
       "    .dataframe tbody tr th:only-of-type {\n",
       "        vertical-align: middle;\n",
       "    }\n",
       "\n",
       "    .dataframe tbody tr th {\n",
       "        vertical-align: top;\n",
       "    }\n",
       "\n",
       "    .dataframe thead th {\n",
       "        text-align: right;\n",
       "    }\n",
       "</style>\n",
       "<table border=\"1\" class=\"dataframe\">\n",
       "  <thead>\n",
       "    <tr style=\"text-align: right;\">\n",
       "      <th></th>\n",
       "      <th>Unnamed: 0</th>\n",
       "      <th>ascore</th>\n",
       "      <th>category</th>\n",
       "      <th>description</th>\n",
       "      <th>ein</th>\n",
       "      <th>tot_exp</th>\n",
       "      <th>admin_exp_p</th>\n",
       "      <th>fund_eff</th>\n",
       "      <th>fund_exp_p</th>\n",
       "      <th>program_exp_p</th>\n",
       "      <th>...</th>\n",
       "      <th>score</th>\n",
       "      <th>state</th>\n",
       "      <th>subcategory</th>\n",
       "      <th>size</th>\n",
       "      <th>program_exp</th>\n",
       "      <th>fund_exp</th>\n",
       "      <th>admin_exp</th>\n",
       "      <th>description_length</th>\n",
       "      <th>kmeans_11</th>\n",
       "      <th>kmeans_20</th>\n",
       "    </tr>\n",
       "  </thead>\n",
       "  <tbody>\n",
       "    <tr>\n",
       "      <th>15</th>\n",
       "      <td>15</td>\n",
       "      <td>89.0</td>\n",
       "      <td>Animals</td>\n",
       "      <td>ZooTampa at Lowry Park inspires guests to take...</td>\n",
       "      <td>59-2328289</td>\n",
       "      <td>23675065.0</td>\n",
       "      <td>0.097</td>\n",
       "      <td>0.08</td>\n",
       "      <td>0.024</td>\n",
       "      <td>0.878</td>\n",
       "      <td>...</td>\n",
       "      <td>91.76</td>\n",
       "      <td>FL</td>\n",
       "      <td>Zoos and Aquariums</td>\n",
       "      <td>big</td>\n",
       "      <td>2.078671e+07</td>\n",
       "      <td>568201.560</td>\n",
       "      <td>2296481.305</td>\n",
       "      <td>122</td>\n",
       "      <td>6</td>\n",
       "      <td>0</td>\n",
       "    </tr>\n",
       "    <tr>\n",
       "      <th>46</th>\n",
       "      <td>47</td>\n",
       "      <td>100.0</td>\n",
       "      <td>Human Services</td>\n",
       "      <td>The Irish International Immigrant Center assis...</td>\n",
       "      <td>04-3063382</td>\n",
       "      <td>1920895.0</td>\n",
       "      <td>0.058</td>\n",
       "      <td>0.09</td>\n",
       "      <td>0.095</td>\n",
       "      <td>0.845</td>\n",
       "      <td>...</td>\n",
       "      <td>95.61</td>\n",
       "      <td>MA</td>\n",
       "      <td>Social Services</td>\n",
       "      <td>small</td>\n",
       "      <td>1.623156e+06</td>\n",
       "      <td>182485.025</td>\n",
       "      <td>111411.910</td>\n",
       "      <td>70</td>\n",
       "      <td>4</td>\n",
       "      <td>0</td>\n",
       "    </tr>\n",
       "    <tr>\n",
       "      <th>56</th>\n",
       "      <td>57</td>\n",
       "      <td>85.0</td>\n",
       "      <td>Research and Public Policy</td>\n",
       "      <td>Founded in 1975, Iowa Citizens for Community I...</td>\n",
       "      <td>42-1110721</td>\n",
       "      <td>1101924.0</td>\n",
       "      <td>0.056</td>\n",
       "      <td>0.03</td>\n",
       "      <td>0.030</td>\n",
       "      <td>0.913</td>\n",
       "      <td>...</td>\n",
       "      <td>88.90</td>\n",
       "      <td>IA</td>\n",
       "      <td>Social and Public Policy Research</td>\n",
       "      <td>small</td>\n",
       "      <td>1.006057e+06</td>\n",
       "      <td>33057.720</td>\n",
       "      <td>61707.744</td>\n",
       "      <td>101</td>\n",
       "      <td>7</td>\n",
       "      <td>0</td>\n",
       "    </tr>\n",
       "    <tr>\n",
       "      <th>110</th>\n",
       "      <td>111</td>\n",
       "      <td>66.0</td>\n",
       "      <td>Arts, Culture, Humanities</td>\n",
       "      <td>The International Churchill Society (formerly ...</td>\n",
       "      <td>02-0482584</td>\n",
       "      <td>947322.0</td>\n",
       "      <td>0.125</td>\n",
       "      <td>0.07</td>\n",
       "      <td>0.049</td>\n",
       "      <td>0.824</td>\n",
       "      <td>...</td>\n",
       "      <td>75.26</td>\n",
       "      <td>DC</td>\n",
       "      <td>Libraries, Historical Societies and Landmark P...</td>\n",
       "      <td>small</td>\n",
       "      <td>7.805933e+05</td>\n",
       "      <td>46418.778</td>\n",
       "      <td>118415.250</td>\n",
       "      <td>104</td>\n",
       "      <td>4</td>\n",
       "      <td>0</td>\n",
       "    </tr>\n",
       "    <tr>\n",
       "      <th>162</th>\n",
       "      <td>163</td>\n",
       "      <td>81.0</td>\n",
       "      <td>Education</td>\n",
       "      <td>Institute for Quality Education provides tuiti...</td>\n",
       "      <td>35-1836687</td>\n",
       "      <td>9090608.0</td>\n",
       "      <td>0.082</td>\n",
       "      <td>0.01</td>\n",
       "      <td>0.006</td>\n",
       "      <td>0.910</td>\n",
       "      <td>...</td>\n",
       "      <td>86.44</td>\n",
       "      <td>IN</td>\n",
       "      <td>Scholarship and Financial Support</td>\n",
       "      <td>mid</td>\n",
       "      <td>8.272453e+06</td>\n",
       "      <td>54543.648</td>\n",
       "      <td>745429.856</td>\n",
       "      <td>80</td>\n",
       "      <td>4</td>\n",
       "      <td>0</td>\n",
       "    </tr>\n",
       "  </tbody>\n",
       "</table>\n",
       "<p>5 rows × 27 columns</p>\n",
       "</div>"
      ],
      "text/plain": [
       "     Unnamed: 0  ascore                    category  \\\n",
       "15           15    89.0                     Animals   \n",
       "46           47   100.0              Human Services   \n",
       "56           57    85.0  Research and Public Policy   \n",
       "110         111    66.0   Arts, Culture, Humanities   \n",
       "162         163    81.0                   Education   \n",
       "\n",
       "                                           description         ein  \\\n",
       "15   ZooTampa at Lowry Park inspires guests to take...  59-2328289   \n",
       "46   The Irish International Immigrant Center assis...  04-3063382   \n",
       "56   Founded in 1975, Iowa Citizens for Community I...  42-1110721   \n",
       "110  The International Churchill Society (formerly ...  02-0482584   \n",
       "162  Institute for Quality Education provides tuiti...  35-1836687   \n",
       "\n",
       "        tot_exp  admin_exp_p  fund_eff  fund_exp_p  program_exp_p    ...     \\\n",
       "15   23675065.0        0.097      0.08       0.024          0.878    ...      \n",
       "46    1920895.0        0.058      0.09       0.095          0.845    ...      \n",
       "56    1101924.0        0.056      0.03       0.030          0.913    ...      \n",
       "110    947322.0        0.125      0.07       0.049          0.824    ...      \n",
       "162   9090608.0        0.082      0.01       0.006          0.910    ...      \n",
       "\n",
       "     score state                                        subcategory   size  \\\n",
       "15   91.76    FL                                 Zoos and Aquariums    big   \n",
       "46   95.61    MA                                    Social Services  small   \n",
       "56   88.90    IA                  Social and Public Policy Research  small   \n",
       "110  75.26    DC  Libraries, Historical Societies and Landmark P...  small   \n",
       "162  86.44    IN                  Scholarship and Financial Support    mid   \n",
       "\n",
       "      program_exp    fund_exp    admin_exp  description_length kmeans_11  \\\n",
       "15   2.078671e+07  568201.560  2296481.305                 122         6   \n",
       "46   1.623156e+06  182485.025   111411.910                  70         4   \n",
       "56   1.006057e+06   33057.720    61707.744                 101         7   \n",
       "110  7.805933e+05   46418.778   118415.250                 104         4   \n",
       "162  8.272453e+06   54543.648   745429.856                  80         4   \n",
       "\n",
       "    kmeans_20  \n",
       "15          0  \n",
       "46          0  \n",
       "56          0  \n",
       "110         0  \n",
       "162         0  \n",
       "\n",
       "[5 rows x 27 columns]"
      ]
     },
     "execution_count": 168,
     "metadata": {},
     "output_type": "execute_result"
    }
   ],
   "source": [
    "charity_cluster.head()"
   ]
  },
  {
   "cell_type": "code",
   "execution_count": 167,
   "metadata": {},
   "outputs": [
    {
     "data": {
      "text/plain": [
       "subcategory\n",
       "Adult Education Programs and Services                         3\n",
       "Advocacy and Education                                       21\n",
       "Animal Rights, Welfare, and Services                          3\n",
       "Botanical Gardens, Parks, and Nature Centers                  8\n",
       "Children's and Family Services                               19\n",
       "Community Foundations                                        19\n",
       "Development and Relief Services                              15\n",
       "Diseases, Disorders, and Disciplines                          6\n",
       "Early Childhood Programs and Services                         3\n",
       "Education Policy and Reform                                   3\n",
       "Environmental Protection and Conservation                    17\n",
       "Food Banks, Food Pantries, and Food Distribution              9\n",
       "Homeless Services                                            15\n",
       "Housing and Neighborhood Development                         36\n",
       "Humanitarian Relief Supplies                                  3\n",
       "International Peace, Security, and Affairs                   12\n",
       "Jewish Federations                                            1\n",
       "Libraries, Historical Societies and Landmark Preservation     8\n",
       "Medical Research                                              2\n",
       "Multipurpose Human Service Organizations                     36\n",
       "Museums                                                       5\n",
       "Non-Medical Science & Technology Research                     1\n",
       "Patient and Family Support                                   23\n",
       "Performing Arts                                               9\n",
       "Public Broadcasting and Media                                27\n",
       "Religious Activities                                          8\n",
       "Religious Media and Broadcasting                              5\n",
       "Scholarship and Financial Support                            12\n",
       "Social Services                                              52\n",
       "Social and Public Policy Research                             8\n",
       "Treatment and Prevention Services                            24\n",
       "United Ways                                                  59\n",
       "Wildlife Conservation                                         2\n",
       "Youth Development, Shelter, and Crisis Services              73\n",
       "Youth Education Programs and Services                        12\n",
       "Zoos and Aquariums                                            1\n",
       "Name: ein, dtype: int64"
      ]
     },
     "execution_count": 167,
     "metadata": {},
     "output_type": "execute_result"
    }
   ],
   "source": [
    "charity_cluster.groupby('subcategory')['ein'].count()"
   ]
  },
  {
   "cell_type": "code",
   "execution_count": null,
   "metadata": {},
   "outputs": [],
   "source": []
  }
 ],
 "metadata": {
  "kernelspec": {
   "display_name": "Python 3",
   "language": "python",
   "name": "python3"
  },
  "language_info": {
   "codemirror_mode": {
    "name": "ipython",
    "version": 3
   },
   "file_extension": ".py",
   "mimetype": "text/x-python",
   "name": "python",
   "nbconvert_exporter": "python",
   "pygments_lexer": "ipython3",
   "version": "3.6.9"
  }
 },
 "nbformat": 4,
 "nbformat_minor": 2
}
