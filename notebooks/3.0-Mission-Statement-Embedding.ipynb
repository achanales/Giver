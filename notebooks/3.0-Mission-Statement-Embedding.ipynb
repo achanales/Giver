{
 "cells": [
  {
   "cell_type": "markdown",
   "metadata": {},
   "source": [
    "# Misison Statement Embedding Pipeline"
   ]
  },
  {
   "cell_type": "markdown",
   "metadata": {},
   "source": [
    "Basic Pipeline to create document embedding vectors for all the mission statements using Glove "
   ]
  },
  {
   "cell_type": "code",
   "execution_count": 1,
   "metadata": {},
   "outputs": [
    {
     "name": "stdout",
     "output_type": "stream",
     "text": [
      "Populating the interactive namespace from numpy and matplotlib\n"
     ]
    }
   ],
   "source": [
    "import warnings\n",
    "warnings.filterwarnings('ignore')\n",
    "\n",
    "import pandas as pd\n",
    "import seaborn as sns\n",
    "import matplotlib.pyplot as plt\n",
    "from sklearn.metrics.pairwise import cosine_similarity\n",
    "import pickle\n",
    "import os\n",
    "import pdb\n",
    "\n",
    "#NLP PACKAGES\n",
    "import gensim\n",
    "from gensim.corpora import Dictionary\n",
    "from gensim.models.tfidfmodel import TfidfModel\n",
    "from gensim.matutils import sparse2full\n",
    "import numpy as np\n",
    "np.random.seed(400)\n",
    "import spacy\n",
    "nlp  = spacy.load('en_core_web_md')\n",
    "\n",
    "\n",
    "\n",
    "%pylab inline"
   ]
  },
  {
   "cell_type": "code",
   "execution_count": 2,
   "metadata": {},
   "outputs": [],
   "source": [
    "# Custom functions\n",
    "from nlp_functions import preprocess_spacy, preprocess_docs,doc_embed_charity_notfidf"
   ]
  },
  {
   "cell_type": "markdown",
   "metadata": {},
   "source": [
    "## 0.0 Load Data"
   ]
  },
  {
   "cell_type": "code",
   "execution_count": 3,
   "metadata": {},
   "outputs": [],
   "source": [
    "project_dir =  os.path.abspath(os.path.join(os.getcwd() ,\"../\"))\n",
    "file_name = os.path.join(project_dir,'data','processed','charity_data_cleaned.csv')\n",
    "all_charity = pd.read_csv(file_name)"
   ]
  },
  {
   "cell_type": "markdown",
   "metadata": {},
   "source": [
    "## 1.0 Pre-process raw text"
   ]
  },
  {
   "cell_type": "code",
   "execution_count": 4,
   "metadata": {},
   "outputs": [],
   "source": [
    "## Extract mission statements texts (w/ their named dropped from the statement) as a list of strings\n",
    "mission_text = all_charity['description_noname'].astype('str')\n",
    "\n",
    "#Preprocess mission descriptions\n",
    "mission_text_pre = preprocess_docs(mission_text)"
   ]
  },
  {
   "cell_type": "markdown",
   "metadata": {},
   "source": [
    "# 2.0 Embed Docusments"
   ]
  },
  {
   "cell_type": "code",
   "execution_count": 6,
   "metadata": {},
   "outputs": [
    {
     "name": "stdout",
     "output_type": "stream",
     "text": [
      "Total # of docs: 5637\n",
      "Total # of words in dict: 11631\n"
     ]
    }
   ],
   "source": [
    "#Set min and max # of words to filter. \n",
    "#Min n excludes all words that only have n instances in the whole corpus of text\n",
    "#Max p excludes all words that appear in more than p% of documents \n",
    "word_min = 0\n",
    "word_max_perc = .5\n",
    "charity_docs_emb, charity_docs_dict, charity_emb_vecs = doc_embed_charity_notfidf(mission_text_pre,\n",
    "                                                                                 word_min=word_min, \n",
    "                                                                                word_max_perc=word_max_perc)\n",
    "\n",
    "\n"
   ]
  },
  {
   "cell_type": "markdown",
   "metadata": {},
   "source": [
    "### Document Embedding  Model Outputs\n",
    "\n",
    "* charity_docs_emb = matrix of document embedding for each charity (N charities x N glove dimensions[300])\n",
    "* charity_docs_dict = dictionary of words in all mission statements (that werent filtered out) \n",
    "* charity_emb_vecs = glove vectors for all the words in the dictions (N words x N glove dimensions[300]) "
   ]
  },
  {
   "cell_type": "code",
   "execution_count": 149,
   "metadata": {},
   "outputs": [],
   "source": [
    "#Store output in dictionary and save\n",
    "\n",
    "#Charity docs emb\n",
    "charity_model_dict = {'charity_docs_emb': charity_docs_emb, \n",
    "                      'charity_docs_dict': charity_docs_dict,\n",
    "                      'charity_emb_vecs': charity_emb_vecs}\n",
    "\n",
    "save_dir = os.path.join(project_dir,'models','charity')\n",
    "with open(os.path.join(save_dir,'charity_model_min_{}_max_{}_notfidf.pickle'.format(word_min,word_max_perc)), 'wb') as handle:\n",
    "    pickle.dump(charity_model_dict, handle, protocol=pickle.HIGHEST_PROTOCOL)"
   ]
  }
 ],
 "metadata": {
  "kernelspec": {
   "display_name": "Python 3",
   "language": "python",
   "name": "python3"
  },
  "language_info": {
   "codemirror_mode": {
    "name": "ipython",
    "version": 3
   },
   "file_extension": ".py",
   "mimetype": "text/x-python",
   "name": "python",
   "nbconvert_exporter": "python",
   "pygments_lexer": "ipython3",
   "version": "3.6.9"
  }
 },
 "nbformat": 4,
 "nbformat_minor": 4
}
