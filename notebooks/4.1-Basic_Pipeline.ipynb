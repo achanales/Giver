{
 "cells": [
  {
   "cell_type": "code",
   "execution_count": 1,
   "metadata": {},
   "outputs": [
    {
     "name": "stdout",
     "output_type": "stream",
     "text": [
      "Populating the interactive namespace from numpy and matplotlib\n"
     ]
    }
   ],
   "source": [
    "import warnings\n",
    "warnings.filterwarnings('ignore')\n",
    "\n",
    "import pandas as pd\n",
    "import seaborn as sns\n",
    "import matplotlib.pyplot as plt\n",
    "%pylab inline"
   ]
  },
  {
   "cell_type": "code",
   "execution_count": 2,
   "metadata": {},
   "outputs": [
    {
     "name": "stderr",
     "output_type": "stream",
     "text": [
      "[nltk_data] Downloading package stopwords to /Users/avi/nltk_data...\n",
      "[nltk_data]   Package stopwords is already up-to-date!\n"
     ]
    }
   ],
   "source": [
    "import nltk;\n",
    "from nltk.corpus import stopwords;\n",
    "\n",
    "import gensim\n",
    "from gensim.utils import simple_preprocess\n",
    "from gensim.parsing.preprocessing import STOPWORDS\n",
    "from nltk.stem import WordNetLemmatizer, SnowballStemmer\n",
    "from nltk.stem.porter import *\n",
    "import numpy as np\n",
    "np.random.seed(400)\n",
    "\n",
    "nltk.download('stopwords')\n",
    "stemmer = SnowballStemmer(\"english\")"
   ]
  },
  {
   "cell_type": "code",
   "execution_count": 3,
   "metadata": {},
   "outputs": [],
   "source": [
    "import gensim\n",
    "from gensim.utils import simple_preprocess\n",
    "from gensim.parsing.preprocessing import STOPWORDS\n",
    "from nltk.stem import WordNetLemmatizer, SnowballStemmer\n",
    "from gensim.corpora import Dictionary\n",
    "from gensim.models.tfidfmodel import TfidfModel\n",
    "from gensim.matutils import sparse2full\n",
    "from nltk.stem.porter import *\n",
    "import numpy as np\n",
    "np.random.seed(400)\n",
    "\n",
    "import spacy\n",
    "nlp  = spacy.load('en_core_web_md')"
   ]
  },
  {
   "cell_type": "code",
   "execution_count": 4,
   "metadata": {},
   "outputs": [],
   "source": [
    "from sklearn.cluster import KMeans"
   ]
  },
  {
   "cell_type": "markdown",
   "metadata": {},
   "source": [
    "## 0.0 Load Data"
   ]
  },
  {
   "cell_type": "code",
   "execution_count": 5,
   "metadata": {},
   "outputs": [],
   "source": [
    "file_name = '/Users/avi/Dropbox/Insight/Project/insight_project/data/interim/charity_data_cleaned_temp.csv'\n",
    "all_charity = pd.read_csv(file_name)"
   ]
  },
  {
   "cell_type": "markdown",
   "metadata": {},
   "source": [
    "## 1.0 Pre-process raw text (lamentize and remove stopwords) "
   ]
  },
  {
   "cell_type": "code",
   "execution_count": 6,
   "metadata": {},
   "outputs": [],
   "source": [
    "def lemmatize_stemming(text):\n",
    "    return stemmer.stem(WordNetLemmatizer().lemmatize(text, pos='v'))\n",
    "\n",
    "# Tokenize and lemmatize\n",
    "def preprocess(text):\n",
    "    result=[]\n",
    "    for token in gensim.utils.simple_preprocess(text) :\n",
    "        if token not in gensim.parsing.preprocessing.STOPWORDS and len(token) > 3:\n",
    "            result.append(lemmatize_stemming(token))\n",
    "            \n",
    "    return result\n",
    "\n",
    "def preprocess_docs(docs):\n",
    "    result = []\n",
    "    \n",
    "    for doc in docs:\n",
    "        result.append(preprocess(doc))\n",
    "    \n",
    "    return result"
   ]
  },
  {
   "cell_type": "code",
   "execution_count": 26,
   "metadata": {},
   "outputs": [],
   "source": [
    "mission_text = all_charity['description'].astype('str')\n",
    "\n",
    "#Preprocess mission descriptions\n",
    "mission_text_pre = preprocess_docs(mission_text)"
   ]
  },
  {
   "cell_type": "markdown",
   "metadata": {},
   "source": [
    "## 2.0 Convert pre-processed text to vectors and embed"
   ]
  },
  {
   "cell_type": "code",
   "execution_count": 36,
   "metadata": {},
   "outputs": [],
   "source": [
    "docs_dict = Dictionary(mission_text_pre)"
   ]
  },
  {
   "cell_type": "code",
   "execution_count": 29,
   "metadata": {},
   "outputs": [
    {
     "data": {
      "text/plain": [
       "12805"
      ]
     },
     "execution_count": 29,
     "metadata": {},
     "output_type": "execute_result"
    }
   ],
   "source": [
    "len(docs_dict)"
   ]
  },
  {
   "cell_type": "code",
   "execution_count": 40,
   "metadata": {},
   "outputs": [],
   "source": [
    "docs_dict.filter_extremes(no_below=3, no_above=.8)"
   ]
  },
  {
   "cell_type": "code",
   "execution_count": 42,
   "metadata": {},
   "outputs": [
    {
     "data": {
      "text/plain": [
       "6367"
      ]
     },
     "execution_count": 42,
     "metadata": {},
     "output_type": "execute_result"
    }
   ],
   "source": [
    "len(docs_dict)"
   ]
  },
  {
   "cell_type": "code",
   "execution_count": 43,
   "metadata": {},
   "outputs": [],
   "source": [
    "docs_dict.compactify()"
   ]
  },
  {
   "cell_type": "code",
   "execution_count": 45,
   "metadata": {},
   "outputs": [],
   "source": [
    "docs_corpus = [docs_dict.doc2bow(doc) for doc in mission_text_pre]"
   ]
  },
  {
   "cell_type": "code",
   "execution_count": 47,
   "metadata": {},
   "outputs": [],
   "source": [
    "docs_vecs   = np.vstack([sparse2full(c, len(docs_dict)) for c in docs_corpus])"
   ]
  },
  {
   "cell_type": "code",
   "execution_count": 49,
   "metadata": {},
   "outputs": [
    {
     "data": {
      "text/plain": [
       "(8370, 6367)"
      ]
     },
     "execution_count": 49,
     "metadata": {},
     "output_type": "execute_result"
    }
   ],
   "source": [
    "np.shape(docs_vecs)"
   ]
  },
  {
   "cell_type": "code",
   "execution_count": 50,
   "metadata": {},
   "outputs": [
    {
     "data": {
      "text/plain": [
       "array([1., 0., 1., ..., 0., 0., 0.], dtype=float32)"
      ]
     },
     "execution_count": 50,
     "metadata": {},
     "output_type": "execute_result"
    }
   ],
   "source": [
    "docs_vecs[1,:]"
   ]
  },
  {
   "cell_type": "code",
   "execution_count": 52,
   "metadata": {},
   "outputs": [],
   "source": [
    "#For each word in dict obtain embedding vector (Glove vectors)\n",
    "tfidf_emb_vecs = np.vstack([nlp(docs_dict[i]).vector for i in range(len(docs_dict))])\n",
    "docs_emb = np.dot(docs_vecs, tfidf_emb_vecs) "
   ]
  },
  {
   "cell_type": "code",
   "execution_count": 53,
   "metadata": {},
   "outputs": [],
   "source": [
    "def word_embed_charity_glove(processed_docs,word_min=5, word_max_perc=.8 ):\n",
    "    \n",
    "    'Assumes docs have already been pre-processed'\n",
    "    \n",
    "    #Create dictionary from corpus\n",
    "    docs_dict = Dictionary(processed_docs)\n",
    "    docs_dict.filter_extremes(no_below=word_min, no_above=word_max_perc)\n",
    "    docs_dict.compactify()\n",
    "    \n",
    "    #Convert docs into tf-idf vectors\n",
    "    docs_corpus = [docs_dict.doc2bow(doc) for doc in processed_docs]\n",
    "    docs_vecs   = np.vstack([sparse2full(c, len(docs_dict)) for c in docs_corpus])\n",
    "    \n",
    "    num_docs= np.shape(docs_vecs)[0]\n",
    "    num_words = np.shape(docs_vecs)[1]\n",
    "\n",
    "    print(\"Total # of docs: {}\".format(num_docs))\n",
    "    print(\"Total # of words in dict: {}\".format(num_words))\n",
    "    \n",
    "    #For each word in dict obtain embedding vector (Glove vectors)\n",
    "    emb_vecs = np.vstack([nlp(docs_dict[i]).vector for i in range(len(docs_dict))])\n",
    "    \n",
    "    # Weight glove vectors by tf-idf values\n",
    "    docs_emb = np.dot(docs_vecs, emb_vecs) \n",
    "        \n",
    "    return docs_emb"
   ]
  },
  {
   "cell_type": "code",
   "execution_count": 8,
   "metadata": {},
   "outputs": [],
   "source": [
    "def word_embed_charity_tfidf(processed_docs,word_min=5, word_max_perc=.2 ):\n",
    "    \n",
    "    'Assumes docs have already been pre-processed'\n",
    "    \n",
    "    #Create dictionary from corpus\n",
    "    docs_dict = Dictionary(processed_docs)\n",
    "    docs_dict.filter_extremes(no_below=word_min, no_above=word_max_perc)\n",
    "    docs_dict.compactify()\n",
    "    \n",
    "    #Convert docs into tf-idf vectors\n",
    "    docs_corpus = [docs_dict.doc2bow(doc) for doc in processed_docs]\n",
    "    model_tfidf = TfidfModel(docs_corpus, id2word=docs_dict)\n",
    "    docs_tfidf  = model_tfidf[docs_corpus]\n",
    "    docs_vecs   = np.vstack([sparse2full(c, len(docs_dict)) for c in docs_tfidf])\n",
    "    \n",
    "    num_docs= np.shape(docs_vecs)[0]\n",
    "    num_words = np.shape(docs_vecs)[1]\n",
    "\n",
    "    print(\"Total # of docs: {}\".format(num_docs))\n",
    "    print(\"Total # of words in dict: {}\".format(num_words))\n",
    "    \n",
    "    #For each word in dict obtain embedding vector (Glove vectors)\n",
    "    tfidf_emb_vecs = np.vstack([nlp(docs_dict[i]).vector for i in range(len(docs_dict))])\n",
    "    \n",
    "    # Weight glove vectors by tf-idf values\n",
    "    docs_emb = np.dot(docs_vecs, tfidf_emb_vecs) \n",
    "        \n",
    "    return docs_emb, docs_dict, model_tfidf, tfidf_emb_vecs"
   ]
  },
  {
   "cell_type": "code",
   "execution_count": 9,
   "metadata": {},
   "outputs": [
    {
     "name": "stdout",
     "output_type": "stream",
     "text": [
      "Total # of docs: 8370\n",
      "Total # of words in dict: 3749\n"
     ]
    }
   ],
   "source": [
    "charity_docs_emb, charity_docs_dict, charity_model_tfidf, charity_tfidf_emb_vecs = word_embed_charity(mission_text_pre,word_min=5, word_max_perc=.2 )"
   ]
  },
  {
   "cell_type": "code",
   "execution_count": 12,
   "metadata": {},
   "outputs": [
    {
     "data": {
      "text/plain": [
       "3749"
      ]
     },
     "execution_count": 12,
     "metadata": {},
     "output_type": "execute_result"
    }
   ],
   "source": [
    "len(charity_docs_dict)"
   ]
  },
  {
   "cell_type": "code",
   "execution_count": 13,
   "metadata": {},
   "outputs": [
    {
     "data": {
      "text/plain": [
       "(3749, 300)"
      ]
     },
     "execution_count": 13,
     "metadata": {},
     "output_type": "execute_result"
    }
   ],
   "source": [
    "np.shape(charity_tfidf_emb_vecs)"
   ]
  },
  {
   "cell_type": "code",
   "execution_count": null,
   "metadata": {},
   "outputs": [
    {
     "name": "stdout",
     "output_type": "stream",
     "text": [
      "Total # of docs: 8370\n",
      "Total # of words in dict: 12805\n"
     ]
    }
   ],
   "source": [
    "charity_docs_emb_glove = word_embed_charity_glove(mission_text_pre,word_min=0, word_max_perc=1 )"
   ]
  },
  {
   "cell_type": "markdown",
   "metadata": {},
   "source": [
    "## 3.0 Run Model"
   ]
  },
  {
   "cell_type": "code",
   "execution_count": 23,
   "metadata": {},
   "outputs": [],
   "source": [
    "def run_kmeans(n_clusters,docs_emb,max_iter = 500, n_init=15):\n",
    "    \n",
    "    model = KMeans(n_clusters=n_clusters, init='k-means++', max_iter=max_iter, n_init=n_init)\n",
    "    model.fit(docs_emb)\n",
    "    \n",
    "    return model"
   ]
  },
  {
   "cell_type": "code",
   "execution_count": 193,
   "metadata": {},
   "outputs": [],
   "source": [
    "model = run_kmeans(11,charity_docs_emb,max_iter = 500, n_init=15)"
   ]
  },
  {
   "cell_type": "code",
   "execution_count": 99,
   "metadata": {},
   "outputs": [],
   "source": [
    "all_charity['kmeans_11'] = model.labels_"
   ]
  },
  {
   "cell_type": "markdown",
   "metadata": {},
   "source": [
    "## 4.0 Preprocess Article"
   ]
  },
  {
   "cell_type": "code",
   "execution_count": 14,
   "metadata": {},
   "outputs": [
    {
     "ename": "KeyboardInterrupt",
     "evalue": "",
     "output_type": "error",
     "traceback": [
      "\u001b[0;31m---------------------------------------------------------------------------\u001b[0m",
      "\u001b[0;31mKeyboardInterrupt\u001b[0m                         Traceback (most recent call last)",
      "\u001b[0;32m<ipython-input-14-68172fa35826>\u001b[0m in \u001b[0;36m<module>\u001b[0;34m()\u001b[0m\n\u001b[1;32m      1\u001b[0m \u001b[0mfile_name\u001b[0m \u001b[0;34m=\u001b[0m \u001b[0;34m'/Users/avi/Dropbox/Insight/Project/raw_data/news_data_all.csv'\u001b[0m\u001b[0;34m\u001b[0m\u001b[0;34m\u001b[0m\u001b[0m\n\u001b[0;32m----> 2\u001b[0;31m \u001b[0mall_news\u001b[0m \u001b[0;34m=\u001b[0m \u001b[0mpd\u001b[0m\u001b[0;34m.\u001b[0m\u001b[0mread_csv\u001b[0m\u001b[0;34m(\u001b[0m\u001b[0mfile_name\u001b[0m\u001b[0;34m)\u001b[0m\u001b[0;34m\u001b[0m\u001b[0;34m\u001b[0m\u001b[0m\n\u001b[0m",
      "\u001b[0;32m~/anaconda/envs/insight/lib/python3.6/site-packages/pandas/io/parsers.py\u001b[0m in \u001b[0;36mparser_f\u001b[0;34m(filepath_or_buffer, sep, delimiter, header, names, index_col, usecols, squeeze, prefix, mangle_dupe_cols, dtype, engine, converters, true_values, false_values, skipinitialspace, skiprows, nrows, na_values, keep_default_na, na_filter, verbose, skip_blank_lines, parse_dates, infer_datetime_format, keep_date_col, date_parser, dayfirst, iterator, chunksize, compression, thousands, decimal, lineterminator, quotechar, quoting, escapechar, comment, encoding, dialect, tupleize_cols, error_bad_lines, warn_bad_lines, skipfooter, doublequote, delim_whitespace, low_memory, memory_map, float_precision)\u001b[0m\n\u001b[1;32m    676\u001b[0m                     skip_blank_lines=skip_blank_lines)\n\u001b[1;32m    677\u001b[0m \u001b[0;34m\u001b[0m\u001b[0m\n\u001b[0;32m--> 678\u001b[0;31m         \u001b[0;32mreturn\u001b[0m \u001b[0m_read\u001b[0m\u001b[0;34m(\u001b[0m\u001b[0mfilepath_or_buffer\u001b[0m\u001b[0;34m,\u001b[0m \u001b[0mkwds\u001b[0m\u001b[0;34m)\u001b[0m\u001b[0;34m\u001b[0m\u001b[0;34m\u001b[0m\u001b[0m\n\u001b[0m\u001b[1;32m    679\u001b[0m \u001b[0;34m\u001b[0m\u001b[0m\n\u001b[1;32m    680\u001b[0m     \u001b[0mparser_f\u001b[0m\u001b[0;34m.\u001b[0m\u001b[0m__name__\u001b[0m \u001b[0;34m=\u001b[0m \u001b[0mname\u001b[0m\u001b[0;34m\u001b[0m\u001b[0;34m\u001b[0m\u001b[0m\n",
      "\u001b[0;32m~/anaconda/envs/insight/lib/python3.6/site-packages/pandas/io/parsers.py\u001b[0m in \u001b[0;36m_read\u001b[0;34m(filepath_or_buffer, kwds)\u001b[0m\n\u001b[1;32m    444\u001b[0m \u001b[0;34m\u001b[0m\u001b[0m\n\u001b[1;32m    445\u001b[0m     \u001b[0;32mtry\u001b[0m\u001b[0;34m:\u001b[0m\u001b[0;34m\u001b[0m\u001b[0;34m\u001b[0m\u001b[0m\n\u001b[0;32m--> 446\u001b[0;31m         \u001b[0mdata\u001b[0m \u001b[0;34m=\u001b[0m \u001b[0mparser\u001b[0m\u001b[0;34m.\u001b[0m\u001b[0mread\u001b[0m\u001b[0;34m(\u001b[0m\u001b[0mnrows\u001b[0m\u001b[0;34m)\u001b[0m\u001b[0;34m\u001b[0m\u001b[0;34m\u001b[0m\u001b[0m\n\u001b[0m\u001b[1;32m    447\u001b[0m     \u001b[0;32mfinally\u001b[0m\u001b[0;34m:\u001b[0m\u001b[0;34m\u001b[0m\u001b[0;34m\u001b[0m\u001b[0m\n\u001b[1;32m    448\u001b[0m         \u001b[0mparser\u001b[0m\u001b[0;34m.\u001b[0m\u001b[0mclose\u001b[0m\u001b[0;34m(\u001b[0m\u001b[0;34m)\u001b[0m\u001b[0;34m\u001b[0m\u001b[0;34m\u001b[0m\u001b[0m\n",
      "\u001b[0;32m~/anaconda/envs/insight/lib/python3.6/site-packages/pandas/io/parsers.py\u001b[0m in \u001b[0;36mread\u001b[0;34m(self, nrows)\u001b[0m\n\u001b[1;32m   1034\u001b[0m                 \u001b[0;32mraise\u001b[0m \u001b[0mValueError\u001b[0m\u001b[0;34m(\u001b[0m\u001b[0;34m'skipfooter not supported for iteration'\u001b[0m\u001b[0;34m)\u001b[0m\u001b[0;34m\u001b[0m\u001b[0;34m\u001b[0m\u001b[0m\n\u001b[1;32m   1035\u001b[0m \u001b[0;34m\u001b[0m\u001b[0m\n\u001b[0;32m-> 1036\u001b[0;31m         \u001b[0mret\u001b[0m \u001b[0;34m=\u001b[0m \u001b[0mself\u001b[0m\u001b[0;34m.\u001b[0m\u001b[0m_engine\u001b[0m\u001b[0;34m.\u001b[0m\u001b[0mread\u001b[0m\u001b[0;34m(\u001b[0m\u001b[0mnrows\u001b[0m\u001b[0;34m)\u001b[0m\u001b[0;34m\u001b[0m\u001b[0;34m\u001b[0m\u001b[0m\n\u001b[0m\u001b[1;32m   1037\u001b[0m \u001b[0;34m\u001b[0m\u001b[0m\n\u001b[1;32m   1038\u001b[0m         \u001b[0;31m# May alter columns / col_dict\u001b[0m\u001b[0;34m\u001b[0m\u001b[0;34m\u001b[0m\u001b[0;34m\u001b[0m\u001b[0m\n",
      "\u001b[0;32m~/anaconda/envs/insight/lib/python3.6/site-packages/pandas/io/parsers.py\u001b[0m in \u001b[0;36mread\u001b[0;34m(self, nrows)\u001b[0m\n\u001b[1;32m   1846\u001b[0m     \u001b[0;32mdef\u001b[0m \u001b[0mread\u001b[0m\u001b[0;34m(\u001b[0m\u001b[0mself\u001b[0m\u001b[0;34m,\u001b[0m \u001b[0mnrows\u001b[0m\u001b[0;34m=\u001b[0m\u001b[0;32mNone\u001b[0m\u001b[0;34m)\u001b[0m\u001b[0;34m:\u001b[0m\u001b[0;34m\u001b[0m\u001b[0;34m\u001b[0m\u001b[0m\n\u001b[1;32m   1847\u001b[0m         \u001b[0;32mtry\u001b[0m\u001b[0;34m:\u001b[0m\u001b[0;34m\u001b[0m\u001b[0;34m\u001b[0m\u001b[0m\n\u001b[0;32m-> 1848\u001b[0;31m             \u001b[0mdata\u001b[0m \u001b[0;34m=\u001b[0m \u001b[0mself\u001b[0m\u001b[0;34m.\u001b[0m\u001b[0m_reader\u001b[0m\u001b[0;34m.\u001b[0m\u001b[0mread\u001b[0m\u001b[0;34m(\u001b[0m\u001b[0mnrows\u001b[0m\u001b[0;34m)\u001b[0m\u001b[0;34m\u001b[0m\u001b[0;34m\u001b[0m\u001b[0m\n\u001b[0m\u001b[1;32m   1849\u001b[0m         \u001b[0;32mexcept\u001b[0m \u001b[0mStopIteration\u001b[0m\u001b[0;34m:\u001b[0m\u001b[0;34m\u001b[0m\u001b[0;34m\u001b[0m\u001b[0m\n\u001b[1;32m   1850\u001b[0m             \u001b[0;32mif\u001b[0m \u001b[0mself\u001b[0m\u001b[0;34m.\u001b[0m\u001b[0m_first_chunk\u001b[0m\u001b[0;34m:\u001b[0m\u001b[0;34m\u001b[0m\u001b[0;34m\u001b[0m\u001b[0m\n",
      "\u001b[0;32mpandas/_libs/parsers.pyx\u001b[0m in \u001b[0;36mpandas._libs.parsers.TextReader.read\u001b[0;34m()\u001b[0m\n",
      "\u001b[0;32mpandas/_libs/parsers.pyx\u001b[0m in \u001b[0;36mpandas._libs.parsers.TextReader._read_low_memory\u001b[0;34m()\u001b[0m\n",
      "\u001b[0;32mpandas/_libs/parsers.pyx\u001b[0m in \u001b[0;36mpandas._libs.parsers.TextReader._read_rows\u001b[0;34m()\u001b[0m\n",
      "\u001b[0;32mpandas/_libs/parsers.pyx\u001b[0m in \u001b[0;36mpandas._libs.parsers.TextReader._convert_column_data\u001b[0;34m()\u001b[0m\n",
      "\u001b[0;32mpandas/_libs/parsers.pyx\u001b[0m in \u001b[0;36mpandas._libs.parsers.TextReader._convert_tokens\u001b[0;34m()\u001b[0m\n",
      "\u001b[0;32mpandas/_libs/parsers.pyx\u001b[0m in \u001b[0;36mpandas._libs.parsers.TextReader._convert_with_dtype\u001b[0;34m()\u001b[0m\n",
      "\u001b[0;32m~/anaconda/envs/insight/lib/python3.6/site-packages/pandas/core/dtypes/common.py\u001b[0m in \u001b[0;36mis_integer_dtype\u001b[0;34m(arr_or_dtype)\u001b[0m\n\u001b[1;32m    809\u001b[0m \u001b[0;34m\u001b[0m\u001b[0m\n\u001b[1;32m    810\u001b[0m \u001b[0;34m\u001b[0m\u001b[0m\n\u001b[0;32m--> 811\u001b[0;31m \u001b[0;32mdef\u001b[0m \u001b[0mis_integer_dtype\u001b[0m\u001b[0;34m(\u001b[0m\u001b[0marr_or_dtype\u001b[0m\u001b[0;34m)\u001b[0m\u001b[0;34m:\u001b[0m\u001b[0;34m\u001b[0m\u001b[0;34m\u001b[0m\u001b[0m\n\u001b[0m\u001b[1;32m    812\u001b[0m     \"\"\"\n\u001b[1;32m    813\u001b[0m     \u001b[0mCheck\u001b[0m \u001b[0mwhether\u001b[0m \u001b[0mthe\u001b[0m \u001b[0mprovided\u001b[0m \u001b[0marray\u001b[0m \u001b[0;32mor\u001b[0m \u001b[0mdtype\u001b[0m \u001b[0;32mis\u001b[0m \u001b[0mof\u001b[0m \u001b[0man\u001b[0m \u001b[0minteger\u001b[0m \u001b[0mdtype\u001b[0m\u001b[0;34m.\u001b[0m\u001b[0;34m\u001b[0m\u001b[0;34m\u001b[0m\u001b[0m\n",
      "\u001b[0;31mKeyboardInterrupt\u001b[0m: "
     ]
    }
   ],
   "source": [
    "file_name = '/Users/avi/Dropbox/Insight/Project/raw_data/news_data_all.csv'\n",
    "all_news = pd.read_csv(file_name)"
   ]
  },
  {
   "cell_type": "code",
   "execution_count": 15,
   "metadata": {},
   "outputs": [],
   "source": [
    "text= 'PITTSBURGH — Armed with an AR-15-style assault rifle and at least three handguns, a man shouting anti-Semitic slurs opened fire inside a Pittsburgh synagogue Saturday morning, killing at least 11 congregants and wounding four police officers and two others, the authorities said. In a rampage described as among the deadliest against the Jewish community in the United States, the assailant stormed into the Tree of Life Congregation, where worshipers had gathered in separate rooms to celebrate their faith, and shot indiscriminately into the crowd, shattering what had otherwise been a peaceful morning. The assailant, identified by law enforcement officials as Robert D. Bowers, fired for several minutes and was leaving the synagogue when officers, dressed in tactical gear and armed with rifles, met him at the door. According to the police, Mr. Bowers exchanged gunfire with officers before retreating back inside and barricading himself inside a third-floor room. He eventually surrendered. Mr. Bowers, 46, was injured by gunfire, although the authorities said it was unclear whether those wounds were self-inflicted or whether the police had shot him. He was taken to Allegheny General Hospital. Federal officials charged Mr. Bowers with 29 criminal counts. They included obstructing the free exercise of religious beliefs — a hate crime — and using a firearm to commit murder. He also faces state charges, including 11 counts of criminal homicide, six counts of aggravated assault and 13 counts of ethnic intimidation. The authorities said that he had no previous criminal history.Though a bris, a ceremony to mark a child’s birth, was among the ceremonies taking place Saturday, no children were among the casualties, law enforcement officials said. The wounded included a 70-year-old man who had been shot in the torso, and a 61-year-old woman with soft tissue wounds, said Dr. Donald Yealy, chairman of emergency medicine at the University of Pittsburgh School of Medicine. The attack Saturday morning struck the heart of the city’s vibrant Jewish community, in the leafy Squirrel Hill neighborhood that is home to several synagogues, kosher restaurants and bakeries. Hours later, hundreds gathered at three separate interfaith vigils on a cold, rainy evening to mourn the dead and pray for the wounded. The assault on the synagogue unfolded on a quiet, drizzly morning, and came amid a bitter, vitriolic midterm election season and against the backdrop of what appears to be a surge in hate-related speech and crimes across America. It also took place in the wake of the arrest Friday morning of a man who the authorities said sent more than a dozen pipe bombs to critics of Mr. Trump, including several high-profile Democrats. Calling it the  most horrific crime scene  he had seen in 22 years with the F.B.I., Robert Jones, special agent in charge in Pittsburgh, said the synagogue was in the midst of a  peaceful service  when congregants were gunned down and  brutally murdered by a gunman targeting them simply because of their faith.   We simply cannot accept this violence as a normal part of American life,  said Gov. Tom Wolf of Pennsylvania, speaking at a news conference Saturday afternoon in Pittsburgh.  These senseless acts of violence are not who we are as Pennsylvanians and are not who we are as Americans.  The anguish of Saturday’s massacre heightened a sense of national unease over increasingly hostile political rhetoric. Critics of President Trump have argued that he is partly to blame for recent acts of violence because he has been stirring the pot of nationalism, on Twitter and at his rallies, charges that Mr. Trump has denied. About Saturday’s attack, Mr. Trump, addressing reporters at Joint Base Andrews, said:  It’s a terrible, terrible thing what’s going on with hate in our country and frankly all over the world, and something has to be done.   The results are very devastating,  he said, adding that if the temple  had some kind of protection  then  it could have been a much different situation.  Later, speaking to reporters as he got off Air Force One in Illinois, Mr. Trump said he planned to visit Pittsburgh but he did not say when. Leaders in the United States and across the world condemned the attack. Prime Minister Benjamin Netanyahu of Israel said he was  heartbroken and appalled  and that the  the entire people of Israel grieve with the families of the dead.  Attorney General Jeff Sessions said that criminal charges by the Justice Department  could lead to the death penalty.   Hatred and violence on the basis of religion can have no place in our society,  Mr. Sessions said.  Every American has the right to attend their house of worship in safety.  The massacre Saturday was at least the third mass shooting in a house of worship in three years. Last November, a gunman killed 26 worshipers at a church in Sutherland Springs, Tex., and in 2015, a white supremacist killed nine congregants in a church in Charleston, S.C. It came amid rising anxiety about illegal immigration and in a decade that has seen an uptick in hate crimes. According to an annual report by the Anti-Defamation League issued earlier this year, the number of reported anti-Semitic incidents in the United States surged 57 percent in 2017, the largest rise in a single year since the A.D.L. began tracking such crimes in 1979. The attack also was a deep and painful blow to the Jewish community in the United States, and came just days after George Soros, the billionaire philanthropist and major donor to Democratic candidates, who is Jewish and who survived Nazi occupation in Hungary, received a pipe bomb in the mail. Also in the past week, a Senate campaign sign for Josh Hawley, attorney general of Missouri, was sprayed with a swastika.'"
   ]
  },
  {
   "cell_type": "code",
   "execution_count": 125,
   "metadata": {},
   "outputs": [],
   "source": [
    "def df_topic(df, search_term):\n",
    "    df['topic'] = all_news['content'].str.find(search_term)\n",
    "    df_sub = df[df['topic']>-1]\n",
    "    articles = df_sub['content'].astype('str')\n",
    "    return articles"
   ]
  },
  {
   "cell_type": "code",
   "execution_count": 126,
   "metadata": {},
   "outputs": [],
   "source": [
    "cc = df_topic(all_news,'climate change')\n",
    "homeless = df_topic(all_news,'homeless')\n",
    "jewish = df_topic(all_news,'jew')"
   ]
  },
  {
   "cell_type": "code",
   "execution_count": 187,
   "metadata": {},
   "outputs": [],
   "source": [
    "del all_news"
   ]
  },
  {
   "cell_type": "code",
   "execution_count": 115,
   "metadata": {},
   "outputs": [],
   "source": [
    "def word_embed_articles(processed_docs,doc_dict,model_tfidf,tfidf_emb_vecs):\n",
    "    \n",
    "    #Convert docs into tf-idf vectors\n",
    "    docs_corpus = [docs_dict.doc2bow(doc) for doc in processed_docs]\n",
    "    docs_tfidf  = model_tfidf[docs_corpus]\n",
    "    docs_vecs   = np.vstack([sparse2full(c, len(docs_dict)) for c in docs_tfidf])\n",
    "    \n",
    "    # sum of glove vectors linearlly weighted by tfidf \n",
    "    art_emb = np.dot(docs_vecs, tfidf_emb_vecs)\n",
    "    \n",
    "    return art_emb"
   ]
  },
  {
   "cell_type": "code",
   "execution_count": 174,
   "metadata": {},
   "outputs": [],
   "source": [
    "def process_predict_articles(df, model):\n",
    "    df_content = df['content'].astype('str')\n",
    "    df_pre = preprocess_docs(df_content)\n",
    "    art_embs = word_embed_articles(df_pre,charity_docs_dict,charity_model_tfidf,charity_tfidf_emb_vecs)\n",
    "    \n",
    "    predictions = model.predict(art_embs)\n",
    "    \n",
    "    df['cluster_predictions'] = predictions\n",
    "    \n",
    "    return df\n",
    "    "
   ]
  },
  {
   "cell_type": "code",
   "execution_count": 182,
   "metadata": {},
   "outputs": [],
   "source": [
    "def plot_cluster_pred_dist(df):\n",
    "    df_prediction_dist = df.groupby('cluster_predictions')['index'].count().reset_index()\n",
    "    \n",
    "    sns.catplot(y='index',x='cluster_predictions',kind = 'bar', data = df_prediction_dist)\n",
    "    \n",
    "    "
   ]
  },
  {
   "cell_type": "code",
   "execution_count": 197,
   "metadata": {},
   "outputs": [
    {
     "data": {
      "image/png": "[encoded data removed]",
      "text/plain": [
       "<Figure size 360x360 with 1 Axes>"
      ]
     },
     "metadata": {
      "needs_background": "light"
     },
     "output_type": "display_data"
    }
   ],
   "source": [
    "cc_predict = process_predict_articles(cc,model)\n",
    "plot_cluster_pred_dist(cc_predict)"
   ]
  },
  {
   "cell_type": "code",
   "execution_count": 194,
   "metadata": {},
   "outputs": [
    {
     "data": {
      "image/png": "[encoded data removed]",
      "text/plain": [
       "<Figure size 360x360 with 1 Axes>"
      ]
     },
     "metadata": {
      "needs_background": "light"
     },
     "output_type": "display_data"
    }
   ],
   "source": [
    "homeless_predict = process_predict_articles(homeless,model)\n",
    "plot_cluster_pred_dist(homeless_predict)"
   ]
  },
  {
   "cell_type": "code",
   "execution_count": 195,
   "metadata": {},
   "outputs": [
    {
     "data": {
      "image/png": "[encoded data removed]",
      "text/plain": [
       "<Figure size 360x360 with 1 Axes>"
      ]
     },
     "metadata": {
      "needs_background": "light"
     },
     "output_type": "display_data"
    }
   ],
   "source": [
    "jewish_predict = process_predict_articles(jewish,model)\n",
    "plot_cluster_pred_dist(jewish_predict)"
   ]
  },
  {
   "cell_type": "code",
   "execution_count": 198,
   "metadata": {},
   "outputs": [
    {
     "data": {
      "text/plain": [
       "subcategory\n",
       "Adult Education Programs and Services                         16\n",
       "Advocacy and Education                                       110\n",
       "Animal Rights, Welfare, and Services                          72\n",
       "Botanical Gardens, Parks, and Nature Centers                   3\n",
       "Children's and Family Services                               101\n",
       "Community Foundations                                         28\n",
       "Development and Relief Services                               97\n",
       "Diseases, Disorders, and Disciplines                          27\n",
       "Early Childhood Programs and Services                          8\n",
       "Education Policy and Reform                                   16\n",
       "Environmental Protection and Conservation                     33\n",
       "Food Banks, Food Pantries, and Food Distribution              25\n",
       "Homeless Services                                             53\n",
       "Housing and Neighborhood Development                          47\n",
       "Humanitarian Relief Supplies                                  19\n",
       "International Peace, Security, and Affairs                    40\n",
       "Libraries, Historical Societies and Landmark Preservation     21\n",
       "Medical Research                                              17\n",
       "Multipurpose Human Service Organizations                      61\n",
       "Museums                                                       36\n",
       "Non-Medical Science & Technology Research                     11\n",
       "Patient and Family Support                                    53\n",
       "Performing Arts                                               24\n",
       "Public Broadcasting and Media                                 21\n",
       "Religious Activities                                          54\n",
       "Religious Media and Broadcasting                              12\n",
       "Scholarship and Financial Support                             40\n",
       "Social Services                                              208\n",
       "Social and Public Policy Research                             57\n",
       "Special Education                                              6\n",
       "Treatment and Prevention Services                             49\n",
       "United Ways                                                   92\n",
       "Wildlife Conservation                                         20\n",
       "Youth Development, Shelter, and Crisis Services               77\n",
       "Youth Education Programs and Services                         46\n",
       "Zoos and Aquariums                                             4\n",
       "Name: ein, dtype: int64"
      ]
     },
     "execution_count": 198,
     "metadata": {},
     "output_type": "execute_result"
    }
   ],
   "source": [
    "charity_cluster = all_charity[all_charity['kmeans_11'] == 0]\n",
    "charity_cluster.groupby('subcategory')['ein'].count()"
   ]
  }
 ],
 "metadata": {
  "kernelspec": {
   "display_name": "Python 3",
   "language": "python",
   "name": "python3"
  },
  "language_info": {
   "codemirror_mode": {
    "name": "ipython",
    "version": 3
   },
   "file_extension": ".py",
   "mimetype": "text/x-python",
   "name": "python",
   "nbconvert_exporter": "python",
   "pygments_lexer": "ipython3",
   "version": "3.6.9"
  }
 },
 "nbformat": 4,
 "nbformat_minor": 2
}
